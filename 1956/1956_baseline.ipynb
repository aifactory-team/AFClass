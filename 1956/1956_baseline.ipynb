{
  "nbformat": 4,
  "nbformat_minor": 0,
  "metadata": {
    "colab": {
      "name": "1956_baseline.ipynb",
      "provenance": [],
      "collapsed_sections": []
    },
    "kernelspec": {
      "name": "python3",
      "display_name": "Python 3"
    },
    "language_info": {
      "name": "python"
    }
  },
  "cells": [
    {
      "cell_type": "code",
      "source": [
        "# 데이터를 다운로드 받습니다.\n",
        "\n",
        "!wget https://raw.githubusercontent.com/aifactory-team/AFClass/master/1956/1956_train.csv\n",
        "!wget https://raw.githubusercontent.com/aifactory-team/AFClass/master/1956/1956_test.csv"
      ],
      "metadata": {
        "colab": {
          "base_uri": "https://localhost:8080/"
        },
        "id": "eqvmyaiIi315",
        "outputId": "8d6b32b4-0b0d-4773-929c-8b68aba1f656"
      },
      "execution_count": 1,
      "outputs": [
        {
          "output_type": "stream",
          "name": "stdout",
          "text": [
            "--2022-01-04 14:49:48--  https://raw.githubusercontent.com/aifactory-team/AFClass/master/1956/1956_train.csv\n",
            "Resolving raw.githubusercontent.com (raw.githubusercontent.com)... 185.199.108.133, 185.199.109.133, 185.199.110.133, ...\n",
            "Connecting to raw.githubusercontent.com (raw.githubusercontent.com)|185.199.108.133|:443... connected.\n",
            "HTTP request sent, awaiting response... 200 OK\n",
            "Length: 60982 (60K) [text/plain]\n",
            "Saving to: ‘1956_train.csv’\n",
            "\n",
            "1956_train.csv      100%[===================>]  59.55K  --.-KB/s    in 0.008s  \n",
            "\n",
            "2022-01-04 14:49:49 (7.43 MB/s) - ‘1956_train.csv’ saved [60982/60982]\n",
            "\n",
            "--2022-01-04 14:49:49--  https://raw.githubusercontent.com/aifactory-team/AFClass/master/1956/1956_test.csv\n",
            "Resolving raw.githubusercontent.com (raw.githubusercontent.com)... 185.199.108.133, 185.199.109.133, 185.199.110.133, ...\n",
            "Connecting to raw.githubusercontent.com (raw.githubusercontent.com)|185.199.108.133|:443... connected.\n",
            "HTTP request sent, awaiting response... 200 OK\n",
            "Length: 28541 (28K) [text/plain]\n",
            "Saving to: ‘1956_test.csv’\n",
            "\n",
            "1956_test.csv       100%[===================>]  27.87K  --.-KB/s    in 0.001s  \n",
            "\n",
            "2022-01-04 14:49:49 (20.4 MB/s) - ‘1956_test.csv’ saved [28541/28541]\n",
            "\n"
          ]
        }
      ]
    },
    {
      "cell_type": "code",
      "source": [
        "# 모델을 학습합니다.\n",
        "\n",
        "import pandas as pd \n",
        "import numpy as np \n",
        "from sklearn.preprocessing import StandardScaler\n",
        "from keras.layers import Dense\n",
        "from keras.models import Sequential\n",
        "\n",
        "def assign_sex(row):\n",
        "\tif row['Sex'] == 'male':\n",
        "\t\treturn 1\n",
        "\telse:\n",
        "\t\treturn 0\n",
        "\n",
        "train_data = pd.read_csv(\"1956_train.csv\", sep=\",\")\n",
        "train_data = train_data.drop([\"PassengerId\", \"Name\", \"Cabin\", \"Embarked\", \"Ticket\", \"Fare\"], axis=1)\n",
        "train_data['Sex'] = train_data.apply(assign_sex, axis=1)\n",
        "train_data.fillna(0, inplace=True)\n",
        "\n",
        "x = np.array(train_data.iloc[:, 1:])\n",
        "y = np.array(train_data.Survived)\n",
        "\n",
        "model = Sequential()\n",
        "model.add(Dense(12, activation='relu', input_shape=(5,)))\n",
        "model.add(Dense(8, activation='relu'))\n",
        "model.add(Dense(1, activation='sigmoid'))\n",
        "\n",
        "model.compile(loss='binary_crossentropy',\n",
        "\t\t\t   optimizer='adam',\n",
        "\t\t\t   metrics=['accuracy'])\n",
        "\n",
        "model.fit(x, y, epochs=20, batch_size=1, verbose=1)"
      ],
      "metadata": {
        "colab": {
          "base_uri": "https://localhost:8080/"
        },
        "id": "hRWB8_NJbZhw",
        "outputId": "86946121-dab9-4668-ffc1-4d88e9f7319b"
      },
      "execution_count": 2,
      "outputs": [
        {
          "output_type": "stream",
          "name": "stdout",
          "text": [
            "Epoch 1/20\n",
            "891/891 [==============================] - 3s 3ms/step - loss: 0.6085 - accuracy: 0.6655\n",
            "Epoch 2/20\n",
            "891/891 [==============================] - 2s 3ms/step - loss: 0.5529 - accuracy: 0.7194\n",
            "Epoch 3/20\n",
            "891/891 [==============================] - 2s 3ms/step - loss: 0.5320 - accuracy: 0.7767\n",
            "Epoch 4/20\n",
            "891/891 [==============================] - 3s 3ms/step - loss: 0.5082 - accuracy: 0.7800\n",
            "Epoch 5/20\n",
            "891/891 [==============================] - 3s 3ms/step - loss: 0.5063 - accuracy: 0.7879\n",
            "Epoch 6/20\n",
            "891/891 [==============================] - 2s 3ms/step - loss: 0.5111 - accuracy: 0.7924\n",
            "Epoch 7/20\n",
            "891/891 [==============================] - 2s 2ms/step - loss: 0.4934 - accuracy: 0.7856\n",
            "Epoch 8/20\n",
            "891/891 [==============================] - 1s 1ms/step - loss: 0.4888 - accuracy: 0.7868\n",
            "Epoch 9/20\n",
            "891/891 [==============================] - 1s 1ms/step - loss: 0.4935 - accuracy: 0.8025\n",
            "Epoch 10/20\n",
            "891/891 [==============================] - 1s 1ms/step - loss: 0.4737 - accuracy: 0.8013\n",
            "Epoch 11/20\n",
            "891/891 [==============================] - 1s 1ms/step - loss: 0.4881 - accuracy: 0.8002\n",
            "Epoch 12/20\n",
            "891/891 [==============================] - 1s 1ms/step - loss: 0.4740 - accuracy: 0.7980\n",
            "Epoch 13/20\n",
            "891/891 [==============================] - 1s 1ms/step - loss: 0.4791 - accuracy: 0.7856\n",
            "Epoch 14/20\n",
            "891/891 [==============================] - 1s 1ms/step - loss: 0.4612 - accuracy: 0.8047\n",
            "Epoch 15/20\n",
            "891/891 [==============================] - 1s 1ms/step - loss: 0.4695 - accuracy: 0.7935\n",
            "Epoch 16/20\n",
            "891/891 [==============================] - 1s 1ms/step - loss: 0.4564 - accuracy: 0.8103\n",
            "Epoch 17/20\n",
            "891/891 [==============================] - 1s 1ms/step - loss: 0.4563 - accuracy: 0.8092\n",
            "Epoch 18/20\n",
            "891/891 [==============================] - 1s 1ms/step - loss: 0.4591 - accuracy: 0.8036\n",
            "Epoch 19/20\n",
            "891/891 [==============================] - 1s 1ms/step - loss: 0.4518 - accuracy: 0.8047\n",
            "Epoch 20/20\n",
            "891/891 [==============================] - 1s 1ms/step - loss: 0.4477 - accuracy: 0.8092\n"
          ]
        },
        {
          "output_type": "execute_result",
          "data": {
            "text/plain": [
              "<keras.callbacks.History at 0x7fe4b40eaf90>"
            ]
          },
          "metadata": {},
          "execution_count": 2
        }
      ]
    },
    {
      "cell_type": "code",
      "source": [
        "# 학습한 모델로 시험셋에 대해서 추론하여, 그 결과를 y_pred.csv로 저장합니다.\n",
        "\n",
        "test_data = pd.read_csv(\"1956_test.csv\", sep=\",\")\n",
        "test_data = test_data.drop([\"Name\", \"Cabin\", \"Embarked\", \"Ticket\", \"Fare\"], axis=1)\n",
        "test_data['Sex'] = test_data.apply(assign_sex, axis=1)\n",
        "test_data.fillna(0, inplace=True)\n",
        "\n",
        "x_test = np.array(test_data.iloc[:, 1:])\n",
        "y_pred = (model.predict(x_test) > 0.5).astype(\"int32\")\n",
        "y_pred = pd.DataFrame(y_pred, columns=['Survived'])\n",
        "submit = pd.concat([test_data[['PassengerId']], y_pred], axis=1)\n",
        "submit.to_csv('y_pred.csv', sep=',', index=False)\n",
        "\n",
        "# 코랩에서 저장된 y_pred.csv로 태스크에 제출합니다."
      ],
      "metadata": {
        "id": "zBVOXPMAblDk"
      },
      "execution_count": 3,
      "outputs": []
    }
  ]
}