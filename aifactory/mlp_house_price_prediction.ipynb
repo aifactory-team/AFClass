{
  "nbformat": 4,
  "nbformat_minor": 0,
  "metadata": {
    "colab": {
      "name": "mlp_house_price_prediction.ipynb",
      "provenance": [],
      "collapsed_sections": []
    },
    "kernelspec": {
      "name": "python3",
      "display_name": "Python 3"
    },
    "accelerator": "GPU"
  },
  "cells": [
    {
      "cell_type": "markdown",
      "metadata": {
        "id": "w837SI6UaVdr"
      },
      "source": [
        "### 문제정의\n",
        "\n",
        "주택 가격을 예측하는 모델을 만들어보겠습니다. 주택 가격에 영향을 미치는 특성(feature)과 해당 주택의 가격을 지도학습으로 모델에 학습시키서, 임의의 특성을 입력하면, 주택 가격을 예측하는 것입니다."
      ]
    },
    {
      "cell_type": "markdown",
      "metadata": {
        "id": "ArC8p6TetDWb"
      },
      "source": [
        "### 데이터셋\n",
        "\n",
        "본 예제에서 사용하는 데이터셋은 케라스에서 제공되는 보스턴 주택 가격 데이터셋을 사용합니다. 상세한 내용은 아래 링크에서 보실 수 있습니다.\n",
        "\n",
        "https://keras.io/api/datasets/boston_housing/\n",
        "\n",
        "특성은 총 13개이며 아래와 같습니다. 범죄율, 방 개수, 세금 등이 보입니다.\n",
        "\n",
        " * CRIM : per capita crime rate by town\n",
        " * ZN : proportion of residential land zoned for lots over 25,000 sq.ft.\n",
        " * INDUS : proportion of non-retail business acres per town\n",
        " * CHAS : Charles River dummy variable (= 1 if tract bounds river; 0 otherwise)\n",
        " * NOX : nitric oxides concentration (parts per 10 million)\n",
        " * RM : average number of rooms per dwelling\n",
        " * AGE : proportion of owner-occupied units built prior to 1940\n",
        " * DIS : weighted distances to five Boston employment centres\n",
        " * RAD : index of accessibility to radial highways\n",
        " * TAX : full-value property-tax rate per $10,000\n",
        " * PTRATIO : pupil-teacher ratio by town\n",
        " * B : 1000(Bk - 0.63)^2 where Bk is the proportion of blacks by town\n",
        " * LSTAT : % lower status of the population\n",
        " \n",
        "학습시키고자 하는 타겟 인자는 아래와 같습니다. 단위가 1000달러인 주택 가격입니다.\n",
        "\n",
        " * MEDV : Median value of owner-occupied homes in $1000's\n",
        "\n",
        "훈련샘플은 404개이고, 시험샘플은 102개입니다. 데이터셋은 케라스 패키지에서 제공되는 것을 사용하겠습니다."
      ]
    },
    {
      "cell_type": "code",
      "metadata": {
        "id": "1YkEIljMZ6b0",
        "colab": {
          "base_uri": "https://localhost:8080/"
        },
        "outputId": "6b5fa6c6-c596-4570-dc4a-9fb9eb81a3a8"
      },
      "source": [
        "from keras.datasets import boston_housing\n",
        "(x_train, y_train), (x_test, y_test) = boston_housing.load_data()"
      ],
      "execution_count": 1,
      "outputs": [
        {
          "output_type": "stream",
          "text": [
            "Downloading data from https://storage.googleapis.com/tensorflow/tf-keras-datasets/boston_housing.npz\n",
            "57344/57026 [==============================] - 0s 0us/step\n",
            "65536/57026 [==================================] - 0s 0us/step\n"
          ],
          "name": "stdout"
        }
      ]
    },
    {
      "cell_type": "markdown",
      "metadata": {
        "id": "Z605__gYbT1Z"
      },
      "source": [
        "데이터셋의 샘플 수와 특성 수를 확인해봅니다."
      ]
    },
    {
      "cell_type": "code",
      "metadata": {
        "colab": {
          "base_uri": "https://localhost:8080/"
        },
        "id": "4hb5gzVPqNwi",
        "outputId": "e73d74cc-6004-41c8-ce8d-55155ffbd784"
      },
      "source": [
        "print(x_train.shape)\n",
        "print(y_train.shape)\n",
        "print(x_test.shape)\n",
        "print(y_test.shape)"
      ],
      "execution_count": 2,
      "outputs": [
        {
          "output_type": "stream",
          "text": [
            "(404, 13)\n",
            "(404,)\n",
            "(102, 13)\n",
            "(102,)\n"
          ],
          "name": "stdout"
        }
      ]
    },
    {
      "cell_type": "markdown",
      "metadata": {
        "id": "8A1JZa2xjD6b"
      },
      "source": [
        "시험셋 샘플 하나를 먼저 확인해보겠습니다."
      ]
    },
    {
      "cell_type": "code",
      "metadata": {
        "colab": {
          "base_uri": "https://localhost:8080/"
        },
        "id": "InLDUV9OqWHd",
        "outputId": "1cab9164-77c4-44dc-bbf2-030e9c52105c"
      },
      "source": [
        "x_test[0]"
      ],
      "execution_count": 3,
      "outputs": [
        {
          "output_type": "execute_result",
          "data": {
            "text/plain": [
              "array([ 18.0846,   0.    ,  18.1   ,   0.    ,   0.679 ,   6.434 ,\n",
              "       100.    ,   1.8347,  24.    , 666.    ,  20.2   ,  27.25  ,\n",
              "        29.05  ])"
            ]
          },
          "metadata": {
            "tags": []
          },
          "execution_count": 3
        }
      ]
    },
    {
      "cell_type": "markdown",
      "metadata": {
        "id": "z_NPDOdbQA3F"
      },
      "source": [
        "머신러닝 모델은 훈련셋을 학습시킨 다음, 추론하는 것이기에 데이터셋에 대한 통계를 확인하는 것이 중요합니다. 훈련셋의 데이터와 라벨를 통합하여 전체 히스토그램을 확인해보겠습니다. 히스토그램은 구간별(x축)로 얼마나 많은 빈도(y축)이 있는 지를 나타낸 것입니다."
      ]
    },
    {
      "cell_type": "code",
      "metadata": {
        "colab": {
          "base_uri": "https://localhost:8080/",
          "height": 607
        },
        "id": "ktdR1ojUsx64",
        "outputId": "24334d60-7ca0-44ef-d508-ed644fa08f10"
      },
      "source": [
        "import numpy as np\n",
        "import pandas as pd\n",
        "\n",
        "train_set = np.concatenate((x_train, np.expand_dims(y_train, axis=-1)), axis=1)\n",
        "train_df = pd.DataFrame(train_set)\n",
        "\n",
        "train_df = train_df.rename(columns={0 : 'CRIM',\n",
        "                                    1 : 'ZN',\n",
        "                                    2 : 'INDUS',\n",
        "                                    3 : 'CHAS',\n",
        "                                    4 : 'NOX',\n",
        "                                    5 : 'RM',\n",
        "                                    6 : 'AGE',\n",
        "                                    7 : 'DIS',\n",
        "                                    8 : 'RAD',\n",
        "                                    9 : 'TAX',\n",
        "                                    10 : 'PTRATIO',\n",
        "                                    11 : 'B',\n",
        "                                    12 : 'LSTAT',\n",
        "                                    13 : 'price'})\n",
        "\n",
        "histo = train_df.hist(figsize = [10, 10])"
      ],
      "execution_count": 4,
      "outputs": [
        {
          "output_type": "display_data",
          "data": {
            "image/png": "[encoded data removed]",
            "text/plain": [
              "<Figure size 720x720 with 16 Axes>"
            ]
          },
          "metadata": {
            "tags": [],
            "needs_background": "light"
          }
        }
      ]
    },
    {
      "cell_type": "markdown",
      "metadata": {
        "id": "DM-p2ET-ayXe"
      },
      "source": [
        "### 데이터셋 전처리\n",
        "\n",
        "특성 변수의 값 범위가 특성마다 스케일이 달라서 정규화가 필요합니다. 정규화된 값을 모델에 입력하는 것이 학습 관점에서 유리합니다. 정규화는 평균과 분산을 이용하여 수행합니다. 학습셋에 사용한 정규화 파라미터를 시험셋에도 적용합니다. 추후에 모델을 사용할 때도 학습때 사용된 정규화 파라미터를 사용해야 합니다."
      ]
    },
    {
      "cell_type": "code",
      "metadata": {
        "id": "8I7ysMuVaAuq"
      },
      "source": [
        "mean = x_train.mean(axis=0)\n",
        "x_train -= mean\n",
        "std = x_train.std(axis=0)\n",
        "x_train /= std"
      ],
      "execution_count": 5,
      "outputs": []
    },
    {
      "cell_type": "markdown",
      "metadata": {
        "id": "w_UYHKSBa32b"
      },
      "source": [
        "### 모델 정의\n",
        "\n",
        "데이터셋 샘플 수가 적어 교차검증을 할 것이기 때문에 모델을 매번 생성하기 쉽게 만들기 위해서 함수로 정의합니다.\n",
        "\n",
        "손실함수는 회귀분석이기 때문에 평균 제곱 오차를 사용하였고, 학습 모니터링에 사용하는 매트릭으로는 평균 절대 오차를 사용했습니다. 평균 절대 오차를 사용하면 직관적으로 오차값을 이해하는 데 용이합니다. \"1\"이면 1000달러만큼 오차가 나는 것이고, \"0.2\"면 200달러만큼 오차가 발생하는 것을 의미합니다."
      ]
    },
    {
      "cell_type": "code",
      "metadata": {
        "id": "9lbC9RnXaC--"
      },
      "source": [
        "from keras import models\n",
        "from keras import layers\n",
        "\n",
        "def build_model():\n",
        "    model = models.Sequential()\n",
        "    model.add(layers.Dense(64, activation='relu', input_shape=(13,)))\n",
        "    model.add(layers.Dense(64, activation='relu'))\n",
        "    model.add(layers.Dense(1))\n",
        "    model.compile(optimizer='rmsprop', loss='mse', metrics=['mae'])\n",
        "    return model"
      ],
      "execution_count": 6,
      "outputs": []
    },
    {
      "cell_type": "markdown",
      "metadata": {
        "id": "gnpzPTvZbJz9"
      },
      "source": [
        "### 교차검증\n",
        "\n",
        "데이터셋 샘플 수가 비교적 적기 때문에 교차검증을 통해서 모델을 검증합니다. 본 예제에서는 4차 교차검증을 수행합니다. 즉 데이터셋을 4등분해서, 한 그룹을 검증셋으로 두고 나머지 3개 그룹으로 학습시켜서 그 결과를 기록합니다. 이 과정을 검증셋을 바꿔가면서 총 4회를 실행한 후 그 결과를 평균 내서, 검증 수치를 산출합니다."
      ]
    },
    {
      "cell_type": "code",
      "metadata": {
        "colab": {
          "base_uri": "https://localhost:8080/"
        },
        "id": "r_LRqlXqaFbm",
        "outputId": "981b5a83-d5a2-461c-e0e4-496139567f51"
      },
      "source": [
        "import numpy as np\n",
        "k = 4\n",
        "num_val_samples = len(x_train) // k\n",
        "num_epochs = 500\n",
        "all_scores = []\n",
        "all_mae_histories = []\n",
        "\n",
        "for i in  range(k):\n",
        "    print(\"processing fold #\", i)\n",
        "\n",
        "    # 검증 데이터 분리\n",
        "    x_val = x_train[i * num_val_samples : (i+1) * num_val_samples]\n",
        "    y_val = y_train[i * num_val_samples : (i+1) * num_val_samples]\n",
        "\n",
        "    # 훈련 데이터 분리\n",
        "    partial_x_train = np.concatenate([x_train[:i*num_val_samples], x_train[(i + 1) * num_val_samples:]], axis=0)\n",
        "    partial_y_train = np.concatenate([y_train[:i*num_val_samples], y_train[(i + 1) * num_val_samples:]], axis=0)\n",
        "\n",
        "    # 모델 학습\n",
        "    model = build_model()\n",
        "    history = model.fit(partial_x_train, partial_y_train, validation_data=(x_val, y_val), epochs=num_epochs, batch_size=16)\n",
        "    \n",
        "    mae_history = history.history['val_mae']\n",
        "    all_mae_histories.append(mae_history)\n",
        "    \n",
        "    val_mse, val_mae = model.evaluate(x_val, y_val, verbose=0)\n",
        "    all_scores.append(val_mae)"
      ],
      "execution_count": 7,
      "outputs": [
        {
          "output_type": "stream",
          "text": [
            "processing fold # 0\n",
            "processing fold # 1\n",
            "processing fold # 2\n",
            "processing fold # 3\n"
          ],
          "name": "stdout"
        }
      ]
    },
    {
      "cell_type": "markdown",
      "metadata": {
        "id": "fzNowPA-yIOM"
      },
      "source": [
        "### 학습 커브 가시화\n",
        "\n",
        "교차 검증이 수행되기 때문에, 매 에포크마다 mae를 산출하기위해 각 교차검증 시 해당하는 에포크의 mae을 모두 더해 평균을 내서 사용합니다."
      ]
    },
    {
      "cell_type": "code",
      "metadata": {
        "colab": {
          "base_uri": "https://localhost:8080/",
          "height": 295
        },
        "id": "ddwbjCQBaIgz",
        "outputId": "b22329e3-5397-4289-d8bc-216c5c6ac84e"
      },
      "source": [
        "average_mae_history = [np.mean([x[i] for x in all_mae_histories]) for i in range(num_epochs)]\n",
        "\n",
        "import matplotlib.pyplot as plt\n",
        "\n",
        "plt.figure(1)\n",
        "plt.plot(range(1, len(average_mae_history) + 1), average_mae_history, 'r', label='aver_mae')\n",
        "plt.title('MAE')\n",
        "plt.xlabel('Epochs')\n",
        "plt.ylabel('Validation MAE')\n",
        "plt.legend()\n",
        "plt.show()"
      ],
      "execution_count": 8,
      "outputs": [
        {
          "output_type": "display_data",
          "data": {
            "image/png": "[encoded data removed]",
            "text/plain": [
              "<Figure size 432x288 with 1 Axes>"
            ]
          },
          "metadata": {
            "tags": [],
            "needs_background": "light"
          }
        }
      ]
    },
    {
      "cell_type": "markdown",
      "metadata": {
        "id": "CIxkhw4A3G-m"
      },
      "source": [
        "지수 이동 평균으로 곡선을 부드럽게 만듭니다."
      ]
    },
    {
      "cell_type": "code",
      "metadata": {
        "id": "-YIJ9ZCnaKm_"
      },
      "source": [
        "def smooth_curve(points, factor=0.9):\n",
        "    smoothed_points = []\n",
        "    for point in points:\n",
        "        if smoothed_points:\n",
        "            previous = smoothed_points[-1]\n",
        "            smoothed_points.append(previous * factor + point * (1-factor))\n",
        "        else:\n",
        "            smoothed_points.append(point)\n",
        "    return smoothed_points"
      ],
      "execution_count": 9,
      "outputs": []
    },
    {
      "cell_type": "code",
      "metadata": {
        "colab": {
          "base_uri": "https://localhost:8080/",
          "height": 279
        },
        "id": "04PwvAeL1PXQ",
        "outputId": "adcbb27e-e976-426a-d0a7-13196e846efb"
      },
      "source": [
        "smooth_mae_history = smooth_curve(average_mae_history[10:])\n",
        "\n",
        "plt.plot(range(1, len(smooth_mae_history)+1), smooth_mae_history)\n",
        "plt.xlabel('Epochs')\n",
        "plt.ylabel('Validation MAE')\n",
        "plt.show()"
      ],
      "execution_count": 10,
      "outputs": [
        {
          "output_type": "display_data",
          "data": {
            "image/png": "[encoded data removed]",
            "text/plain": [
              "<Figure size 432x288 with 1 Axes>"
            ]
          },
          "metadata": {
            "tags": [],
            "needs_background": "light"
          }
        }
      ]
    },
    {
      "cell_type": "markdown",
      "metadata": {
        "id": "kI2eWggT14px"
      },
      "source": [
        "### 최종 모델 선정 및 평가\n",
        "\n",
        "학습 커브에서 최적 하이퍼파라미터를 찾았다면, 해당 파라미터로 최적 모델을 학습하고 평가를 수행합니다."
      ]
    },
    {
      "cell_type": "code",
      "metadata": {
        "colab": {
          "base_uri": "https://localhost:8080/"
        },
        "id": "qLf-OG041yzs",
        "outputId": "2bd24879-2965-4422-b4f4-60700303e615"
      },
      "source": [
        "model = build_model()\n",
        "model.fit(x_train, y_train, epochs=80, batch_size=16, verbose=0)"
      ],
      "execution_count": 11,
      "outputs": [
        {
          "output_type": "execute_result",
          "data": {
            "text/plain": [
              "<keras.callbacks.History at 0x7f1bb017e8d0>"
            ]
          },
          "metadata": {
            "tags": []
          },
          "execution_count": 11
        }
      ]
    },
    {
      "cell_type": "markdown",
      "metadata": {
        "id": "9ax0k-vs57gf"
      },
      "source": [
        "시험셋으로 2천달러 이상 차이가 나는 것을 확인할 수 있습니다."
      ]
    },
    {
      "cell_type": "code",
      "metadata": {
        "colab": {
          "base_uri": "https://localhost:8080/"
        },
        "id": "ZgVv6Ic5kn_I",
        "outputId": "4dbd93b8-aad2-488f-bb00-b1bc25daa0e7"
      },
      "source": [
        "x_test -= mean\n",
        "x_test /= std\n",
        "\n",
        "test_mse_score, test_mae_score = model.evaluate(x_test, y_test)\n",
        "\n",
        "print(test_mae_score)"
      ],
      "execution_count": 12,
      "outputs": [
        {
          "output_type": "stream",
          "text": [
            "4/4 [==============================] - 0s 3ms/step - loss: 17.4574 - mae: 2.6362\n",
            "2.636201858520508\n"
          ],
          "name": "stdout"
        }
      ]
    },
    {
      "cell_type": "markdown",
      "metadata": {
        "id": "8ceb2EDJk1DY"
      },
      "source": [
        "### 제출용 모델 결과 파일 저장\n",
        "\n",
        "시험셋으로 테스트한 결과를 제출하기 위해 모델 결과 파일을 저장합니다. "
      ]
    },
    {
      "cell_type": "code",
      "metadata": {
        "id": "eO0XN7PkkyPU"
      },
      "source": [
        "y_pred = model.predict(x_test)\n",
        "np.savetxt('y_pred.csv', y_pred, fmt='%f')"
      ],
      "execution_count": 13,
      "outputs": []
    }
  ]
}
