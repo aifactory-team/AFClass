{
  "nbformat": 4,
  "nbformat_minor": 0,
  "metadata": {
    "accelerator": "GPU",
    "colab": {
      "name": "mlp_model_validation.ipynb",
      "provenance": [],
      "collapsed_sections": []
    },
    "kernelspec": {
      "display_name": "Python 3",
      "language": "python",
      "name": "python3"
    },
    "language_info": {
      "codemirror_mode": {
        "name": "ipython",
        "version": 3
      },
      "file_extension": ".py",
      "mimetype": "text/x-python",
      "name": "python",
      "nbconvert_exporter": "python",
      "pygments_lexer": "ipython3",
      "version": "3.6.10"
    }
  },
  "cells": [
    {
      "cell_type": "markdown",
      "metadata": {
        "id": "L3eSKOAdn7Uw"
      },
      "source": [
        "필요한 패키지를 가져옵니다."
      ]
    },
    {
      "cell_type": "code",
      "metadata": {
        "id": "-XAyceMYvow8"
      },
      "source": [
        "import numpy as np\n",
        "import matplotlib.pyplot as plt\n",
        "\n",
        "from tensorflow.keras.models import Sequential, load_model\n",
        "from tensorflow.keras.layers import Dense\n",
        "from tensorflow.keras.callbacks import ModelCheckpoint\n",
        "from tensorflow.keras.utils import plot_model, to_categorical\n",
        "from tensorflow.keras.datasets import mnist"
      ],
      "execution_count": 7,
      "outputs": []
    },
    {
      "cell_type": "markdown",
      "metadata": {
        "id": "hRfuOMk0n7Uw"
      },
      "source": [
        "숫자 솔글씨 데이터셋을 불러옵니다. "
      ]
    },
    {
      "cell_type": "code",
      "metadata": {
        "colab": {
          "base_uri": "https://localhost:8080/"
        },
        "id": "nKPyUcYouz_8",
        "outputId": "a61c4f75-18cd-49d9-8977-588b50383fb4"
      },
      "source": [
        "(x_train, y_train), (x_test, y_test) = mnist.load_data()\n",
        "\n",
        "print('x_train shape : ' + str(x_train.shape))\n",
        "print('y_train shape : ' + str(y_train.shape))\n",
        "print('x_test shape : ' + str(x_test.shape))\n",
        "print('y_test shape : ' + str(y_test.shape))"
      ],
      "execution_count": 20,
      "outputs": [
        {
          "output_type": "stream",
          "text": [
            "x_train shape : (60000, 28, 28)\n",
            "y_train shape : (60000,)\n",
            "x_test shape : (10000, 28, 28)\n",
            "y_test shape : (10000,)\n"
          ],
          "name": "stdout"
        }
      ]
    },
    {
      "cell_type": "markdown",
      "metadata": {
        "id": "1MRgyIo7VDTm"
      },
      "source": [
        "테스트할 샘플 하나를 살펴봅니다."
      ]
    },
    {
      "cell_type": "code",
      "metadata": {
        "colab": {
          "base_uri": "https://localhost:8080/",
          "height": 299
        },
        "id": "M5dzhF1mVHpX",
        "outputId": "eec57fb5-47ff-4ce6-9e2c-272b680ec918"
      },
      "source": [
        "plt.imshow(x_test[0], cmap='gray')"
      ],
      "execution_count": 9,
      "outputs": [
        {
          "output_type": "stream",
          "text": [
            "test image\n"
          ],
          "name": "stdout"
        },
        {
          "output_type": "execute_result",
          "data": {
            "text/plain": [
              "<matplotlib.image.AxesImage at 0x7fbbb01e5f50>"
            ]
          },
          "metadata": {
            "tags": []
          },
          "execution_count": 9
        },
        {
          "output_type": "display_data",
          "data": {
            "image/png": "[encoded data removed]",
            "text/plain": [
              "<Figure size 432x288 with 1 Axes>"
            ]
          },
          "metadata": {
            "tags": [],
            "needs_background": "light"
          }
        }
      ]
    },
    {
      "cell_type": "markdown",
      "metadata": {
        "id": "59TzdRYXai74"
      },
      "source": [
        "인공지능 모델이 이 이미지를 입력받았을 때, 해당하는 숫자를 출력할 수 있도록 만드는 것이 목표입니다. 우리는 y_test 라벨값도 가지고 있어서 바로 확인은 할 수 있으나, 모델 학습 시에는 사용이 되지 않으며, 시험 평가할 때만 사용됩니다."
      ]
    },
    {
      "cell_type": "code",
      "metadata": {
        "colab": {
          "base_uri": "https://localhost:8080/"
        },
        "id": "pfFSxqevajVW",
        "outputId": "3acb344c-d472-4604-e5c8-fa1ef876ba2b"
      },
      "source": [
        "print(y_test[0])"
      ],
      "execution_count": 10,
      "outputs": [
        {
          "output_type": "stream",
          "text": [
            "test label\n",
            "7\n"
          ],
          "name": "stdout"
        }
      ]
    },
    {
      "cell_type": "markdown",
      "metadata": {
        "id": "GMiJUbcHn7Ux"
      },
      "source": [
        "모델 학습에 용이하도록 다음과 같이 데이터 전처리를 수행합니다.\n",
        "\n",
        "*   데이터 전처리\n",
        "    * 3차원(샘플수, 세로, 가로)를 2차원(샘플수, 벡터수)으로 변경\n",
        "    * 정수를 실수로 변경\n",
        "    * 0 ~ 255 사이의 수치를 0.0 ~ 1.0 사이로 정규화 수행\n",
        "*   라벨 전처리\n",
        "    * 0 ~ 9 라벨에 대한 원핫인코딩 수행 \n",
        "\n"
      ]
    },
    {
      "cell_type": "code",
      "metadata": {
        "id": "-Tq2r8mKB9RC"
      },
      "source": [
        "x_train = x_train.reshape(60000, 784).astype('float32') / 255.0\n",
        "x_test = x_test.reshape(10000, 784).astype('float32') / 255.0\n",
        "y_train = to_categorical(y_train)\n",
        "y_test = to_categorical(y_test)"
      ],
      "execution_count": 11,
      "outputs": []
    },
    {
      "cell_type": "markdown",
      "metadata": {
        "id": "WQ6ok1F3n7Ux"
      },
      "source": [
        "모델은 다음과 같이 구성하였습니다.\n",
        "\n",
        "* 입력: 1차원의 784개 벡터\n",
        "* 출력: 10개 벡터\n",
        "* 출력층의 활성화 함수: 소프트맥스\n",
        "* 손실함수: categorical_crossentropy\n",
        "* 최적화기: adam\n",
        "* 평가 메트릭: accuracy\n"
      ]
    },
    {
      "cell_type": "code",
      "metadata": {
        "id": "_SXTk3Twv9Qc"
      },
      "source": [
        "model = Sequential([\n",
        "    Dense(64, input_dim=28*28, activation='relu'), \n",
        "    Dense(32, activation='relu'), \n",
        "    Dense(10, activation='softmax')\n",
        "])\n",
        "\n",
        "model.compile(loss='categorical_crossentropy', optimizer='adam', metrics=['accuracy'])"
      ],
      "execution_count": 12,
      "outputs": []
    },
    {
      "cell_type": "markdown",
      "metadata": {
        "id": "7C7XabvDn7Ux"
      },
      "source": [
        "모델 네트워크 아키텍처 구성을 그려보겠습니다."
      ]
    },
    {
      "cell_type": "code",
      "metadata": {
        "colab": {
          "base_uri": "https://localhost:8080/",
          "height": 422
        },
        "id": "xFLTw6eln7Ux",
        "outputId": "6c69ab66-da4f-47f5-f807-a7fc8b0cfb39"
      },
      "source": [
        "plot_model(model, show_shapes=True)"
      ],
      "execution_count": 13,
      "outputs": [
        {
          "output_type": "execute_result",
          "data": {
            "image/png": "[encoded data removed]",
            "text/plain": [
              "<IPython.core.display.Image object>"
            ]
          },
          "metadata": {
            "tags": []
          },
          "execution_count": 13
        }
      ]
    },
    {
      "cell_type": "markdown",
      "metadata": {
        "id": "iH75hSGrn7Ux"
      },
      "source": [
        "모델을 학습시킬 때, validation_split 옵션을 두면 훈련셋 일부를 검증셋으로 설정할 수 있습니다. 0.2로 설정할 경우, 전체 훈련셋에서 20%를 검증셋, 나머지를 훈련셋으로 구성하여 학습합니다."
      ]
    },
    {
      "cell_type": "code",
      "metadata": {
        "colab": {
          "base_uri": "https://localhost:8080/"
        },
        "id": "UDORhU0WvvG-",
        "outputId": "8e2f92e2-6e79-484d-983d-e6ee686f1cc1"
      },
      "source": [
        "hist = model.fit(x_train, y_train, \n",
        "                 validation_split=0.2, \n",
        "                 batch_size=32,\n",
        "                 epochs=100)"
      ],
      "execution_count": 14,
      "outputs": [
        {
          "output_type": "stream",
          "text": [
            "Epoch 1/100\n",
            "1500/1500 [==============================] - 7s 2ms/step - loss: 0.3488 - accuracy: 0.8984 - val_loss: 0.1793 - val_accuracy: 0.9477\n",
            "Epoch 2/100\n",
            "1500/1500 [==============================] - 3s 2ms/step - loss: 0.1545 - accuracy: 0.9540 - val_loss: 0.1406 - val_accuracy: 0.9573\n",
            "Epoch 3/100\n",
            "1500/1500 [==============================] - 3s 2ms/step - loss: 0.1108 - accuracy: 0.9673 - val_loss: 0.1176 - val_accuracy: 0.9643\n",
            "Epoch 4/100\n",
            "1500/1500 [==============================] - 3s 2ms/step - loss: 0.0873 - accuracy: 0.9735 - val_loss: 0.1206 - val_accuracy: 0.9628\n",
            "Epoch 5/100\n",
            "1500/1500 [==============================] - 3s 2ms/step - loss: 0.0720 - accuracy: 0.9779 - val_loss: 0.1098 - val_accuracy: 0.9670\n",
            "Epoch 6/100\n",
            "1500/1500 [==============================] - 3s 2ms/step - loss: 0.0593 - accuracy: 0.9810 - val_loss: 0.1015 - val_accuracy: 0.9710\n",
            "Epoch 7/100\n",
            "1500/1500 [==============================] - 3s 2ms/step - loss: 0.0503 - accuracy: 0.9843 - val_loss: 0.1089 - val_accuracy: 0.9693\n",
            "Epoch 8/100\n",
            "1500/1500 [==============================] - 3s 2ms/step - loss: 0.0436 - accuracy: 0.9863 - val_loss: 0.1070 - val_accuracy: 0.9707\n",
            "Epoch 9/100\n",
            "1500/1500 [==============================] - 3s 2ms/step - loss: 0.0382 - accuracy: 0.9875 - val_loss: 0.1098 - val_accuracy: 0.9709\n",
            "Epoch 10/100\n",
            "1500/1500 [==============================] - 3s 2ms/step - loss: 0.0335 - accuracy: 0.9894 - val_loss: 0.1239 - val_accuracy: 0.9676\n",
            "Epoch 11/100\n",
            "1500/1500 [==============================] - 3s 2ms/step - loss: 0.0285 - accuracy: 0.9907 - val_loss: 0.1217 - val_accuracy: 0.9690\n",
            "Epoch 12/100\n",
            "1500/1500 [==============================] - 3s 2ms/step - loss: 0.0268 - accuracy: 0.9913 - val_loss: 0.1080 - val_accuracy: 0.9741\n",
            "Epoch 13/100\n",
            "1500/1500 [==============================] - 3s 2ms/step - loss: 0.0237 - accuracy: 0.9925 - val_loss: 0.1261 - val_accuracy: 0.9702\n",
            "Epoch 14/100\n",
            "1500/1500 [==============================] - 3s 2ms/step - loss: 0.0193 - accuracy: 0.9940 - val_loss: 0.1282 - val_accuracy: 0.9718\n",
            "Epoch 15/100\n",
            "1500/1500 [==============================] - 3s 2ms/step - loss: 0.0206 - accuracy: 0.9934 - val_loss: 0.1302 - val_accuracy: 0.9732\n",
            "Epoch 16/100\n",
            "1500/1500 [==============================] - 3s 2ms/step - loss: 0.0164 - accuracy: 0.9945 - val_loss: 0.1451 - val_accuracy: 0.9699\n",
            "Epoch 17/100\n",
            "1500/1500 [==============================] - 3s 2ms/step - loss: 0.0150 - accuracy: 0.9952 - val_loss: 0.1407 - val_accuracy: 0.9727\n",
            "Epoch 18/100\n",
            "1500/1500 [==============================] - 3s 2ms/step - loss: 0.0148 - accuracy: 0.9951 - val_loss: 0.1388 - val_accuracy: 0.9717\n",
            "Epoch 19/100\n",
            "1500/1500 [==============================] - 3s 2ms/step - loss: 0.0139 - accuracy: 0.9954 - val_loss: 0.1424 - val_accuracy: 0.9724\n",
            "Epoch 20/100\n",
            "1500/1500 [==============================] - 3s 2ms/step - loss: 0.0108 - accuracy: 0.9962 - val_loss: 0.1435 - val_accuracy: 0.9722\n",
            "Epoch 21/100\n",
            "1500/1500 [==============================] - 3s 2ms/step - loss: 0.0125 - accuracy: 0.9954 - val_loss: 0.1477 - val_accuracy: 0.9728\n",
            "Epoch 22/100\n",
            "1500/1500 [==============================] - 3s 2ms/step - loss: 0.0120 - accuracy: 0.9962 - val_loss: 0.1426 - val_accuracy: 0.9742\n",
            "Epoch 23/100\n",
            "1500/1500 [==============================] - 3s 2ms/step - loss: 0.0119 - accuracy: 0.9958 - val_loss: 0.1755 - val_accuracy: 0.9699\n",
            "Epoch 24/100\n",
            "1500/1500 [==============================] - 3s 2ms/step - loss: 0.0093 - accuracy: 0.9967 - val_loss: 0.1639 - val_accuracy: 0.9733\n",
            "Epoch 25/100\n",
            "1500/1500 [==============================] - 3s 2ms/step - loss: 0.0100 - accuracy: 0.9967 - val_loss: 0.1534 - val_accuracy: 0.9730\n",
            "Epoch 26/100\n",
            "1500/1500 [==============================] - 3s 2ms/step - loss: 0.0117 - accuracy: 0.9965 - val_loss: 0.1599 - val_accuracy: 0.9734\n",
            "Epoch 27/100\n",
            "1500/1500 [==============================] - 3s 2ms/step - loss: 0.0107 - accuracy: 0.9964 - val_loss: 0.1840 - val_accuracy: 0.9695\n",
            "Epoch 28/100\n",
            "1500/1500 [==============================] - 3s 2ms/step - loss: 0.0083 - accuracy: 0.9972 - val_loss: 0.1697 - val_accuracy: 0.9718\n",
            "Epoch 29/100\n",
            "1500/1500 [==============================] - 3s 2ms/step - loss: 0.0087 - accuracy: 0.9972 - val_loss: 0.1741 - val_accuracy: 0.9733\n",
            "Epoch 30/100\n",
            "1500/1500 [==============================] - 3s 2ms/step - loss: 0.0103 - accuracy: 0.9969 - val_loss: 0.2044 - val_accuracy: 0.9672\n",
            "Epoch 31/100\n",
            "1500/1500 [==============================] - 3s 2ms/step - loss: 0.0067 - accuracy: 0.9981 - val_loss: 0.2235 - val_accuracy: 0.9689\n",
            "Epoch 32/100\n",
            "1500/1500 [==============================] - 3s 2ms/step - loss: 0.0086 - accuracy: 0.9970 - val_loss: 0.1892 - val_accuracy: 0.9716\n",
            "Epoch 33/100\n",
            "1500/1500 [==============================] - 3s 2ms/step - loss: 0.0079 - accuracy: 0.9971 - val_loss: 0.1906 - val_accuracy: 0.9717\n",
            "Epoch 34/100\n",
            "1500/1500 [==============================] - 3s 2ms/step - loss: 0.0090 - accuracy: 0.9973 - val_loss: 0.1897 - val_accuracy: 0.9703\n",
            "Epoch 35/100\n",
            "1500/1500 [==============================] - 3s 2ms/step - loss: 0.0063 - accuracy: 0.9978 - val_loss: 0.1789 - val_accuracy: 0.9746\n",
            "Epoch 36/100\n",
            "1500/1500 [==============================] - 3s 2ms/step - loss: 0.0109 - accuracy: 0.9965 - val_loss: 0.2301 - val_accuracy: 0.9710\n",
            "Epoch 37/100\n",
            "1500/1500 [==============================] - 3s 2ms/step - loss: 0.0068 - accuracy: 0.9976 - val_loss: 0.2235 - val_accuracy: 0.9699\n",
            "Epoch 38/100\n",
            "1500/1500 [==============================] - 3s 2ms/step - loss: 0.0083 - accuracy: 0.9971 - val_loss: 0.2126 - val_accuracy: 0.9713\n",
            "Epoch 39/100\n",
            "1500/1500 [==============================] - 3s 2ms/step - loss: 0.0054 - accuracy: 0.9982 - val_loss: 0.2163 - val_accuracy: 0.9678\n",
            "Epoch 40/100\n",
            "1500/1500 [==============================] - 3s 2ms/step - loss: 0.0079 - accuracy: 0.9971 - val_loss: 0.1959 - val_accuracy: 0.9737\n",
            "Epoch 41/100\n",
            "1500/1500 [==============================] - 3s 2ms/step - loss: 0.0072 - accuracy: 0.9976 - val_loss: 0.2714 - val_accuracy: 0.9656\n",
            "Epoch 42/100\n",
            "1500/1500 [==============================] - 3s 2ms/step - loss: 0.0067 - accuracy: 0.9977 - val_loss: 0.2029 - val_accuracy: 0.9728\n",
            "Epoch 43/100\n",
            "1500/1500 [==============================] - 3s 2ms/step - loss: 0.0061 - accuracy: 0.9983 - val_loss: 0.2424 - val_accuracy: 0.9696\n",
            "Epoch 44/100\n",
            "1500/1500 [==============================] - 3s 2ms/step - loss: 0.0063 - accuracy: 0.9979 - val_loss: 0.2252 - val_accuracy: 0.9713\n",
            "Epoch 45/100\n",
            "1500/1500 [==============================] - 3s 2ms/step - loss: 0.0077 - accuracy: 0.9976 - val_loss: 0.2289 - val_accuracy: 0.9712\n",
            "Epoch 46/100\n",
            "1500/1500 [==============================] - 3s 2ms/step - loss: 0.0080 - accuracy: 0.9975 - val_loss: 0.2067 - val_accuracy: 0.9739\n",
            "Epoch 47/100\n",
            "1500/1500 [==============================] - 3s 2ms/step - loss: 0.0051 - accuracy: 0.9985 - val_loss: 0.2127 - val_accuracy: 0.9744\n",
            "Epoch 48/100\n",
            "1500/1500 [==============================] - 3s 2ms/step - loss: 0.0049 - accuracy: 0.9984 - val_loss: 0.2443 - val_accuracy: 0.9694\n",
            "Epoch 49/100\n",
            "1500/1500 [==============================] - 3s 2ms/step - loss: 0.0086 - accuracy: 0.9974 - val_loss: 0.2369 - val_accuracy: 0.9727\n",
            "Epoch 50/100\n",
            "1500/1500 [==============================] - 3s 2ms/step - loss: 0.0057 - accuracy: 0.9982 - val_loss: 0.2177 - val_accuracy: 0.9749\n",
            "Epoch 51/100\n",
            "1500/1500 [==============================] - 3s 2ms/step - loss: 0.0076 - accuracy: 0.9976 - val_loss: 0.2331 - val_accuracy: 0.9726\n",
            "Epoch 52/100\n",
            "1500/1500 [==============================] - 3s 2ms/step - loss: 0.0073 - accuracy: 0.9977 - val_loss: 0.2458 - val_accuracy: 0.9710\n",
            "Epoch 53/100\n",
            "1500/1500 [==============================] - 3s 2ms/step - loss: 0.0053 - accuracy: 0.9982 - val_loss: 0.2529 - val_accuracy: 0.9714\n",
            "Epoch 54/100\n",
            "1500/1500 [==============================] - 3s 2ms/step - loss: 0.0053 - accuracy: 0.9986 - val_loss: 0.2905 - val_accuracy: 0.9682\n",
            "Epoch 55/100\n",
            "1500/1500 [==============================] - 3s 2ms/step - loss: 0.0078 - accuracy: 0.9978 - val_loss: 0.2264 - val_accuracy: 0.9728\n",
            "Epoch 56/100\n",
            "1500/1500 [==============================] - 3s 2ms/step - loss: 0.0067 - accuracy: 0.9982 - val_loss: 0.2334 - val_accuracy: 0.9728\n",
            "Epoch 57/100\n",
            "1500/1500 [==============================] - 3s 2ms/step - loss: 0.0074 - accuracy: 0.9978 - val_loss: 0.2317 - val_accuracy: 0.9718\n",
            "Epoch 58/100\n",
            "1500/1500 [==============================] - 3s 2ms/step - loss: 0.0050 - accuracy: 0.9986 - val_loss: 0.2455 - val_accuracy: 0.9718\n",
            "Epoch 59/100\n",
            "1500/1500 [==============================] - 3s 2ms/step - loss: 0.0057 - accuracy: 0.9982 - val_loss: 0.2485 - val_accuracy: 0.9721\n",
            "Epoch 60/100\n",
            "1500/1500 [==============================] - 3s 2ms/step - loss: 0.0054 - accuracy: 0.9982 - val_loss: 0.2923 - val_accuracy: 0.9691\n",
            "Epoch 61/100\n",
            "1500/1500 [==============================] - 3s 2ms/step - loss: 0.0060 - accuracy: 0.9982 - val_loss: 0.2877 - val_accuracy: 0.9690\n",
            "Epoch 62/100\n",
            "1500/1500 [==============================] - 3s 2ms/step - loss: 0.0055 - accuracy: 0.9985 - val_loss: 0.2845 - val_accuracy: 0.9715\n",
            "Epoch 63/100\n",
            "1500/1500 [==============================] - 3s 2ms/step - loss: 0.0043 - accuracy: 0.9987 - val_loss: 0.2534 - val_accuracy: 0.9735\n",
            "Epoch 64/100\n",
            "1500/1500 [==============================] - 3s 2ms/step - loss: 0.0055 - accuracy: 0.9986 - val_loss: 0.2723 - val_accuracy: 0.9728\n",
            "Epoch 65/100\n",
            "1500/1500 [==============================] - 3s 2ms/step - loss: 0.0084 - accuracy: 0.9977 - val_loss: 0.2593 - val_accuracy: 0.9742\n",
            "Epoch 66/100\n",
            "1500/1500 [==============================] - 3s 2ms/step - loss: 0.0039 - accuracy: 0.9988 - val_loss: 0.2876 - val_accuracy: 0.9692\n",
            "Epoch 67/100\n",
            "1500/1500 [==============================] - 3s 2ms/step - loss: 0.0061 - accuracy: 0.9981 - val_loss: 0.2559 - val_accuracy: 0.9712\n",
            "Epoch 68/100\n",
            "1500/1500 [==============================] - 3s 2ms/step - loss: 0.0058 - accuracy: 0.9981 - val_loss: 0.2822 - val_accuracy: 0.9713\n",
            "Epoch 69/100\n",
            "1500/1500 [==============================] - 3s 2ms/step - loss: 0.0046 - accuracy: 0.9986 - val_loss: 0.3082 - val_accuracy: 0.9713\n",
            "Epoch 70/100\n",
            "1500/1500 [==============================] - 3s 2ms/step - loss: 0.0056 - accuracy: 0.9981 - val_loss: 0.2743 - val_accuracy: 0.9731\n",
            "Epoch 71/100\n",
            "1500/1500 [==============================] - 3s 2ms/step - loss: 0.0043 - accuracy: 0.9987 - val_loss: 0.3122 - val_accuracy: 0.9692\n",
            "Epoch 72/100\n",
            "1500/1500 [==============================] - 3s 2ms/step - loss: 0.0054 - accuracy: 0.9982 - val_loss: 0.2643 - val_accuracy: 0.9737\n",
            "Epoch 73/100\n",
            "1500/1500 [==============================] - 3s 2ms/step - loss: 0.0051 - accuracy: 0.9983 - val_loss: 0.2749 - val_accuracy: 0.9722\n",
            "Epoch 74/100\n",
            "1500/1500 [==============================] - 3s 2ms/step - loss: 0.0049 - accuracy: 0.9984 - val_loss: 0.2869 - val_accuracy: 0.9730\n",
            "Epoch 75/100\n",
            "1500/1500 [==============================] - 3s 2ms/step - loss: 0.0082 - accuracy: 0.9977 - val_loss: 0.2675 - val_accuracy: 0.9731\n",
            "Epoch 76/100\n",
            "1500/1500 [==============================] - 3s 2ms/step - loss: 0.0042 - accuracy: 0.9989 - val_loss: 0.2900 - val_accuracy: 0.9737\n",
            "Epoch 77/100\n",
            "1500/1500 [==============================] - 3s 2ms/step - loss: 0.0053 - accuracy: 0.9984 - val_loss: 0.2912 - val_accuracy: 0.9716\n",
            "Epoch 78/100\n",
            "1500/1500 [==============================] - 3s 2ms/step - loss: 0.0066 - accuracy: 0.9982 - val_loss: 0.2674 - val_accuracy: 0.9740\n",
            "Epoch 79/100\n",
            "1500/1500 [==============================] - 3s 2ms/step - loss: 0.0049 - accuracy: 0.9985 - val_loss: 0.2939 - val_accuracy: 0.9720\n",
            "Epoch 80/100\n",
            "1500/1500 [==============================] - 3s 2ms/step - loss: 0.0055 - accuracy: 0.9986 - val_loss: 0.2664 - val_accuracy: 0.9736\n",
            "Epoch 81/100\n",
            "1500/1500 [==============================] - 4s 2ms/step - loss: 0.0025 - accuracy: 0.9991 - val_loss: 0.2850 - val_accuracy: 0.9729\n",
            "Epoch 82/100\n",
            "1500/1500 [==============================] - 3s 2ms/step - loss: 0.0073 - accuracy: 0.9979 - val_loss: 0.2976 - val_accuracy: 0.9736\n",
            "Epoch 83/100\n",
            "1500/1500 [==============================] - 3s 2ms/step - loss: 0.0033 - accuracy: 0.9990 - val_loss: 0.2901 - val_accuracy: 0.9752\n",
            "Epoch 84/100\n",
            "1500/1500 [==============================] - 3s 2ms/step - loss: 0.0044 - accuracy: 0.9988 - val_loss: 0.3131 - val_accuracy: 0.9717\n",
            "Epoch 85/100\n",
            "1500/1500 [==============================] - 3s 2ms/step - loss: 0.0052 - accuracy: 0.9985 - val_loss: 0.2903 - val_accuracy: 0.9727\n",
            "Epoch 86/100\n",
            "1500/1500 [==============================] - 3s 2ms/step - loss: 0.0057 - accuracy: 0.9986 - val_loss: 0.2929 - val_accuracy: 0.9732\n",
            "Epoch 87/100\n",
            "1500/1500 [==============================] - 4s 2ms/step - loss: 0.0048 - accuracy: 0.9987 - val_loss: 0.3091 - val_accuracy: 0.9726\n",
            "Epoch 88/100\n",
            "1500/1500 [==============================] - 3s 2ms/step - loss: 0.0051 - accuracy: 0.9987 - val_loss: 0.3036 - val_accuracy: 0.9729\n",
            "Epoch 89/100\n",
            "1500/1500 [==============================] - 3s 2ms/step - loss: 0.0036 - accuracy: 0.9989 - val_loss: 0.2971 - val_accuracy: 0.9736\n",
            "Epoch 90/100\n",
            "1500/1500 [==============================] - 3s 2ms/step - loss: 0.0058 - accuracy: 0.9985 - val_loss: 0.3489 - val_accuracy: 0.9703\n",
            "Epoch 91/100\n",
            "1500/1500 [==============================] - 3s 2ms/step - loss: 0.0061 - accuracy: 0.9984 - val_loss: 0.3316 - val_accuracy: 0.9724\n",
            "Epoch 92/100\n",
            "1500/1500 [==============================] - 3s 2ms/step - loss: 0.0053 - accuracy: 0.9986 - val_loss: 0.3285 - val_accuracy: 0.9728\n",
            "Epoch 93/100\n",
            "1500/1500 [==============================] - 3s 2ms/step - loss: 0.0063 - accuracy: 0.9985 - val_loss: 0.3311 - val_accuracy: 0.9711\n",
            "Epoch 94/100\n",
            "1500/1500 [==============================] - 3s 2ms/step - loss: 0.0026 - accuracy: 0.9992 - val_loss: 0.3181 - val_accuracy: 0.9728\n",
            "Epoch 95/100\n",
            "1500/1500 [==============================] - 3s 2ms/step - loss: 0.0063 - accuracy: 0.9981 - val_loss: 0.3327 - val_accuracy: 0.9721\n",
            "Epoch 96/100\n",
            "1500/1500 [==============================] - 3s 2ms/step - loss: 0.0012 - accuracy: 0.9996 - val_loss: 0.3001 - val_accuracy: 0.9734\n",
            "Epoch 97/100\n",
            "1500/1500 [==============================] - 3s 2ms/step - loss: 0.0091 - accuracy: 0.9975 - val_loss: 0.3265 - val_accuracy: 0.9724\n",
            "Epoch 98/100\n",
            "1500/1500 [==============================] - 3s 2ms/step - loss: 0.0039 - accuracy: 0.9990 - val_loss: 0.3267 - val_accuracy: 0.9747\n",
            "Epoch 99/100\n",
            "1500/1500 [==============================] - 3s 2ms/step - loss: 0.0034 - accuracy: 0.9992 - val_loss: 0.3298 - val_accuracy: 0.9741\n",
            "Epoch 100/100\n",
            "1500/1500 [==============================] - 3s 2ms/step - loss: 0.0058 - accuracy: 0.9985 - val_loss: 0.3491 - val_accuracy: 0.9734\n"
          ],
          "name": "stdout"
        }
      ]
    },
    {
      "cell_type": "markdown",
      "metadata": {
        "id": "FT4_DoFRUznI"
      },
      "source": [
        "학습 시 매 에포크에 해당하는 훈련셋과 검증셋에 대한 손실값과 평가 메트릭 수치를 확인할 수 있습니다. 이를 시각화시키면 오버피팅 여부를 한 눈에 확인할 수 있습니다."
      ]
    },
    {
      "cell_type": "code",
      "metadata": {
        "colab": {
          "base_uri": "https://localhost:8080/",
          "height": 279
        },
        "id": "ceNs9lckwfbd",
        "outputId": "5c05fecd-a5a8-4fe0-965f-2fc4feb86ee3"
      },
      "source": [
        "fig, loss_ax = plt.subplots()\n",
        "\n",
        "acc_ax = loss_ax.twinx()\n",
        "\n",
        "loss_ax.plot(hist.history['loss'], 'y', label='train loss')\n",
        "loss_ax.plot(hist.history['val_loss'], 'r', label='val loss')\n",
        "\n",
        "acc_ax.plot(hist.history['accuracy'], 'b', label='train acc')\n",
        "acc_ax.plot(hist.history['val_accuracy'], 'g', label='val acc')\n",
        "\n",
        "loss_ax.set_xlabel('epoch')\n",
        "loss_ax.set_ylabel('loss')\n",
        "acc_ax.set_ylabel('accuray')\n",
        "\n",
        "loss_ax.legend(loc='upper left')\n",
        "acc_ax.legend(loc='lower left')\n",
        "\n",
        "plt.show()"
      ],
      "execution_count": 15,
      "outputs": [
        {
          "output_type": "display_data",
          "data": {
            "image/png": "[encoded data removed]",
            "text/plain": [
              "<Figure size 432x288 with 2 Axes>"
            ]
          },
          "metadata": {
            "tags": [],
            "needs_background": "light"
          }
        }
      ]
    },
    {
      "cell_type": "markdown",
      "metadata": {
        "id": "jCAQ09u9W09V"
      },
      "source": [
        "오버피팅이 10 에포크 이전에 발생했더라도 100 에포크까지 학습을 시켰으므로 현재 모델은 오버피팅이 되어 있는 상태입니다. 오버피팅이 되지 않은 모델을 확보하기 위해는 아래 세 가지 방법을 사용할 수 있습니다. \n",
        "\n",
        "1. 오버피팅이 되는 에포크를 확인하였다면, 오버피팅 전의 에포크 만큼 모델을 학습시킵니다.\n",
        "2. 콜백함수를 사용하여, 오버피팅이 감지되면 조기 중단을 시키도록 합니다.\n",
        "3. 콜백함수를 사용하여, 매 에포크마다 검증셋의 손실값을 체크한 후, 이전 손실값보다 낮은 경우 모델을 파일로 저장합니다. 즉 학습 종료가 되면, 파일에 저장된 모델은 손실값이 가장 낮을 때의 가중치를 가지고 있습니다.\n",
        "\n",
        "1번 방법은 두 번 학습을 시켜야하고, 2번 방법은 더 학습이 가능했음에도 설정된 오버피팅 감지 조건에 의해 조기 중단이 될 수도 있으므로, 이후 실습에서는 주로 3번 방법을 사용하도록 하겠습니다.\n",
        "\n",
        "모델 정의부터 컴파일, 콜백함수 정의, 모델 학습까지의 코드는 아래와 같습니다. 다음부터는 두 번 학습할 필요없이 아래 코드로 한 번만 수행합니다."
      ]
    },
    {
      "cell_type": "code",
      "metadata": {
        "colab": {
          "base_uri": "https://localhost:8080/"
        },
        "id": "upKgRxiNT5MQ",
        "outputId": "c936e0d2-4a8e-46f1-fd3c-1102a63c3c8c"
      },
      "source": [
        "model = Sequential([\n",
        "    Dense(64, input_dim=28*28, activation='relu'), \n",
        "    Dense(32, activation='relu'), \n",
        "    Dense(10, activation='softmax')\n",
        "])\n",
        "\n",
        "model.compile(loss='categorical_crossentropy', optimizer='adam', metrics=['accuracy'])\n",
        "\n",
        "checkpoint_callback = ModelCheckpoint(\"best_model.h5\", \n",
        "                                      save_best_only=True, \n",
        "                                      monitor=\"val_loss\")\n",
        "\n",
        "hist = model.fit(x_train, y_train, \n",
        "                 validation_split=0.2, \n",
        "                 batch_size=32,\n",
        "                 epochs=100,  \n",
        "                 callbacks=[checkpoint_callback])"
      ],
      "execution_count": 16,
      "outputs": [
        {
          "output_type": "stream",
          "text": [
            "Epoch 1/100\n",
            "1500/1500 [==============================] - 4s 2ms/step - loss: 0.3272 - accuracy: 0.9060 - val_loss: 0.1780 - val_accuracy: 0.9502\n",
            "Epoch 2/100\n",
            "1500/1500 [==============================] - 3s 2ms/step - loss: 0.1461 - accuracy: 0.9570 - val_loss: 0.1304 - val_accuracy: 0.9607\n",
            "Epoch 3/100\n",
            "1500/1500 [==============================] - 3s 2ms/step - loss: 0.1042 - accuracy: 0.9686 - val_loss: 0.1338 - val_accuracy: 0.9597\n",
            "Epoch 4/100\n",
            "1500/1500 [==============================] - 3s 2ms/step - loss: 0.0843 - accuracy: 0.9737 - val_loss: 0.1095 - val_accuracy: 0.9688\n",
            "Epoch 5/100\n",
            "1500/1500 [==============================] - 3s 2ms/step - loss: 0.0683 - accuracy: 0.9786 - val_loss: 0.1033 - val_accuracy: 0.9697\n",
            "Epoch 6/100\n",
            "1500/1500 [==============================] - 3s 2ms/step - loss: 0.0574 - accuracy: 0.9818 - val_loss: 0.1017 - val_accuracy: 0.9731\n",
            "Epoch 7/100\n",
            "1500/1500 [==============================] - 3s 2ms/step - loss: 0.0460 - accuracy: 0.9853 - val_loss: 0.1109 - val_accuracy: 0.9708\n",
            "Epoch 8/100\n",
            "1500/1500 [==============================] - 3s 2ms/step - loss: 0.0425 - accuracy: 0.9865 - val_loss: 0.1088 - val_accuracy: 0.9720\n",
            "Epoch 9/100\n",
            "1500/1500 [==============================] - 3s 2ms/step - loss: 0.0359 - accuracy: 0.9876 - val_loss: 0.1366 - val_accuracy: 0.9658\n",
            "Epoch 10/100\n",
            "1500/1500 [==============================] - 3s 2ms/step - loss: 0.0309 - accuracy: 0.9894 - val_loss: 0.1093 - val_accuracy: 0.9738\n",
            "Epoch 11/100\n",
            "1500/1500 [==============================] - 3s 2ms/step - loss: 0.0269 - accuracy: 0.9911 - val_loss: 0.1209 - val_accuracy: 0.9694\n",
            "Epoch 12/100\n",
            "1500/1500 [==============================] - 3s 2ms/step - loss: 0.0242 - accuracy: 0.9914 - val_loss: 0.1186 - val_accuracy: 0.9716\n",
            "Epoch 13/100\n",
            "1500/1500 [==============================] - 3s 2ms/step - loss: 0.0219 - accuracy: 0.9926 - val_loss: 0.1179 - val_accuracy: 0.9739\n",
            "Epoch 14/100\n",
            "1500/1500 [==============================] - 3s 2ms/step - loss: 0.0188 - accuracy: 0.9937 - val_loss: 0.1124 - val_accuracy: 0.9753\n",
            "Epoch 15/100\n",
            "1500/1500 [==============================] - 3s 2ms/step - loss: 0.0178 - accuracy: 0.9936 - val_loss: 0.1249 - val_accuracy: 0.9736\n",
            "Epoch 16/100\n",
            "1500/1500 [==============================] - 3s 2ms/step - loss: 0.0176 - accuracy: 0.9944 - val_loss: 0.1326 - val_accuracy: 0.9723\n",
            "Epoch 17/100\n",
            "1500/1500 [==============================] - 3s 2ms/step - loss: 0.0141 - accuracy: 0.9953 - val_loss: 0.1503 - val_accuracy: 0.9703\n",
            "Epoch 18/100\n",
            "1500/1500 [==============================] - 3s 2ms/step - loss: 0.0149 - accuracy: 0.9948 - val_loss: 0.1438 - val_accuracy: 0.9722\n",
            "Epoch 19/100\n",
            "1500/1500 [==============================] - 3s 2ms/step - loss: 0.0150 - accuracy: 0.9945 - val_loss: 0.1493 - val_accuracy: 0.9711\n",
            "Epoch 20/100\n",
            "1500/1500 [==============================] - 3s 2ms/step - loss: 0.0124 - accuracy: 0.9959 - val_loss: 0.1465 - val_accuracy: 0.9729\n",
            "Epoch 21/100\n",
            "1500/1500 [==============================] - 3s 2ms/step - loss: 0.0132 - accuracy: 0.9958 - val_loss: 0.1495 - val_accuracy: 0.9722\n",
            "Epoch 22/100\n",
            "1500/1500 [==============================] - 3s 2ms/step - loss: 0.0122 - accuracy: 0.9959 - val_loss: 0.1656 - val_accuracy: 0.9700\n",
            "Epoch 23/100\n",
            "1500/1500 [==============================] - 3s 2ms/step - loss: 0.0100 - accuracy: 0.9964 - val_loss: 0.1661 - val_accuracy: 0.9727\n",
            "Epoch 24/100\n",
            "1500/1500 [==============================] - 3s 2ms/step - loss: 0.0101 - accuracy: 0.9964 - val_loss: 0.1505 - val_accuracy: 0.9736\n",
            "Epoch 25/100\n",
            "1500/1500 [==============================] - 3s 2ms/step - loss: 0.0106 - accuracy: 0.9968 - val_loss: 0.1764 - val_accuracy: 0.9700\n",
            "Epoch 26/100\n",
            "1500/1500 [==============================] - 3s 2ms/step - loss: 0.0084 - accuracy: 0.9971 - val_loss: 0.1755 - val_accuracy: 0.9720\n",
            "Epoch 27/100\n",
            "1500/1500 [==============================] - 3s 2ms/step - loss: 0.0110 - accuracy: 0.9964 - val_loss: 0.1597 - val_accuracy: 0.9747\n",
            "Epoch 28/100\n",
            "1500/1500 [==============================] - 3s 2ms/step - loss: 0.0108 - accuracy: 0.9963 - val_loss: 0.1701 - val_accuracy: 0.9740\n",
            "Epoch 29/100\n",
            "1500/1500 [==============================] - 3s 2ms/step - loss: 0.0082 - accuracy: 0.9972 - val_loss: 0.1798 - val_accuracy: 0.9733\n",
            "Epoch 30/100\n",
            "1500/1500 [==============================] - 3s 2ms/step - loss: 0.0105 - accuracy: 0.9967 - val_loss: 0.1661 - val_accuracy: 0.9749\n",
            "Epoch 31/100\n",
            "1500/1500 [==============================] - 3s 2ms/step - loss: 0.0085 - accuracy: 0.9972 - val_loss: 0.1801 - val_accuracy: 0.9747\n",
            "Epoch 32/100\n",
            "1500/1500 [==============================] - 3s 2ms/step - loss: 0.0102 - accuracy: 0.9963 - val_loss: 0.1860 - val_accuracy: 0.9726\n",
            "Epoch 33/100\n",
            "1500/1500 [==============================] - 3s 2ms/step - loss: 0.0073 - accuracy: 0.9975 - val_loss: 0.2039 - val_accuracy: 0.9711\n",
            "Epoch 34/100\n",
            "1500/1500 [==============================] - 3s 2ms/step - loss: 0.0086 - accuracy: 0.9971 - val_loss: 0.1845 - val_accuracy: 0.9741\n",
            "Epoch 35/100\n",
            "1500/1500 [==============================] - 3s 2ms/step - loss: 0.0060 - accuracy: 0.9981 - val_loss: 0.2091 - val_accuracy: 0.9734\n",
            "Epoch 36/100\n",
            "1500/1500 [==============================] - 3s 2ms/step - loss: 0.0114 - accuracy: 0.9964 - val_loss: 0.1914 - val_accuracy: 0.9743\n",
            "Epoch 37/100\n",
            "1500/1500 [==============================] - 3s 2ms/step - loss: 0.0071 - accuracy: 0.9978 - val_loss: 0.2099 - val_accuracy: 0.9724\n",
            "Epoch 38/100\n",
            "1500/1500 [==============================] - 3s 2ms/step - loss: 0.0091 - accuracy: 0.9972 - val_loss: 0.2001 - val_accuracy: 0.9737\n",
            "Epoch 39/100\n",
            "1500/1500 [==============================] - 3s 2ms/step - loss: 0.0079 - accuracy: 0.9974 - val_loss: 0.2095 - val_accuracy: 0.9736\n",
            "Epoch 40/100\n",
            "1500/1500 [==============================] - 3s 2ms/step - loss: 0.0077 - accuracy: 0.9975 - val_loss: 0.2003 - val_accuracy: 0.9738\n",
            "Epoch 41/100\n",
            "1500/1500 [==============================] - 3s 2ms/step - loss: 0.0075 - accuracy: 0.9978 - val_loss: 0.2091 - val_accuracy: 0.9749\n",
            "Epoch 42/100\n",
            "1500/1500 [==============================] - 3s 2ms/step - loss: 0.0098 - accuracy: 0.9969 - val_loss: 0.2088 - val_accuracy: 0.9732\n",
            "Epoch 43/100\n",
            "1500/1500 [==============================] - 3s 2ms/step - loss: 0.0055 - accuracy: 0.9981 - val_loss: 0.2022 - val_accuracy: 0.9735\n",
            "Epoch 44/100\n",
            "1500/1500 [==============================] - 3s 2ms/step - loss: 0.0073 - accuracy: 0.9976 - val_loss: 0.2173 - val_accuracy: 0.9716\n",
            "Epoch 45/100\n",
            "1500/1500 [==============================] - 3s 2ms/step - loss: 0.0060 - accuracy: 0.9982 - val_loss: 0.2118 - val_accuracy: 0.9742\n",
            "Epoch 46/100\n",
            "1500/1500 [==============================] - 3s 2ms/step - loss: 0.0094 - accuracy: 0.9970 - val_loss: 0.2037 - val_accuracy: 0.9738\n",
            "Epoch 47/100\n",
            "1500/1500 [==============================] - 3s 2ms/step - loss: 0.0053 - accuracy: 0.9983 - val_loss: 0.2138 - val_accuracy: 0.9734\n",
            "Epoch 48/100\n",
            "1500/1500 [==============================] - 3s 2ms/step - loss: 0.0067 - accuracy: 0.9978 - val_loss: 0.2187 - val_accuracy: 0.9728\n",
            "Epoch 49/100\n",
            "1500/1500 [==============================] - 3s 2ms/step - loss: 0.0077 - accuracy: 0.9974 - val_loss: 0.2383 - val_accuracy: 0.9726\n",
            "Epoch 50/100\n",
            "1500/1500 [==============================] - 3s 2ms/step - loss: 0.0054 - accuracy: 0.9983 - val_loss: 0.2353 - val_accuracy: 0.9728\n",
            "Epoch 51/100\n",
            "1500/1500 [==============================] - 3s 2ms/step - loss: 0.0071 - accuracy: 0.9977 - val_loss: 0.2315 - val_accuracy: 0.9733\n",
            "Epoch 52/100\n",
            "1500/1500 [==============================] - 3s 2ms/step - loss: 0.0082 - accuracy: 0.9977 - val_loss: 0.2414 - val_accuracy: 0.9727\n",
            "Epoch 53/100\n",
            "1500/1500 [==============================] - 3s 2ms/step - loss: 0.0039 - accuracy: 0.9986 - val_loss: 0.2402 - val_accuracy: 0.9714\n",
            "Epoch 54/100\n",
            "1500/1500 [==============================] - 3s 2ms/step - loss: 0.0101 - accuracy: 0.9969 - val_loss: 0.2712 - val_accuracy: 0.9699\n",
            "Epoch 55/100\n",
            "1500/1500 [==============================] - 3s 2ms/step - loss: 0.0060 - accuracy: 0.9982 - val_loss: 0.2653 - val_accuracy: 0.9694\n",
            "Epoch 56/100\n",
            "1500/1500 [==============================] - 3s 2ms/step - loss: 0.0065 - accuracy: 0.9981 - val_loss: 0.2507 - val_accuracy: 0.9712\n",
            "Epoch 57/100\n",
            "1500/1500 [==============================] - 3s 2ms/step - loss: 0.0070 - accuracy: 0.9981 - val_loss: 0.2553 - val_accuracy: 0.9726\n",
            "Epoch 58/100\n",
            "1500/1500 [==============================] - 3s 2ms/step - loss: 0.0054 - accuracy: 0.9984 - val_loss: 0.2471 - val_accuracy: 0.9744\n",
            "Epoch 59/100\n",
            "1500/1500 [==============================] - 3s 2ms/step - loss: 0.0079 - accuracy: 0.9976 - val_loss: 0.2648 - val_accuracy: 0.9723\n",
            "Epoch 60/100\n",
            "1500/1500 [==============================] - 3s 2ms/step - loss: 0.0072 - accuracy: 0.9979 - val_loss: 0.2452 - val_accuracy: 0.9749\n",
            "Epoch 61/100\n",
            "1500/1500 [==============================] - 3s 2ms/step - loss: 0.0063 - accuracy: 0.9981 - val_loss: 0.2430 - val_accuracy: 0.9751\n",
            "Epoch 62/100\n",
            "1500/1500 [==============================] - 3s 2ms/step - loss: 0.0055 - accuracy: 0.9982 - val_loss: 0.2393 - val_accuracy: 0.9746\n",
            "Epoch 63/100\n",
            "1500/1500 [==============================] - 3s 2ms/step - loss: 0.0061 - accuracy: 0.9984 - val_loss: 0.2585 - val_accuracy: 0.9732\n",
            "Epoch 64/100\n",
            "1500/1500 [==============================] - 3s 2ms/step - loss: 0.0075 - accuracy: 0.9980 - val_loss: 0.2636 - val_accuracy: 0.9721\n",
            "Epoch 65/100\n",
            "1500/1500 [==============================] - 3s 2ms/step - loss: 0.0043 - accuracy: 0.9986 - val_loss: 0.2928 - val_accuracy: 0.9707\n",
            "Epoch 66/100\n",
            "1500/1500 [==============================] - 3s 2ms/step - loss: 0.0056 - accuracy: 0.9983 - val_loss: 0.2476 - val_accuracy: 0.9738\n",
            "Epoch 67/100\n",
            "1500/1500 [==============================] - 3s 2ms/step - loss: 0.0018 - accuracy: 0.9995 - val_loss: 0.2285 - val_accuracy: 0.9763\n",
            "Epoch 68/100\n",
            "1500/1500 [==============================] - 3s 2ms/step - loss: 0.0107 - accuracy: 0.9974 - val_loss: 0.2687 - val_accuracy: 0.9716\n",
            "Epoch 69/100\n",
            "1500/1500 [==============================] - 3s 2ms/step - loss: 0.0074 - accuracy: 0.9978 - val_loss: 0.2613 - val_accuracy: 0.9721\n",
            "Epoch 70/100\n",
            "1500/1500 [==============================] - 3s 2ms/step - loss: 0.0023 - accuracy: 0.9993 - val_loss: 0.2395 - val_accuracy: 0.9761\n",
            "Epoch 71/100\n",
            "1500/1500 [==============================] - 3s 2ms/step - loss: 0.0074 - accuracy: 0.9979 - val_loss: 0.2385 - val_accuracy: 0.9747\n",
            "Epoch 72/100\n",
            "1500/1500 [==============================] - 3s 2ms/step - loss: 0.0058 - accuracy: 0.9982 - val_loss: 0.2744 - val_accuracy: 0.9728\n",
            "Epoch 73/100\n",
            "1500/1500 [==============================] - 3s 2ms/step - loss: 0.0062 - accuracy: 0.9981 - val_loss: 0.2963 - val_accuracy: 0.9697\n",
            "Epoch 74/100\n",
            "1500/1500 [==============================] - 3s 2ms/step - loss: 0.0059 - accuracy: 0.9984 - val_loss: 0.2519 - val_accuracy: 0.9757\n",
            "Epoch 75/100\n",
            "1500/1500 [==============================] - 3s 2ms/step - loss: 0.0056 - accuracy: 0.9984 - val_loss: 0.2839 - val_accuracy: 0.9737\n",
            "Epoch 76/100\n",
            "1500/1500 [==============================] - 3s 2ms/step - loss: 0.0040 - accuracy: 0.9986 - val_loss: 0.2602 - val_accuracy: 0.9759\n",
            "Epoch 77/100\n",
            "1500/1500 [==============================] - 3s 2ms/step - loss: 0.0085 - accuracy: 0.9979 - val_loss: 0.2649 - val_accuracy: 0.9745\n",
            "Epoch 78/100\n",
            "1500/1500 [==============================] - 3s 2ms/step - loss: 0.0037 - accuracy: 0.9990 - val_loss: 0.3049 - val_accuracy: 0.9697\n",
            "Epoch 79/100\n",
            "1500/1500 [==============================] - 3s 2ms/step - loss: 0.0070 - accuracy: 0.9982 - val_loss: 0.3056 - val_accuracy: 0.9728\n",
            "Epoch 80/100\n",
            "1500/1500 [==============================] - 4s 2ms/step - loss: 0.0064 - accuracy: 0.9983 - val_loss: 0.3052 - val_accuracy: 0.9726\n",
            "Epoch 81/100\n",
            "1500/1500 [==============================] - 3s 2ms/step - loss: 0.0043 - accuracy: 0.9989 - val_loss: 0.2758 - val_accuracy: 0.9756\n",
            "Epoch 82/100\n",
            "1500/1500 [==============================] - 4s 2ms/step - loss: 0.0056 - accuracy: 0.9985 - val_loss: 0.2883 - val_accuracy: 0.9726\n",
            "Epoch 83/100\n",
            "1500/1500 [==============================] - 3s 2ms/step - loss: 0.0061 - accuracy: 0.9984 - val_loss: 0.3084 - val_accuracy: 0.9739\n",
            "Epoch 84/100\n",
            "1500/1500 [==============================] - 3s 2ms/step - loss: 0.0066 - accuracy: 0.9982 - val_loss: 0.2742 - val_accuracy: 0.9755\n",
            "Epoch 85/100\n",
            "1500/1500 [==============================] - 3s 2ms/step - loss: 0.0038 - accuracy: 0.9986 - val_loss: 0.3067 - val_accuracy: 0.9738\n",
            "Epoch 86/100\n",
            "1500/1500 [==============================] - 3s 2ms/step - loss: 0.0055 - accuracy: 0.9983 - val_loss: 0.3101 - val_accuracy: 0.9717\n",
            "Epoch 87/100\n",
            "1500/1500 [==============================] - 3s 2ms/step - loss: 0.0051 - accuracy: 0.9985 - val_loss: 0.2853 - val_accuracy: 0.9751\n",
            "Epoch 88/100\n",
            "1500/1500 [==============================] - 3s 2ms/step - loss: 0.0074 - accuracy: 0.9981 - val_loss: 0.2920 - val_accuracy: 0.9743\n",
            "Epoch 89/100\n",
            "1500/1500 [==============================] - 3s 2ms/step - loss: 0.0045 - accuracy: 0.9988 - val_loss: 0.2819 - val_accuracy: 0.9757\n",
            "Epoch 90/100\n",
            "1500/1500 [==============================] - 3s 2ms/step - loss: 0.0061 - accuracy: 0.9983 - val_loss: 0.2875 - val_accuracy: 0.9738\n",
            "Epoch 91/100\n",
            "1500/1500 [==============================] - 3s 2ms/step - loss: 0.0039 - accuracy: 0.9989 - val_loss: 0.3064 - val_accuracy: 0.9736\n",
            "Epoch 92/100\n",
            "1500/1500 [==============================] - 3s 2ms/step - loss: 0.0045 - accuracy: 0.9987 - val_loss: 0.3156 - val_accuracy: 0.9734\n",
            "Epoch 93/100\n",
            "1500/1500 [==============================] - 3s 2ms/step - loss: 0.0029 - accuracy: 0.9991 - val_loss: 0.2902 - val_accuracy: 0.9759\n",
            "Epoch 94/100\n",
            "1500/1500 [==============================] - 3s 2ms/step - loss: 0.0064 - accuracy: 0.9983 - val_loss: 0.3215 - val_accuracy: 0.9737\n",
            "Epoch 95/100\n",
            "1500/1500 [==============================] - 3s 2ms/step - loss: 0.0051 - accuracy: 0.9984 - val_loss: 0.3292 - val_accuracy: 0.9735\n",
            "Epoch 96/100\n",
            "1500/1500 [==============================] - 3s 2ms/step - loss: 0.0040 - accuracy: 0.9988 - val_loss: 0.2864 - val_accuracy: 0.9749\n",
            "Epoch 97/100\n",
            "1500/1500 [==============================] - 3s 2ms/step - loss: 0.0041 - accuracy: 0.9989 - val_loss: 0.3374 - val_accuracy: 0.9734\n",
            "Epoch 98/100\n",
            "1500/1500 [==============================] - 3s 2ms/step - loss: 0.0058 - accuracy: 0.9981 - val_loss: 0.3186 - val_accuracy: 0.9747\n",
            "Epoch 99/100\n",
            "1500/1500 [==============================] - 3s 2ms/step - loss: 0.0051 - accuracy: 0.9987 - val_loss: 0.3229 - val_accuracy: 0.9731\n",
            "Epoch 100/100\n",
            "1500/1500 [==============================] - 3s 2ms/step - loss: 0.0051 - accuracy: 0.9986 - val_loss: 0.3874 - val_accuracy: 0.9706\n"
          ],
          "name": "stdout"
        }
      ]
    },
    {
      "cell_type": "markdown",
      "metadata": {
        "id": "E2pcI4oMn7Ux"
      },
      "source": [
        "이로서 현재 학습 과정 중 가장 낮은 검증셋의 손실값을 가진 모델이 \"best_model.h5\" 파일로 저장되었습니다."
      ]
    },
    {
      "cell_type": "markdown",
      "metadata": {
        "id": "2FGSGDMLn7Ux"
      },
      "source": [
        "파일로 저장된 모델을 로딩하여 시험셋으로 최종 평가를 수행합니다."
      ]
    },
    {
      "cell_type": "code",
      "metadata": {
        "colab": {
          "base_uri": "https://localhost:8080/"
        },
        "id": "7dR4v-GuwCuG",
        "outputId": "4a5f76de-8b0c-4eeb-a5f0-09bbc8a33868"
      },
      "source": [
        "model = load_model(\"best_model.h5\")\n",
        "\n",
        "test_loss, test_acc = model.evaluate(x_test, y_test)\n",
        "\n",
        "print(\"Test accuracy\", test_acc)\n",
        "print(\"Test loss\", test_loss)"
      ],
      "execution_count": 17,
      "outputs": [
        {
          "output_type": "stream",
          "text": [
            "313/313 [==============================] - 1s 2ms/step - loss: 0.0919 - accuracy: 0.9726\n",
            "Test accuracy 0.972599983215332\n",
            "Test loss 0.09191595762968063\n"
          ],
          "name": "stdout"
        }
      ]
    },
    {
      "cell_type": "markdown",
      "metadata": {
        "id": "gPwlKPzqZmOu"
      },
      "source": [
        "또한 시험셋으로 테스트한 결과를 제출하기 위해 모델 결과 파일을 저장합니다. 출력이 10개 클래스에 해당하는 벡터이므로, 분류한 클래스 정보를 얻기 위해 가장 높은 값을 가진 인덱스 값을 가지고 옵니다. 이 인덱스가 클래스를 의미하며, 이 값을 파일로 저장합니다."
      ]
    },
    {
      "cell_type": "code",
      "metadata": {
        "id": "REvi-WpIZuKx"
      },
      "source": [
        "y_pred = model.predict(x_test)\n",
        "y_pred = y_pred.argmax(axis=-1)\n",
        "np.savetxt('y_pred.csv', y_pred, fmt='%d')"
      ],
      "execution_count": 18,
      "outputs": []
    }
  ]
}