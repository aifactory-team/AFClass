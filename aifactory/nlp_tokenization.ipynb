{
  "nbformat": 4,
  "nbformat_minor": 0,
  "metadata": {
    "colab": {
      "name": "nlp_tokenization.ipynb",
      "provenance": [],
      "collapsed_sections": []
    },
    "kernelspec": {
      "name": "python3",
      "display_name": "Python 3"
    },
    "language_info": {
      "name": "python"
    }
  },
  "cells": [
    {
      "cell_type": "code",
      "metadata": {
        "id": "07uDInpUKOB7"
      },
      "source": [
        "from IPython.display import display"
      ],
      "execution_count": 1,
      "outputs": []
    },
    {
      "cell_type": "code",
      "metadata": {
        "colab": {
          "base_uri": "https://localhost:8080/",
          "height": 180
        },
        "id": "9mZtVXzRJp5w",
        "outputId": "b72a049d-0703-4d83-f549-63dee69e00e4"
      },
      "source": [
        "source_texts = \"\"\"나라의 말이 중국과 달라\n",
        "한자와는 서로 통하지 아니하여서 \n",
        "이런 까닭으로 어리석은 백성이 \n",
        "말하고자 하는 바가 있어도 \n",
        "마침내 제 뜻을 능히 펴지 \n",
        "못하는 사람이 많다 \n",
        "내가 이를 위하여 가엾게 여겨 \n",
        "새로 스물여덟 자를 만드니 \n",
        "사람마다 하여금 쉽게 익혀 날마다 씀에 \n",
        "편안케 하고자 할 따름이다\"\"\"\n",
        "\n",
        "source_texts = source_texts.split('\\n')\n",
        "\n",
        "display(source_texts)"
      ],
      "execution_count": 12,
      "outputs": [
        {
          "output_type": "display_data",
          "data": {
            "text/plain": [
              "['나라의 말이 중국과 달라',\n",
              " '한자와는 서로 통하지 아니하여서 ',\n",
              " '이런 까닭으로 어리석은 백성이 ',\n",
              " '말하고자 하는 바가 있어도 ',\n",
              " '마침내 제 뜻을 능히 펴지 ',\n",
              " '못하는 사람이 많다 ',\n",
              " '내가 이를 위하여 가엾게 여겨 ',\n",
              " '새로 스물여덟 자를 만드니 ',\n",
              " '사람마다 하여금 쉽게 익혀 날마다 씀에 ',\n",
              " '편안케 하고자 할 따름이다']"
            ]
          },
          "metadata": {
            "tags": []
          }
        }
      ]
    },
    {
      "cell_type": "code",
      "metadata": {
        "colab": {
          "base_uri": "https://localhost:8080/"
        },
        "id": "lIkJ14x7KdTs",
        "outputId": "e5004efd-0b5d-4ae4-b525-69c9bce723e2"
      },
      "source": [
        "!pip install konlpy"
      ],
      "execution_count": 3,
      "outputs": [
        {
          "output_type": "stream",
          "text": [
            "Collecting konlpy\n",
            "  Downloading konlpy-0.5.2-py2.py3-none-any.whl (19.4 MB)\n",
            "\u001b[K     |████████████████████████████████| 19.4 MB 1.2 MB/s \n",
            "\u001b[?25hRequirement already satisfied: tweepy>=3.7.0 in /usr/local/lib/python3.7/dist-packages (from konlpy) (3.10.0)\n",
            "Requirement already satisfied: lxml>=4.1.0 in /usr/local/lib/python3.7/dist-packages (from konlpy) (4.2.6)\n",
            "Collecting colorama\n",
            "  Downloading colorama-0.4.4-py2.py3-none-any.whl (16 kB)\n",
            "Collecting JPype1>=0.7.0\n",
            "  Downloading JPype1-1.3.0-cp37-cp37m-manylinux_2_5_x86_64.manylinux1_x86_64.whl (448 kB)\n",
            "\u001b[K     |████████████████████████████████| 448 kB 54.2 MB/s \n",
            "\u001b[?25hCollecting beautifulsoup4==4.6.0\n",
            "  Downloading beautifulsoup4-4.6.0-py3-none-any.whl (86 kB)\n",
            "\u001b[K     |████████████████████████████████| 86 kB 5.1 MB/s \n",
            "\u001b[?25hRequirement already satisfied: numpy>=1.6 in /usr/local/lib/python3.7/dist-packages (from konlpy) (1.19.5)\n",
            "Requirement already satisfied: typing-extensions in /usr/local/lib/python3.7/dist-packages (from JPype1>=0.7.0->konlpy) (3.7.4.3)\n",
            "Requirement already satisfied: requests-oauthlib>=0.7.0 in /usr/local/lib/python3.7/dist-packages (from tweepy>=3.7.0->konlpy) (1.3.0)\n",
            "Requirement already satisfied: six>=1.10.0 in /usr/local/lib/python3.7/dist-packages (from tweepy>=3.7.0->konlpy) (1.15.0)\n",
            "Requirement already satisfied: requests[socks]>=2.11.1 in /usr/local/lib/python3.7/dist-packages (from tweepy>=3.7.0->konlpy) (2.23.0)\n",
            "Requirement already satisfied: oauthlib>=3.0.0 in /usr/local/lib/python3.7/dist-packages (from requests-oauthlib>=0.7.0->tweepy>=3.7.0->konlpy) (3.1.1)\n",
            "Requirement already satisfied: idna<3,>=2.5 in /usr/local/lib/python3.7/dist-packages (from requests[socks]>=2.11.1->tweepy>=3.7.0->konlpy) (2.10)\n",
            "Requirement already satisfied: chardet<4,>=3.0.2 in /usr/local/lib/python3.7/dist-packages (from requests[socks]>=2.11.1->tweepy>=3.7.0->konlpy) (3.0.4)\n",
            "Requirement already satisfied: urllib3!=1.25.0,!=1.25.1,<1.26,>=1.21.1 in /usr/local/lib/python3.7/dist-packages (from requests[socks]>=2.11.1->tweepy>=3.7.0->konlpy) (1.24.3)\n",
            "Requirement already satisfied: certifi>=2017.4.17 in /usr/local/lib/python3.7/dist-packages (from requests[socks]>=2.11.1->tweepy>=3.7.0->konlpy) (2021.5.30)\n",
            "Requirement already satisfied: PySocks!=1.5.7,>=1.5.6 in /usr/local/lib/python3.7/dist-packages (from requests[socks]>=2.11.1->tweepy>=3.7.0->konlpy) (1.7.1)\n",
            "Installing collected packages: JPype1, colorama, beautifulsoup4, konlpy\n",
            "  Attempting uninstall: beautifulsoup4\n",
            "    Found existing installation: beautifulsoup4 4.6.3\n",
            "    Uninstalling beautifulsoup4-4.6.3:\n",
            "      Successfully uninstalled beautifulsoup4-4.6.3\n",
            "Successfully installed JPype1-1.3.0 beautifulsoup4-4.6.0 colorama-0.4.4 konlpy-0.5.2\n"
          ],
          "name": "stdout"
        }
      ]
    },
    {
      "cell_type": "code",
      "metadata": {
        "colab": {
          "base_uri": "https://localhost:8080/",
          "height": 1000
        },
        "id": "8JoXMoB4KjFO",
        "outputId": "10b859ed-66ac-47b1-e8f0-c2ca3c189b30"
      },
      "source": [
        "from konlpy.tag import Okt\n",
        "tokenizer = Okt()\n",
        "\n",
        "tokens = []\n",
        "tokenized_texts = []\n",
        "\n",
        "max_seq_length = 0\n",
        "\n",
        "for text in texts:\n",
        "    tokenized_text = tokenizer.morphs(text)\n",
        "\n",
        "    for token in tokenized_text:\n",
        "        tokens.append(token)\n",
        "\n",
        "    max_seq_length = max(max_seq_length, len(tokenized_text))\n",
        "\n",
        "    tokenized_text = \" \".join(tokenized_text)\n",
        "    tokenized_texts.append(tokenized_text)\n",
        "\n",
        "tokens = list(set(tokens))\n",
        "tokens = sorted(list(tokens))\n",
        "\n",
        "display(tokenized_texts)\n",
        "display(tokens)\n",
        "display(max_seq_length)"
      ],
      "execution_count": 33,
      "outputs": [
        {
          "output_type": "display_data",
          "data": {
            "text/plain": [
              "['나라 의 말 이 중국 과 달라',\n",
              " '한자 와는 서로 통 하지 아니하여서',\n",
              " '이런 까닭 으로 어리석은 백성 이',\n",
              " '말 하고자 하는 바 가 있어도',\n",
              " '마침내 제 뜻 을 능 히 펴지',\n",
              " '못 하는 사람 이 많다',\n",
              " '내 가 이를 위 하여 가엾게 여겨',\n",
              " '새로 스물 여덟 자를 만드니',\n",
              " '사람 마다 하여금 쉽게 익혀 날 마다 씀에',\n",
              " '편안 케 하고자 할 따름 이다']"
            ]
          },
          "metadata": {
            "tags": []
          }
        },
        {
          "output_type": "display_data",
          "data": {
            "text/plain": [
              "['가',\n",
              " '가엾게',\n",
              " '과',\n",
              " '까닭',\n",
              " '나라',\n",
              " '날',\n",
              " '내',\n",
              " '능',\n",
              " '달라',\n",
              " '따름',\n",
              " '뜻',\n",
              " '마다',\n",
              " '마침내',\n",
              " '만드니',\n",
              " '많다',\n",
              " '말',\n",
              " '못',\n",
              " '바',\n",
              " '백성',\n",
              " '사람',\n",
              " '새로',\n",
              " '서로',\n",
              " '쉽게',\n",
              " '스물',\n",
              " '씀에',\n",
              " '아니하여서',\n",
              " '어리석은',\n",
              " '여겨',\n",
              " '여덟',\n",
              " '와는',\n",
              " '위',\n",
              " '으로',\n",
              " '을',\n",
              " '의',\n",
              " '이',\n",
              " '이다',\n",
              " '이런',\n",
              " '이를',\n",
              " '익혀',\n",
              " '있어도',\n",
              " '자를',\n",
              " '제',\n",
              " '중국',\n",
              " '케',\n",
              " '통',\n",
              " '펴지',\n",
              " '편안',\n",
              " '하고자',\n",
              " '하는',\n",
              " '하여',\n",
              " '하여금',\n",
              " '하지',\n",
              " '한자',\n",
              " '할',\n",
              " '히']"
            ]
          },
          "metadata": {
            "tags": []
          }
        },
        {
          "output_type": "display_data",
          "data": {
            "text/plain": [
              "8"
            ]
          },
          "metadata": {
            "tags": []
          }
        }
      ]
    },
    {
      "cell_type": "code",
      "metadata": {
        "id": "nwEz8tnqSse-"
      },
      "source": [
        "with open('y_pred.csv', 'wt') as f:\n",
        "    for token in tokens:\n",
        "        f.write(\"%s\\n\" % token)"
      ],
      "execution_count": 50,
      "outputs": []
    }
  ]
}