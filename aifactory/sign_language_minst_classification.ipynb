{
  "nbformat": 4,
  "nbformat_minor": 0,
  "metadata": {
    "accelerator": "GPU",
    "colab": {
      "name": "sign_language_minst_classification",
      "provenance": [],
      "collapsed_sections": []
    },
    "kernelspec": {
      "display_name": "Python 3",
      "language": "python",
      "name": "python3"
    },
    "language_info": {
      "codemirror_mode": {
        "name": "ipython",
        "version": 3
      },
      "file_extension": ".py",
      "mimetype": "text/x-python",
      "name": "python",
      "nbconvert_exporter": "python",
      "pygments_lexer": "ipython3",
      "version": "3.6.10"
    }
  },
  "cells": [
    {
      "cell_type": "markdown",
      "metadata": {
        "id": "L3eSKOAdn7Uw"
      },
      "source": [
        "필요한 패키지를 가져옵니다."
      ]
    },
    {
      "cell_type": "markdown",
      "metadata": {
        "id": "7sC-LwqvtM1q"
      },
      "source": [
        "알파벳 수화에 대해 배워봅시다. 사전 지식이 없다고 가정할 때, 사람은 어떻게 배우는 지, 그리고 학습한 것을 어떻게 평가할 것인지도 알아봅니다. "
      ]
    },
    {
      "cell_type": "code",
      "metadata": {
        "id": "-XAyceMYvow8"
      },
      "source": [
        "import numpy as np\n",
        "import matplotlib.pyplot as plt\n",
        "\n",
        "from tensorflow.keras.models import Sequential, load_model\n",
        "from tensorflow.keras.layers import Dense\n",
        "from tensorflow.keras.callbacks import ModelCheckpoint\n",
        "from tensorflow.keras.utils import plot_model, to_categorical"
      ],
      "execution_count": null,
      "outputs": []
    },
    {
      "cell_type": "markdown",
      "metadata": {
        "id": "hRfuOMk0n7Uw"
      },
      "source": [
        "먼저 알파벳 수화 이미지 데이터셋을 아래 페이지에서 다운로드 받습니다. \n",
        "\n",
        "http://aifactory.space/aifactory/taskData/detail.do?task.taskId=T002057\n",
        "\n",
        "그 다음 다운로드 받은 파일을 구글 코랩 서버에 업로드한 뒤 불러옵니다."
      ]
    },
    {
      "cell_type": "code",
      "metadata": {
        "colab": {
          "base_uri": "https://localhost:8080/"
        },
        "id": "nKPyUcYouz_8",
        "outputId": "648f362a-7f8e-464f-967e-22b724a5f6db"
      },
      "source": [
        "dataset = np.load('sign_mnist.npz')\n",
        "x_train, y_train = dataset['x_train'], dataset['y_train']\n",
        "x_test, y_test = dataset['x_test'], dataset['y_test']\n",
        "\n",
        "print('x_train shape : ' + str(x_train.shape))\n",
        "print('y_train shape : ' + str(y_train.shape))\n",
        "print('x_test shape : ' + str(x_test.shape))\n",
        "print('y_test shape : ' + str(y_test.shape))"
      ],
      "execution_count": null,
      "outputs": [
        {
          "output_type": "stream",
          "text": [
            "x_train shape : (27455, 28, 28)\n",
            "y_train shape : (27455,)\n",
            "x_test shape : (7172, 28, 28)\n",
            "y_test shape : (7172,)\n"
          ],
          "name": "stdout"
        }
      ]
    },
    {
      "cell_type": "markdown",
      "metadata": {
        "id": "1MRgyIo7VDTm"
      },
      "source": [
        "테스트할 샘플 하나를 살펴봅니다."
      ]
    },
    {
      "cell_type": "code",
      "metadata": {
        "colab": {
          "base_uri": "https://localhost:8080/",
          "height": 282
        },
        "id": "M5dzhF1mVHpX",
        "outputId": "e1c4767b-25c5-42a3-eca7-c157975ac932"
      },
      "source": [
        "plt.imshow(x_test[0], cmap='gray')"
      ],
      "execution_count": null,
      "outputs": [
        {
          "output_type": "execute_result",
          "data": {
            "text/plain": [
              "<matplotlib.image.AxesImage at 0x7fe0702d7cd0>"
            ]
          },
          "metadata": {
            "tags": []
          },
          "execution_count": 13
        },
        {
          "output_type": "display_data",
          "data": {
            "image/png": "[encoded data removed]",
            "text/plain": [
              "<Figure size 432x288 with 1 Axes>"
            ]
          },
          "metadata": {
            "tags": [],
            "needs_background": "light"
          }
        }
      ]
    },
    {
      "cell_type": "markdown",
      "metadata": {
        "id": "59TzdRYXai74"
      },
      "source": [
        "인공지능 모델이 이 이미지를 입력받았을 때, 해당하는 알파벳을 출력할 수 있도록 만드는 것이 목표입니다. 우리는 y_test 라벨값도 가지고 있어서 바로 확인은 할 수 있으나, 모델 학습 시에는 사용이 되지 않으며, 시험 평가할 때만 사용됩니다."
      ]
    },
    {
      "cell_type": "code",
      "metadata": {
        "colab": {
          "base_uri": "https://localhost:8080/"
        },
        "id": "pfFSxqevajVW",
        "outputId": "197ddae5-f0f6-4961-d76a-4f20afa891d0"
      },
      "source": [
        "print(y_test[0])"
      ],
      "execution_count": null,
      "outputs": [
        {
          "output_type": "stream",
          "text": [
            "6\n"
          ],
          "name": "stdout"
        }
      ]
    },
    {
      "cell_type": "markdown",
      "metadata": {
        "id": "GMiJUbcHn7Ux"
      },
      "source": [
        "모델 학습에 용이하도록 다음과 같이 데이터 전처리를 수행합니다.\n",
        "\n",
        "*   데이터 전처리\n",
        "    * 3차원(샘플수, 세로, 가로)를 2차원(샘플수, 벡터수)으로 변경\n",
        "    * 정수를 실수로 변경\n",
        "    * 0 ~ 255 사이의 수치를 0.0 ~ 1.0 사이로 정규화 수행\n",
        "*   라벨 전처리\n",
        "    * 0 ~ 9 라벨에 대한 원핫인코딩 수행 \n",
        "\n"
      ]
    },
    {
      "cell_type": "code",
      "metadata": {
        "id": "-Tq2r8mKB9RC"
      },
      "source": [
        "x_train = x_train.reshape(27455, 784).astype('float32') / 255.0\n",
        "x_test = x_test.reshape(7172, 784).astype('float32') / 255.0\n",
        "y_train = to_categorical(y_train)\n",
        "y_test = to_categorical(y_test)"
      ],
      "execution_count": null,
      "outputs": []
    },
    {
      "cell_type": "markdown",
      "metadata": {
        "id": "WQ6ok1F3n7Ux"
      },
      "source": [
        "모델은 다음과 같이 구성하였습니다.\n",
        "\n",
        "* 입력: 1차원의 784개 벡터\n",
        "* 출력: 10개 벡터\n",
        "* 출력층의 활성화 함수: 소프트맥스\n",
        "* 손실함수: categorical_crossentropy\n",
        "* 최적화기: adam\n",
        "* 평가 메트릭: accuracy\n"
      ]
    },
    {
      "cell_type": "code",
      "metadata": {
        "id": "CfRck8LMt3qk",
        "colab": {
          "base_uri": "https://localhost:8080/"
        },
        "outputId": "738649c0-8112-44c6-c006-fc97543acd14"
      },
      "source": [
        "y_train.shape"
      ],
      "execution_count": null,
      "outputs": [
        {
          "output_type": "execute_result",
          "data": {
            "text/plain": [
              "(27455, 25)"
            ]
          },
          "metadata": {
            "tags": []
          },
          "execution_count": 16
        }
      ]
    },
    {
      "cell_type": "code",
      "metadata": {
        "id": "_SXTk3Twv9Qc"
      },
      "source": [
        "model = Sequential([\n",
        "    Dense(64, input_dim=28*28, activation='relu'), \n",
        "    Dense(32, activation='relu'), \n",
        "    Dense(25, activation='softmax')\n",
        "])\n",
        "\n",
        "model.compile(loss='categorical_crossentropy', optimizer='adam', metrics=['accuracy'])"
      ],
      "execution_count": null,
      "outputs": []
    },
    {
      "cell_type": "markdown",
      "metadata": {
        "id": "7C7XabvDn7Ux"
      },
      "source": [
        "모델 네트워크 아키텍처 구성을 그려보겠습니다."
      ]
    },
    {
      "cell_type": "code",
      "metadata": {
        "colab": {
          "base_uri": "https://localhost:8080/",
          "height": 422
        },
        "id": "xFLTw6eln7Ux",
        "outputId": "a943f207-d01f-468d-d78c-a03a19fd81e1"
      },
      "source": [
        "plot_model(model, show_shapes=True)"
      ],
      "execution_count": null,
      "outputs": [
        {
          "output_type": "execute_result",
          "data": {
            "image/png": "[encoded data removed]",
            "text/plain": [
              "<IPython.core.display.Image object>"
            ]
          },
          "metadata": {
            "tags": []
          },
          "execution_count": 21
        }
      ]
    },
    {
      "cell_type": "markdown",
      "metadata": {
        "id": "iH75hSGrn7Ux"
      },
      "source": [
        "모델을 학습시킬 때, validation_split 옵션을 두면 훈련셋 일부를 검증셋으로 설정할 수 있습니다. 0.2로 설정할 경우, 전체 훈련셋에서 20%를 검증셋, 나머지를 훈련셋으로 구성하여 학습합니다."
      ]
    },
    {
      "cell_type": "markdown",
      "metadata": {
        "id": "FT4_DoFRUznI"
      },
      "source": [
        "학습 시 매 에포크에 해당하는 훈련셋과 검증셋에 대한 손실값과 평가 메트릭 수치를 확인할 수 있습니다. 이를 시각화시키면 오버피팅 여부를 한 눈에 확인할 수 있습니다."
      ]
    },
    {
      "cell_type": "markdown",
      "metadata": {
        "id": "jCAQ09u9W09V"
      },
      "source": [
        "오버피팅이 10 에포크 이전에 발생했더라도 100 에포크까지 학습을 시켰으므로 현재 모델은 오버피팅이 되어 있는 상태입니다. 오버피팅이 되지 않은 모델을 확보하기 위해는 아래 세 가지 방법을 사용할 수 있습니다. \n",
        "\n",
        "1. 오버피팅이 되는 에포크를 확인하였다면, 오버피팅 전의 에포크 만큼 모델을 학습시킵니다.\n",
        "2. 콜백함수를 사용하여, 오버피팅이 감지되면 조기 중단을 시키도록 합니다.\n",
        "3. 콜백함수를 사용하여, 매 에포크마다 검증셋의 손실값을 체크한 후, 이전 손실값보다 낮은 경우 모델을 파일로 저장합니다. 즉 학습 종료가 되면, 파일에 저장된 모델은 손실값이 가장 낮을 때의 가중치를 가지고 있습니다.\n",
        "\n",
        "1번 방법은 두 번 학습을 시켜야하고, 2번 방법은 더 학습이 가능했음에도 설정된 오버피팅 감지 조건에 의해 조기 중단이 될 수도 있으므로, 이후 실습에서는 주로 3번 방법을 사용하도록 하겠습니다.\n",
        "\n",
        "모델 정의부터 컴파일, 콜백함수 정의, 모델 학습까지의 코드는 아래와 같습니다. 다음부터는 두 번 학습할 필요없이 아래 코드로 한 번만 수행합니다."
      ]
    },
    {
      "cell_type": "code",
      "metadata": {
        "colab": {
          "base_uri": "https://localhost:8080/"
        },
        "id": "upKgRxiNT5MQ",
        "outputId": "7b58cec6-1a78-4bed-f3da-0ad8ce3fa973"
      },
      "source": [
        "model = Sequential([\n",
        "    Dense(64, input_dim=28*28, activation='relu'), \n",
        "    Dense(32, activation='relu'), \n",
        "    Dense(25, activation='softmax')\n",
        "])\n",
        "\n",
        "model.compile(loss='categorical_crossentropy', optimizer='adam', metrics=['accuracy'])\n",
        "\n",
        "checkpoint_callback = ModelCheckpoint(\"best_model.h5\", \n",
        "                                      save_best_only=True, \n",
        "                                      monitor=\"val_loss\")\n",
        "\n",
        "hist = model.fit(x_train, y_train, \n",
        "                 validation_split=0.2, \n",
        "                 batch_size=32,\n",
        "                 epochs=100,  \n",
        "                 callbacks=[checkpoint_callback])"
      ],
      "execution_count": null,
      "outputs": [
        {
          "output_type": "stream",
          "text": [
            "Epoch 1/100\n",
            "687/687 [==============================] - 2s 3ms/step - loss: 2.4829 - accuracy: 0.2350 - val_loss: 1.9004 - val_accuracy: 0.3744\n",
            "Epoch 2/100\n",
            "687/687 [==============================] - 2s 2ms/step - loss: 1.6963 - accuracy: 0.4584 - val_loss: 1.4766 - val_accuracy: 0.5309\n",
            "Epoch 3/100\n",
            "687/687 [==============================] - 2s 3ms/step - loss: 1.3441 - accuracy: 0.5724 - val_loss: 1.1460 - val_accuracy: 0.6341\n",
            "Epoch 4/100\n",
            "687/687 [==============================] - 2s 3ms/step - loss: 1.1321 - accuracy: 0.6349 - val_loss: 1.0296 - val_accuracy: 0.6547\n",
            "Epoch 5/100\n",
            "687/687 [==============================] - 2s 3ms/step - loss: 0.9836 - accuracy: 0.6854 - val_loss: 0.9435 - val_accuracy: 0.6920\n",
            "Epoch 6/100\n",
            "687/687 [==============================] - 2s 2ms/step - loss: 0.8838 - accuracy: 0.7157 - val_loss: 0.8492 - val_accuracy: 0.7181\n",
            "Epoch 7/100\n",
            "687/687 [==============================] - 2s 3ms/step - loss: 0.7947 - accuracy: 0.7448 - val_loss: 0.8017 - val_accuracy: 0.7459\n",
            "Epoch 8/100\n",
            "687/687 [==============================] - 2s 3ms/step - loss: 0.7303 - accuracy: 0.7667 - val_loss: 0.6441 - val_accuracy: 0.8028\n",
            "Epoch 9/100\n",
            "687/687 [==============================] - 2s 3ms/step - loss: 0.6564 - accuracy: 0.7933 - val_loss: 0.6832 - val_accuracy: 0.7778\n",
            "Epoch 10/100\n",
            "687/687 [==============================] - 2s 2ms/step - loss: 0.6019 - accuracy: 0.8087 - val_loss: 0.5872 - val_accuracy: 0.8106\n",
            "Epoch 11/100\n",
            "687/687 [==============================] - 2s 3ms/step - loss: 0.5456 - accuracy: 0.8288 - val_loss: 0.5227 - val_accuracy: 0.8277\n",
            "Epoch 12/100\n",
            "687/687 [==============================] - 2s 2ms/step - loss: 0.5059 - accuracy: 0.8444 - val_loss: 0.4758 - val_accuracy: 0.8494\n",
            "Epoch 13/100\n",
            "687/687 [==============================] - 2s 3ms/step - loss: 0.4562 - accuracy: 0.8582 - val_loss: 0.4479 - val_accuracy: 0.8570\n",
            "Epoch 14/100\n",
            "687/687 [==============================] - 2s 3ms/step - loss: 0.4233 - accuracy: 0.8661 - val_loss: 0.3676 - val_accuracy: 0.8913\n",
            "Epoch 15/100\n",
            "687/687 [==============================] - 2s 3ms/step - loss: 0.3884 - accuracy: 0.8807 - val_loss: 0.3951 - val_accuracy: 0.8718\n",
            "Epoch 16/100\n",
            "687/687 [==============================] - 2s 3ms/step - loss: 0.3539 - accuracy: 0.8881 - val_loss: 0.3005 - val_accuracy: 0.9102\n",
            "Epoch 17/100\n",
            "687/687 [==============================] - 2s 3ms/step - loss: 0.3106 - accuracy: 0.9076 - val_loss: 0.3816 - val_accuracy: 0.8649\n",
            "Epoch 18/100\n",
            "687/687 [==============================] - 2s 3ms/step - loss: 0.2794 - accuracy: 0.9181 - val_loss: 0.2623 - val_accuracy: 0.9228\n",
            "Epoch 19/100\n",
            "687/687 [==============================] - 2s 3ms/step - loss: 0.2548 - accuracy: 0.9248 - val_loss: 0.2705 - val_accuracy: 0.9100\n",
            "Epoch 20/100\n",
            "687/687 [==============================] - 2s 3ms/step - loss: 0.2390 - accuracy: 0.9294 - val_loss: 0.2383 - val_accuracy: 0.9270\n",
            "Epoch 21/100\n",
            "687/687 [==============================] - 2s 3ms/step - loss: 0.2133 - accuracy: 0.9379 - val_loss: 0.1668 - val_accuracy: 0.9583\n",
            "Epoch 22/100\n",
            "687/687 [==============================] - 2s 2ms/step - loss: 0.1944 - accuracy: 0.9425 - val_loss: 0.1955 - val_accuracy: 0.9384\n",
            "Epoch 23/100\n",
            "687/687 [==============================] - 2s 3ms/step - loss: 0.1652 - accuracy: 0.9541 - val_loss: 0.1628 - val_accuracy: 0.9539\n",
            "Epoch 24/100\n",
            "687/687 [==============================] - 2s 3ms/step - loss: 0.1634 - accuracy: 0.9533 - val_loss: 0.1527 - val_accuracy: 0.9567\n",
            "Epoch 25/100\n",
            "687/687 [==============================] - 2s 2ms/step - loss: 0.1438 - accuracy: 0.9602 - val_loss: 0.1455 - val_accuracy: 0.9525\n",
            "Epoch 26/100\n",
            "687/687 [==============================] - 2s 3ms/step - loss: 0.1314 - accuracy: 0.9636 - val_loss: 0.1953 - val_accuracy: 0.9324\n",
            "Epoch 27/100\n",
            "687/687 [==============================] - 2s 3ms/step - loss: 0.1176 - accuracy: 0.9678 - val_loss: 0.0831 - val_accuracy: 0.9856\n",
            "Epoch 28/100\n",
            "687/687 [==============================] - 2s 3ms/step - loss: 0.1130 - accuracy: 0.9690 - val_loss: 0.0787 - val_accuracy: 0.9840\n",
            "Epoch 29/100\n",
            "687/687 [==============================] - 2s 3ms/step - loss: 0.0965 - accuracy: 0.9751 - val_loss: 0.1166 - val_accuracy: 0.9621\n",
            "Epoch 30/100\n",
            "687/687 [==============================] - 2s 3ms/step - loss: 0.0882 - accuracy: 0.9780 - val_loss: 0.1215 - val_accuracy: 0.9625\n",
            "Epoch 31/100\n",
            "687/687 [==============================] - 2s 3ms/step - loss: 0.0897 - accuracy: 0.9766 - val_loss: 0.1491 - val_accuracy: 0.9448\n",
            "Epoch 32/100\n",
            "687/687 [==============================] - 2s 3ms/step - loss: 0.0825 - accuracy: 0.9775 - val_loss: 0.0833 - val_accuracy: 0.9765\n",
            "Epoch 33/100\n",
            "687/687 [==============================] - 2s 3ms/step - loss: 0.0926 - accuracy: 0.9723 - val_loss: 0.0384 - val_accuracy: 0.9962\n",
            "Epoch 34/100\n",
            "687/687 [==============================] - 2s 3ms/step - loss: 0.0658 - accuracy: 0.9826 - val_loss: 0.0507 - val_accuracy: 0.9907\n",
            "Epoch 35/100\n",
            "687/687 [==============================] - 2s 3ms/step - loss: 0.0642 - accuracy: 0.9836 - val_loss: 0.0760 - val_accuracy: 0.9761\n",
            "Epoch 36/100\n",
            "687/687 [==============================] - 2s 3ms/step - loss: 0.0571 - accuracy: 0.9855 - val_loss: 0.0481 - val_accuracy: 0.9874\n",
            "Epoch 37/100\n",
            "687/687 [==============================] - 2s 3ms/step - loss: 0.0609 - accuracy: 0.9844 - val_loss: 0.1345 - val_accuracy: 0.9530\n",
            "Epoch 38/100\n",
            "687/687 [==============================] - 2s 3ms/step - loss: 0.0455 - accuracy: 0.9899 - val_loss: 0.0285 - val_accuracy: 0.9962\n",
            "Epoch 39/100\n",
            "687/687 [==============================] - 2s 3ms/step - loss: 0.0455 - accuracy: 0.9892 - val_loss: 0.0623 - val_accuracy: 0.9800\n",
            "Epoch 40/100\n",
            "687/687 [==============================] - 2s 3ms/step - loss: 0.0632 - accuracy: 0.9817 - val_loss: 0.0224 - val_accuracy: 0.9969\n",
            "Epoch 41/100\n",
            "687/687 [==============================] - 2s 3ms/step - loss: 0.0337 - accuracy: 0.9927 - val_loss: 0.1018 - val_accuracy: 0.9658\n",
            "Epoch 42/100\n",
            "687/687 [==============================] - 2s 3ms/step - loss: 0.0544 - accuracy: 0.9835 - val_loss: 0.0195 - val_accuracy: 0.9973\n",
            "Epoch 43/100\n",
            "687/687 [==============================] - 2s 3ms/step - loss: 0.0339 - accuracy: 0.9916 - val_loss: 0.0306 - val_accuracy: 0.9927\n",
            "Epoch 44/100\n",
            "687/687 [==============================] - 2s 3ms/step - loss: 0.0547 - accuracy: 0.9842 - val_loss: 0.0274 - val_accuracy: 0.9960\n",
            "Epoch 45/100\n",
            "687/687 [==============================] - 2s 3ms/step - loss: 0.0603 - accuracy: 0.9818 - val_loss: 0.0117 - val_accuracy: 0.9985\n",
            "Epoch 46/100\n",
            "687/687 [==============================] - 2s 3ms/step - loss: 0.0200 - accuracy: 0.9962 - val_loss: 0.0256 - val_accuracy: 0.9958\n",
            "Epoch 47/100\n",
            "687/687 [==============================] - 2s 3ms/step - loss: 0.0476 - accuracy: 0.9860 - val_loss: 0.0134 - val_accuracy: 0.9978\n",
            "Epoch 48/100\n",
            "687/687 [==============================] - 2s 3ms/step - loss: 0.0384 - accuracy: 0.9892 - val_loss: 0.0738 - val_accuracy: 0.9769\n",
            "Epoch 49/100\n",
            "687/687 [==============================] - 2s 3ms/step - loss: 0.0375 - accuracy: 0.9898 - val_loss: 0.0135 - val_accuracy: 0.9973\n",
            "Epoch 50/100\n",
            "687/687 [==============================] - 2s 3ms/step - loss: 0.0533 - accuracy: 0.9842 - val_loss: 0.0253 - val_accuracy: 0.9931\n",
            "Epoch 51/100\n",
            "687/687 [==============================] - 2s 3ms/step - loss: 0.0099 - accuracy: 0.9992 - val_loss: 0.0083 - val_accuracy: 0.9989\n",
            "Epoch 52/100\n",
            "687/687 [==============================] - 2s 3ms/step - loss: 0.0422 - accuracy: 0.9886 - val_loss: 0.0092 - val_accuracy: 0.9993\n",
            "Epoch 53/100\n",
            "687/687 [==============================] - 2s 3ms/step - loss: 0.0367 - accuracy: 0.9892 - val_loss: 0.0099 - val_accuracy: 0.9978\n",
            "Epoch 54/100\n",
            "687/687 [==============================] - 2s 3ms/step - loss: 0.0594 - accuracy: 0.9832 - val_loss: 0.0097 - val_accuracy: 0.9987\n",
            "Epoch 55/100\n",
            "687/687 [==============================] - 2s 3ms/step - loss: 0.0079 - accuracy: 0.9994 - val_loss: 0.0193 - val_accuracy: 0.9953\n",
            "Epoch 56/100\n",
            "687/687 [==============================] - 2s 3ms/step - loss: 0.0313 - accuracy: 0.9921 - val_loss: 0.0415 - val_accuracy: 0.9878\n",
            "Epoch 57/100\n",
            "687/687 [==============================] - 2s 3ms/step - loss: 0.0557 - accuracy: 0.9831 - val_loss: 0.0066 - val_accuracy: 0.9995\n",
            "Epoch 58/100\n",
            "687/687 [==============================] - 2s 3ms/step - loss: 0.0379 - accuracy: 0.9894 - val_loss: 0.0088 - val_accuracy: 0.9985\n",
            "Epoch 59/100\n",
            "687/687 [==============================] - 2s 3ms/step - loss: 0.0220 - accuracy: 0.9946 - val_loss: 0.0155 - val_accuracy: 0.9956\n",
            "Epoch 60/100\n",
            "687/687 [==============================] - 2s 3ms/step - loss: 0.0530 - accuracy: 0.9835 - val_loss: 0.0081 - val_accuracy: 0.9982\n",
            "Epoch 61/100\n",
            "687/687 [==============================] - 2s 3ms/step - loss: 0.0232 - accuracy: 0.9931 - val_loss: 0.0060 - val_accuracy: 0.9989\n",
            "Epoch 62/100\n",
            "687/687 [==============================] - 2s 3ms/step - loss: 0.0311 - accuracy: 0.9903 - val_loss: 0.0369 - val_accuracy: 0.9867\n",
            "Epoch 63/100\n",
            "687/687 [==============================] - 2s 3ms/step - loss: 0.0253 - accuracy: 0.9926 - val_loss: 0.0158 - val_accuracy: 0.9956\n",
            "Epoch 64/100\n",
            "687/687 [==============================] - 2s 3ms/step - loss: 0.0542 - accuracy: 0.9842 - val_loss: 0.0132 - val_accuracy: 0.9969\n",
            "Epoch 65/100\n",
            "687/687 [==============================] - 2s 3ms/step - loss: 0.0046 - accuracy: 0.9998 - val_loss: 0.0050 - val_accuracy: 0.9996\n",
            "Epoch 66/100\n",
            "687/687 [==============================] - 2s 3ms/step - loss: 0.0445 - accuracy: 0.9876 - val_loss: 0.0263 - val_accuracy: 0.9911\n",
            "Epoch 67/100\n",
            "687/687 [==============================] - 2s 3ms/step - loss: 0.0218 - accuracy: 0.9938 - val_loss: 0.0056 - val_accuracy: 0.9995\n",
            "Epoch 68/100\n",
            "687/687 [==============================] - 2s 3ms/step - loss: 0.0191 - accuracy: 0.9939 - val_loss: 0.1140 - val_accuracy: 0.9610\n",
            "Epoch 69/100\n",
            "687/687 [==============================] - 2s 3ms/step - loss: 0.0542 - accuracy: 0.9842 - val_loss: 0.0040 - val_accuracy: 0.9996\n",
            "Epoch 70/100\n",
            "687/687 [==============================] - 2s 3ms/step - loss: 0.0029 - accuracy: 1.0000 - val_loss: 0.0041 - val_accuracy: 0.9995\n",
            "Epoch 71/100\n",
            "687/687 [==============================] - 2s 3ms/step - loss: 0.0600 - accuracy: 0.9822 - val_loss: 0.0065 - val_accuracy: 0.9991\n",
            "Epoch 72/100\n",
            "687/687 [==============================] - 2s 3ms/step - loss: 0.0041 - accuracy: 0.9997 - val_loss: 0.0035 - val_accuracy: 0.9998\n",
            "Epoch 73/100\n",
            "687/687 [==============================] - 2s 3ms/step - loss: 0.0360 - accuracy: 0.9934 - val_loss: 1.1315 - val_accuracy: 0.7969\n",
            "Epoch 74/100\n",
            "687/687 [==============================] - 2s 3ms/step - loss: 0.0293 - accuracy: 0.9917 - val_loss: 0.0038 - val_accuracy: 0.9996\n",
            "Epoch 75/100\n",
            "687/687 [==============================] - 2s 3ms/step - loss: 0.0299 - accuracy: 0.9913 - val_loss: 0.1012 - val_accuracy: 0.9663\n",
            "Epoch 76/100\n",
            "687/687 [==============================] - 2s 3ms/step - loss: 0.0121 - accuracy: 0.9971 - val_loss: 0.0060 - val_accuracy: 0.9987\n",
            "Epoch 77/100\n",
            "687/687 [==============================] - 2s 3ms/step - loss: 0.0602 - accuracy: 0.9844 - val_loss: 0.0036 - val_accuracy: 0.9996\n",
            "Epoch 78/100\n",
            "687/687 [==============================] - 2s 3ms/step - loss: 0.0033 - accuracy: 0.9997 - val_loss: 0.0033 - val_accuracy: 0.9998\n",
            "Epoch 79/100\n",
            "687/687 [==============================] - 2s 3ms/step - loss: 0.0576 - accuracy: 0.9825 - val_loss: 0.0057 - val_accuracy: 0.9996\n",
            "Epoch 80/100\n",
            "687/687 [==============================] - 2s 3ms/step - loss: 0.0032 - accuracy: 0.9997 - val_loss: 0.0057 - val_accuracy: 0.9989\n",
            "Epoch 81/100\n",
            "687/687 [==============================] - 2s 3ms/step - loss: 0.0331 - accuracy: 0.9906 - val_loss: 0.0665 - val_accuracy: 0.9749\n",
            "Epoch 82/100\n",
            "687/687 [==============================] - 2s 3ms/step - loss: 0.0219 - accuracy: 0.9936 - val_loss: 0.0033 - val_accuracy: 0.9996\n",
            "Epoch 83/100\n",
            "687/687 [==============================] - 2s 3ms/step - loss: 0.0350 - accuracy: 0.9888 - val_loss: 0.0071 - val_accuracy: 0.9985\n",
            "Epoch 84/100\n",
            "687/687 [==============================] - 2s 3ms/step - loss: 0.0138 - accuracy: 0.9963 - val_loss: 0.0030 - val_accuracy: 0.9996\n",
            "Epoch 85/100\n",
            "687/687 [==============================] - 2s 3ms/step - loss: 0.0547 - accuracy: 0.9854 - val_loss: 0.0029 - val_accuracy: 0.9996\n",
            "Epoch 86/100\n",
            "687/687 [==============================] - 2s 3ms/step - loss: 0.0035 - accuracy: 0.9995 - val_loss: 0.0028 - val_accuracy: 0.9998\n",
            "Epoch 87/100\n",
            "687/687 [==============================] - 2s 3ms/step - loss: 0.0498 - accuracy: 0.9859 - val_loss: 0.0047 - val_accuracy: 0.9991\n",
            "Epoch 88/100\n",
            "687/687 [==============================] - 2s 3ms/step - loss: 0.0028 - accuracy: 0.9999 - val_loss: 0.0088 - val_accuracy: 0.9978\n",
            "Epoch 89/100\n",
            "687/687 [==============================] - 2s 3ms/step - loss: 0.0510 - accuracy: 0.9861 - val_loss: 0.0040 - val_accuracy: 0.9991\n",
            "Epoch 90/100\n",
            "687/687 [==============================] - 2s 3ms/step - loss: 0.0027 - accuracy: 0.9998 - val_loss: 0.0050 - val_accuracy: 0.9993\n",
            "Epoch 91/100\n",
            "687/687 [==============================] - 2s 3ms/step - loss: 0.0453 - accuracy: 0.9874 - val_loss: 0.0084 - val_accuracy: 0.9982\n",
            "Epoch 92/100\n",
            "687/687 [==============================] - 2s 3ms/step - loss: 0.0027 - accuracy: 0.9998 - val_loss: 0.0290 - val_accuracy: 0.9896\n",
            "Epoch 93/100\n",
            "687/687 [==============================] - 2s 3ms/step - loss: 0.0435 - accuracy: 0.9892 - val_loss: 0.0045 - val_accuracy: 0.9987\n",
            "Epoch 94/100\n",
            "687/687 [==============================] - 2s 3ms/step - loss: 0.0286 - accuracy: 0.9909 - val_loss: 0.0277 - val_accuracy: 0.9898\n",
            "Epoch 95/100\n",
            "687/687 [==============================] - 2s 3ms/step - loss: 0.0036 - accuracy: 0.9995 - val_loss: 0.0029 - val_accuracy: 0.9995\n",
            "Epoch 96/100\n",
            "687/687 [==============================] - 2s 3ms/step - loss: 0.0018 - accuracy: 1.0000 - val_loss: 0.0037 - val_accuracy: 0.9993\n",
            "Epoch 97/100\n",
            "687/687 [==============================] - 2s 3ms/step - loss: 0.0474 - accuracy: 0.9867 - val_loss: 0.0028 - val_accuracy: 0.9995\n",
            "Epoch 98/100\n",
            "687/687 [==============================] - 2s 3ms/step - loss: 0.0491 - accuracy: 0.9855 - val_loss: 0.0076 - val_accuracy: 0.9987\n",
            "Epoch 99/100\n",
            "687/687 [==============================] - 2s 3ms/step - loss: 0.0026 - accuracy: 0.9999 - val_loss: 0.0038 - val_accuracy: 0.9995\n",
            "Epoch 100/100\n",
            "687/687 [==============================] - 2s 3ms/step - loss: 0.0053 - accuracy: 0.9988 - val_loss: 0.0019 - val_accuracy: 1.0000\n"
          ],
          "name": "stdout"
        }
      ]
    },
    {
      "cell_type": "code",
      "metadata": {
        "colab": {
          "base_uri": "https://localhost:8080/",
          "height": 279
        },
        "id": "ceNs9lckwfbd",
        "outputId": "0b222d43-0426-4d88-9f69-cec8c679f8a8"
      },
      "source": [
        "fig, loss_ax = plt.subplots()\n",
        "\n",
        "acc_ax = loss_ax.twinx()\n",
        "\n",
        "loss_ax.plot(hist.history['loss'], 'y', label='train loss')\n",
        "loss_ax.plot(hist.history['val_loss'], 'r', label='val loss')\n",
        "\n",
        "acc_ax.plot(hist.history['accuracy'], 'b', label='train acc')\n",
        "acc_ax.plot(hist.history['val_accuracy'], 'g', label='val acc')\n",
        "\n",
        "loss_ax.set_xlabel('epoch')\n",
        "loss_ax.set_ylabel('loss')\n",
        "acc_ax.set_ylabel('accuray')\n",
        "\n",
        "loss_ax.legend(loc='upper left')\n",
        "acc_ax.legend(loc='lower left')\n",
        "\n",
        "plt.show()"
      ],
      "execution_count": null,
      "outputs": [
        {
          "output_type": "display_data",
          "data": {
            "image/png": "[encoded data removed]",
            "text/plain": [
              "<Figure size 432x288 with 2 Axes>"
            ]
          },
          "metadata": {
            "tags": [],
            "needs_background": "light"
          }
        }
      ]
    },
    {
      "cell_type": "markdown",
      "metadata": {
        "id": "E2pcI4oMn7Ux"
      },
      "source": [
        "이로서 현재 학습 과정 중 가장 낮은 검증셋의 손실값을 가진 모델이 \"best_model.h5\" 파일로 저장되었습니다."
      ]
    },
    {
      "cell_type": "markdown",
      "metadata": {
        "id": "2FGSGDMLn7Ux"
      },
      "source": [
        "파일로 저장된 모델을 로딩하여 시험셋으로 최종 평가를 수행합니다."
      ]
    },
    {
      "cell_type": "code",
      "metadata": {
        "colab": {
          "base_uri": "https://localhost:8080/"
        },
        "id": "7dR4v-GuwCuG",
        "outputId": "86f2c4a5-851c-4043-9c01-48d0876722ee"
      },
      "source": [
        "model = load_model(\"best_model.h5\")\n",
        "\n",
        "test_loss, test_acc = model.evaluate(x_test, y_test)\n",
        "\n",
        "print(\"Test accuracy\", test_acc)\n",
        "print(\"Test loss\", test_loss)"
      ],
      "execution_count": null,
      "outputs": [
        {
          "output_type": "stream",
          "text": [
            "225/225 [==============================] - 1s 2ms/step - loss: 3.0560 - accuracy: 0.6946\n",
            "Test accuracy 0.6946458220481873\n",
            "Test loss 3.0559778213500977\n"
          ],
          "name": "stdout"
        }
      ]
    },
    {
      "cell_type": "markdown",
      "metadata": {
        "id": "gPwlKPzqZmOu"
      },
      "source": [
        "또한 시험셋으로 테스트한 결과를 제출하기 위해 모델 결과 파일을 저장합니다. 출력이 10개 클래스에 해당하는 벡터이므로, 분류한 클래스 정보를 얻기 위해 가장 높은 값을 가진 인덱스 값을 가지고 옵니다. 이 인덱스가 클래스를 의미하며, 이 값을 파일로 저장합니다."
      ]
    },
    {
      "cell_type": "code",
      "metadata": {
        "id": "REvi-WpIZuKx"
      },
      "source": [
        "y_pred = model.predict(x_test)\n",
        "y_pred = y_pred.argmax(axis=-1)\n",
        "np.savetxt('y_pred.csv', y_pred, fmt='%d')"
      ],
      "execution_count": null,
      "outputs": []
    }
  ]
}
