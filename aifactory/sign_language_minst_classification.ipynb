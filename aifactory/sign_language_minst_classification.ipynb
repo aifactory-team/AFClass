{
  "nbformat": 4,
  "nbformat_minor": 0,
  "metadata": {
    "accelerator": "GPU",
    "colab": {
      "name": "sign_language_minst_classification",
      "provenance": [],
      "collapsed_sections": []
    },
    "kernelspec": {
      "display_name": "Python 3",
      "language": "python",
      "name": "python3"
    },
    "language_info": {
      "codemirror_mode": {
        "name": "ipython",
        "version": 3
      },
      "file_extension": ".py",
      "mimetype": "text/x-python",
      "name": "python",
      "nbconvert_exporter": "python",
      "pygments_lexer": "ipython3",
      "version": "3.6.10"
    }
  },
  "cells": [
    {
      "cell_type": "markdown",
      "metadata": {
        "id": "L3eSKOAdn7Uw"
      },
      "source": [
        "필요한 패키지를 가져옵니다."
      ]
    },
    {
      "cell_type": "markdown",
      "metadata": {
        "id": "7sC-LwqvtM1q"
      },
      "source": [
        "알파벳 수화에 대해 배워봅시다. 사전 지식이 없다고 가정할 때, 사람은 어떻게 배우는 지, 그리고 학습한 것을 어떻게 평가할 것인지도 알아봅니다. "
      ]
    },
    {
      "cell_type": "code",
      "metadata": {
        "id": "-XAyceMYvow8"
      },
      "source": [
        "import numpy as np\n",
        "import matplotlib.pyplot as plt\n",
        "\n",
        "from tensorflow.keras.models import Sequential, load_model\n",
        "from tensorflow.keras.layers import Dense\n",
        "from tensorflow.keras.callbacks import ModelCheckpoint\n",
        "from tensorflow.keras.utils import plot_model, to_categorical"
      ],
      "execution_count": 1,
      "outputs": []
    },
    {
      "cell_type": "markdown",
      "metadata": {
        "id": "hRfuOMk0n7Uw"
      },
      "source": [
        "먼저 알파벳 수화 이미지 데이터셋을 아래 셀을 실행시켜 다운로드 받습니다."
      ]
    },
    {
      "cell_type": "code",
      "source": [
        "!wget https://raw.githubusercontent.com/aifactory-team/AFClass/master/aifactory/warehouse/sign_mnist.npz"
      ],
      "metadata": {
        "id": "yS8nMwxWtd3g",
        "outputId": "7a80d111-c90f-41bc-bb50-1e37ae23ae1b",
        "colab": {
          "base_uri": "https://localhost:8080/"
        }
      },
      "execution_count": 3,
      "outputs": [
        {
          "output_type": "stream",
          "name": "stdout",
          "text": [
            "--2022-09-21 01:42:57--  https://raw.githubusercontent.com/aifactory-team/AFClass/master/aifactory/warehouse/sign_mnist.npz\n",
            "Resolving raw.githubusercontent.com (raw.githubusercontent.com)... 185.199.109.133, 185.199.111.133, 185.199.108.133, ...\n",
            "Connecting to raw.githubusercontent.com (raw.githubusercontent.com)|185.199.109.133|:443... connected.\n",
            "HTTP request sent, awaiting response... 200 OK\n",
            "Length: 23443443 (22M) [application/octet-stream]\n",
            "Saving to: ‘sign_mnist.npz’\n",
            "\n",
            "sign_mnist.npz      100%[===================>]  22.36M  --.-KB/s    in 0.06s   \n",
            "\n",
            "2022-09-21 01:43:00 (406 MB/s) - ‘sign_mnist.npz’ saved [23443443/23443443]\n",
            "\n"
          ]
        }
      ]
    },
    {
      "cell_type": "code",
      "metadata": {
        "colab": {
          "base_uri": "https://localhost:8080/"
        },
        "id": "nKPyUcYouz_8",
        "outputId": "c57a60fa-5eee-4b45-e90c-f1c7932e36bc"
      },
      "source": [
        "dataset = np.load('sign_mnist.npz')\n",
        "x_train, y_train = dataset['x_train'], dataset['y_train']\n",
        "x_test, y_test = dataset['x_test'], dataset['y_test']\n",
        "\n",
        "print('x_train shape : ' + str(x_train.shape))\n",
        "print('y_train shape : ' + str(y_train.shape))\n",
        "print('x_test shape : ' + str(x_test.shape))\n",
        "print('y_test shape : ' + str(y_test.shape))"
      ],
      "execution_count": 4,
      "outputs": [
        {
          "output_type": "stream",
          "name": "stdout",
          "text": [
            "x_train shape : (27455, 28, 28)\n",
            "y_train shape : (27455,)\n",
            "x_test shape : (7172, 28, 28)\n",
            "y_test shape : (7172,)\n"
          ]
        }
      ]
    },
    {
      "cell_type": "markdown",
      "metadata": {
        "id": "1MRgyIo7VDTm"
      },
      "source": [
        "테스트할 샘플 하나를 살펴봅니다."
      ]
    },
    {
      "cell_type": "code",
      "metadata": {
        "colab": {
          "base_uri": "https://localhost:8080/",
          "height": 284
        },
        "id": "M5dzhF1mVHpX",
        "outputId": "b0049799-d88d-4026-bc17-fc3caba66728"
      },
      "source": [
        "plt.imshow(x_test[0], cmap='gray')"
      ],
      "execution_count": 5,
      "outputs": [
        {
          "output_type": "execute_result",
          "data": {
            "text/plain": [
              "<matplotlib.image.AxesImage at 0x7ff6d3c48210>"
            ]
          },
          "metadata": {},
          "execution_count": 5
        },
        {
          "output_type": "display_data",
          "data": {
            "text/plain": [
              "<Figure size 432x288 with 1 Axes>"
            ],
            "image/png": "[encoded data removed]"
          },
          "metadata": {
            "needs_background": "light"
          }
        }
      ]
    },
    {
      "cell_type": "markdown",
      "metadata": {
        "id": "59TzdRYXai74"
      },
      "source": [
        "인공지능 모델이 이 이미지를 입력받았을 때, 해당하는 알파벳을 출력할 수 있도록 만드는 것이 목표입니다. 우리는 y_test 라벨값도 가지고 있어서 바로 확인은 할 수 있으나, 모델 학습 시에는 사용이 되지 않으며, 시험 평가할 때만 사용됩니다."
      ]
    },
    {
      "cell_type": "code",
      "metadata": {
        "colab": {
          "base_uri": "https://localhost:8080/"
        },
        "id": "pfFSxqevajVW",
        "outputId": "35971e7c-a752-4372-b36f-4935f9b54eee"
      },
      "source": [
        "print(y_test[0])"
      ],
      "execution_count": 6,
      "outputs": [
        {
          "output_type": "stream",
          "name": "stdout",
          "text": [
            "6\n"
          ]
        }
      ]
    },
    {
      "cell_type": "markdown",
      "metadata": {
        "id": "GMiJUbcHn7Ux"
      },
      "source": [
        "모델 학습에 용이하도록 다음과 같이 데이터 전처리를 수행합니다.\n",
        "\n",
        "*   데이터 전처리\n",
        "    * 3차원(샘플수, 세로, 가로)를 2차원(샘플수, 벡터수)으로 변경\n",
        "    * 정수를 실수로 변경\n",
        "    * 0 ~ 255 사이의 수치를 0.0 ~ 1.0 사이로 정규화 수행\n",
        "*   라벨 전처리\n",
        "    * 0 ~ 9 라벨에 대한 원핫인코딩 수행 \n",
        "\n"
      ]
    },
    {
      "cell_type": "code",
      "metadata": {
        "id": "-Tq2r8mKB9RC"
      },
      "source": [
        "x_train = x_train.reshape(27455, 784).astype('float32') / 255.0\n",
        "x_test = x_test.reshape(7172, 784).astype('float32') / 255.0\n",
        "y_train = to_categorical(y_train)\n",
        "y_test = to_categorical(y_test)"
      ],
      "execution_count": 7,
      "outputs": []
    },
    {
      "cell_type": "markdown",
      "metadata": {
        "id": "WQ6ok1F3n7Ux"
      },
      "source": [
        "모델은 다음과 같이 구성하였습니다.\n",
        "\n",
        "* 입력: 1차원의 784개 벡터\n",
        "* 출력: 10개 벡터\n",
        "* 출력층의 활성화 함수: 소프트맥스\n",
        "* 손실함수: categorical_crossentropy\n",
        "* 최적화기: adam\n",
        "* 평가 메트릭: accuracy\n"
      ]
    },
    {
      "cell_type": "code",
      "metadata": {
        "id": "CfRck8LMt3qk",
        "colab": {
          "base_uri": "https://localhost:8080/"
        },
        "outputId": "51b64d0e-a515-43aa-9416-5cd14c8f1f7f"
      },
      "source": [
        "y_train.shape"
      ],
      "execution_count": 8,
      "outputs": [
        {
          "output_type": "execute_result",
          "data": {
            "text/plain": [
              "(27455, 25)"
            ]
          },
          "metadata": {},
          "execution_count": 8
        }
      ]
    },
    {
      "cell_type": "code",
      "metadata": {
        "id": "_SXTk3Twv9Qc"
      },
      "source": [
        "model = Sequential([\n",
        "    Dense(64, input_dim=28*28, activation='relu'), \n",
        "    Dense(32, activation='relu'), \n",
        "    Dense(25, activation='softmax')\n",
        "])\n",
        "\n",
        "model.compile(loss='categorical_crossentropy', optimizer='adam', metrics=['accuracy'])"
      ],
      "execution_count": 9,
      "outputs": []
    },
    {
      "cell_type": "markdown",
      "metadata": {
        "id": "7C7XabvDn7Ux"
      },
      "source": [
        "모델 네트워크 아키텍처 구성을 그려보겠습니다."
      ]
    },
    {
      "cell_type": "code",
      "metadata": {
        "colab": {
          "base_uri": "https://localhost:8080/",
          "height": 422
        },
        "id": "xFLTw6eln7Ux",
        "outputId": "b4f43dbe-3b17-421c-f122-a34d82abb64c"
      },
      "source": [
        "plot_model(model, show_shapes=True)"
      ],
      "execution_count": 10,
      "outputs": [
        {
          "output_type": "execute_result",
          "data": {
            "image/png": "[encoded data removed]",
            "text/plain": [
              "<IPython.core.display.Image object>"
            ]
          },
          "metadata": {},
          "execution_count": 10
        }
      ]
    },
    {
      "cell_type": "markdown",
      "metadata": {
        "id": "iH75hSGrn7Ux"
      },
      "source": [
        "모델을 학습시킬 때, validation_split 옵션을 두면 훈련셋 일부를 검증셋으로 설정할 수 있습니다. 0.2로 설정할 경우, 전체 훈련셋에서 20%를 검증셋, 나머지를 훈련셋으로 구성하여 학습합니다."
      ]
    },
    {
      "cell_type": "markdown",
      "metadata": {
        "id": "FT4_DoFRUznI"
      },
      "source": [
        "학습 시 매 에포크에 해당하는 훈련셋과 검증셋에 대한 손실값과 평가 메트릭 수치를 확인할 수 있습니다. 이를 시각화시키면 오버피팅 여부를 한 눈에 확인할 수 있습니다."
      ]
    },
    {
      "cell_type": "markdown",
      "metadata": {
        "id": "jCAQ09u9W09V"
      },
      "source": [
        "오버피팅이 10 에포크 이전에 발생했더라도 100 에포크까지 학습을 시켰으므로 현재 모델은 오버피팅이 되어 있는 상태입니다. 오버피팅이 되지 않은 모델을 확보하기 위해는 아래 세 가지 방법을 사용할 수 있습니다. \n",
        "\n",
        "1. 오버피팅이 되는 에포크를 확인하였다면, 오버피팅 전의 에포크 만큼 모델을 학습시킵니다.\n",
        "2. 콜백함수를 사용하여, 오버피팅이 감지되면 조기 중단을 시키도록 합니다.\n",
        "3. 콜백함수를 사용하여, 매 에포크마다 검증셋의 손실값을 체크한 후, 이전 손실값보다 낮은 경우 모델을 파일로 저장합니다. 즉 학습 종료가 되면, 파일에 저장된 모델은 손실값이 가장 낮을 때의 가중치를 가지고 있습니다.\n",
        "\n",
        "1번 방법은 두 번 학습을 시켜야하고, 2번 방법은 더 학습이 가능했음에도 설정된 오버피팅 감지 조건에 의해 조기 중단이 될 수도 있으므로, 이후 실습에서는 주로 3번 방법을 사용하도록 하겠습니다.\n",
        "\n",
        "모델 정의부터 컴파일, 콜백함수 정의, 모델 학습까지의 코드는 아래와 같습니다. 다음부터는 두 번 학습할 필요없이 아래 코드로 한 번만 수행합니다."
      ]
    },
    {
      "cell_type": "code",
      "metadata": {
        "colab": {
          "base_uri": "https://localhost:8080/"
        },
        "id": "upKgRxiNT5MQ",
        "outputId": "cd680f58-962b-461d-aee8-24cd4b23295b"
      },
      "source": [
        "model = Sequential([\n",
        "    Dense(64, input_dim=28*28, activation='relu'), \n",
        "    Dense(32, activation='relu'), \n",
        "    Dense(25, activation='softmax')\n",
        "])\n",
        "\n",
        "model.compile(loss='categorical_crossentropy', optimizer='adam', metrics=['accuracy'])\n",
        "\n",
        "checkpoint_callback = ModelCheckpoint(\"best_model.h5\", \n",
        "                                      save_best_only=True, \n",
        "                                      monitor=\"val_loss\")\n",
        "\n",
        "hist = model.fit(x_train, y_train, \n",
        "                 validation_split=0.2, \n",
        "                 batch_size=32,\n",
        "                 epochs=100,  \n",
        "                 callbacks=[checkpoint_callback])"
      ],
      "execution_count": 11,
      "outputs": [
        {
          "output_type": "stream",
          "name": "stdout",
          "text": [
            "Epoch 1/100\n",
            "687/687 [==============================] - 5s 3ms/step - loss: 2.4411 - accuracy: 0.2466 - val_loss: 1.8219 - val_accuracy: 0.4323\n",
            "Epoch 2/100\n",
            "687/687 [==============================] - 2s 3ms/step - loss: 1.5943 - accuracy: 0.4855 - val_loss: 1.3764 - val_accuracy: 0.5700\n",
            "Epoch 3/100\n",
            "687/687 [==============================] - 2s 3ms/step - loss: 1.3180 - accuracy: 0.5762 - val_loss: 1.2253 - val_accuracy: 0.5944\n",
            "Epoch 4/100\n",
            "687/687 [==============================] - 2s 3ms/step - loss: 1.1482 - accuracy: 0.6292 - val_loss: 1.0546 - val_accuracy: 0.6609\n",
            "Epoch 5/100\n",
            "687/687 [==============================] - 2s 4ms/step - loss: 1.0101 - accuracy: 0.6705 - val_loss: 1.0240 - val_accuracy: 0.6704\n",
            "Epoch 6/100\n",
            "687/687 [==============================] - 2s 3ms/step - loss: 0.8979 - accuracy: 0.7057 - val_loss: 0.8361 - val_accuracy: 0.7347\n",
            "Epoch 7/100\n",
            "687/687 [==============================] - 2s 3ms/step - loss: 0.8022 - accuracy: 0.7409 - val_loss: 0.6953 - val_accuracy: 0.7873\n",
            "Epoch 8/100\n",
            "687/687 [==============================] - 2s 3ms/step - loss: 0.7295 - accuracy: 0.7654 - val_loss: 0.6397 - val_accuracy: 0.8035\n",
            "Epoch 9/100\n",
            "687/687 [==============================] - 2s 3ms/step - loss: 0.6375 - accuracy: 0.7990 - val_loss: 0.5940 - val_accuracy: 0.8128\n",
            "Epoch 10/100\n",
            "687/687 [==============================] - 3s 4ms/step - loss: 0.5664 - accuracy: 0.8227 - val_loss: 0.5043 - val_accuracy: 0.8541\n",
            "Epoch 11/100\n",
            "687/687 [==============================] - 2s 3ms/step - loss: 0.4984 - accuracy: 0.8453 - val_loss: 0.4129 - val_accuracy: 0.8783\n",
            "Epoch 12/100\n",
            "687/687 [==============================] - 2s 3ms/step - loss: 0.4416 - accuracy: 0.8620 - val_loss: 0.3856 - val_accuracy: 0.8880\n",
            "Epoch 13/100\n",
            "687/687 [==============================] - 2s 3ms/step - loss: 0.3789 - accuracy: 0.8841 - val_loss: 0.3575 - val_accuracy: 0.8885\n",
            "Epoch 14/100\n",
            "687/687 [==============================] - 2s 3ms/step - loss: 0.3330 - accuracy: 0.8987 - val_loss: 0.2986 - val_accuracy: 0.9060\n",
            "Epoch 15/100\n",
            "687/687 [==============================] - 2s 3ms/step - loss: 0.2925 - accuracy: 0.9141 - val_loss: 0.2774 - val_accuracy: 0.9142\n",
            "Epoch 16/100\n",
            "687/687 [==============================] - 2s 3ms/step - loss: 0.2631 - accuracy: 0.9198 - val_loss: 0.2331 - val_accuracy: 0.9321\n",
            "Epoch 17/100\n",
            "687/687 [==============================] - 2s 3ms/step - loss: 0.2258 - accuracy: 0.9345 - val_loss: 0.2549 - val_accuracy: 0.9173\n",
            "Epoch 18/100\n",
            "687/687 [==============================] - 2s 3ms/step - loss: 0.2014 - accuracy: 0.9412 - val_loss: 0.1600 - val_accuracy: 0.9603\n",
            "Epoch 19/100\n",
            "687/687 [==============================] - 2s 3ms/step - loss: 0.1692 - accuracy: 0.9560 - val_loss: 0.1472 - val_accuracy: 0.9608\n",
            "Epoch 20/100\n",
            "687/687 [==============================] - 2s 3ms/step - loss: 0.1567 - accuracy: 0.9585 - val_loss: 0.1580 - val_accuracy: 0.9525\n",
            "Epoch 21/100\n",
            "687/687 [==============================] - 2s 3ms/step - loss: 0.1287 - accuracy: 0.9677 - val_loss: 0.1558 - val_accuracy: 0.9505\n",
            "Epoch 22/100\n",
            "687/687 [==============================] - 2s 4ms/step - loss: 0.1349 - accuracy: 0.9609 - val_loss: 0.2108 - val_accuracy: 0.9277\n",
            "Epoch 23/100\n",
            "687/687 [==============================] - 3s 4ms/step - loss: 0.1076 - accuracy: 0.9714 - val_loss: 0.0830 - val_accuracy: 0.9800\n",
            "Epoch 24/100\n",
            "687/687 [==============================] - 2s 3ms/step - loss: 0.0868 - accuracy: 0.9813 - val_loss: 0.0792 - val_accuracy: 0.9836\n",
            "Epoch 25/100\n",
            "687/687 [==============================] - 2s 3ms/step - loss: 0.0994 - accuracy: 0.9747 - val_loss: 0.0852 - val_accuracy: 0.9812\n",
            "Epoch 26/100\n",
            "687/687 [==============================] - 2s 3ms/step - loss: 0.0607 - accuracy: 0.9880 - val_loss: 0.1755 - val_accuracy: 0.9401\n",
            "Epoch 27/100\n",
            "687/687 [==============================] - 2s 3ms/step - loss: 0.0795 - accuracy: 0.9786 - val_loss: 0.0345 - val_accuracy: 0.9976\n",
            "Epoch 28/100\n",
            "687/687 [==============================] - 2s 4ms/step - loss: 0.0621 - accuracy: 0.9865 - val_loss: 0.0356 - val_accuracy: 0.9953\n",
            "Epoch 29/100\n",
            "687/687 [==============================] - 2s 3ms/step - loss: 0.0590 - accuracy: 0.9863 - val_loss: 0.0418 - val_accuracy: 0.9942\n",
            "Epoch 30/100\n",
            "687/687 [==============================] - 2s 3ms/step - loss: 0.0793 - accuracy: 0.9793 - val_loss: 0.0298 - val_accuracy: 0.9971\n",
            "Epoch 31/100\n",
            "687/687 [==============================] - 2s 3ms/step - loss: 0.0296 - accuracy: 0.9959 - val_loss: 0.0172 - val_accuracy: 0.9993\n",
            "Epoch 32/100\n",
            "687/687 [==============================] - 2s 3ms/step - loss: 0.0514 - accuracy: 0.9874 - val_loss: 0.0311 - val_accuracy: 0.9947\n",
            "Epoch 33/100\n",
            "687/687 [==============================] - 2s 3ms/step - loss: 0.0517 - accuracy: 0.9856 - val_loss: 0.0163 - val_accuracy: 0.9996\n",
            "Epoch 34/100\n",
            "687/687 [==============================] - 2s 3ms/step - loss: 0.0730 - accuracy: 0.9791 - val_loss: 0.0301 - val_accuracy: 0.9947\n",
            "Epoch 35/100\n",
            "687/687 [==============================] - 2s 3ms/step - loss: 0.0168 - accuracy: 0.9985 - val_loss: 0.0703 - val_accuracy: 0.9761\n",
            "Epoch 36/100\n",
            "687/687 [==============================] - 3s 4ms/step - loss: 0.0607 - accuracy: 0.9822 - val_loss: 0.0149 - val_accuracy: 0.9980\n",
            "Epoch 37/100\n",
            "687/687 [==============================] - 2s 3ms/step - loss: 0.0279 - accuracy: 0.9935 - val_loss: 0.0347 - val_accuracy: 0.9931\n",
            "Epoch 38/100\n",
            "687/687 [==============================] - 2s 3ms/step - loss: 0.0466 - accuracy: 0.9874 - val_loss: 0.0215 - val_accuracy: 0.9967\n",
            "Epoch 39/100\n",
            "687/687 [==============================] - 2s 3ms/step - loss: 0.0161 - accuracy: 0.9976 - val_loss: 0.0105 - val_accuracy: 0.9996\n",
            "Epoch 40/100\n",
            "687/687 [==============================] - 2s 3ms/step - loss: 0.0639 - accuracy: 0.9794 - val_loss: 0.0096 - val_accuracy: 0.9991\n",
            "Epoch 41/100\n",
            "687/687 [==============================] - 2s 4ms/step - loss: 0.0470 - accuracy: 0.9870 - val_loss: 0.0328 - val_accuracy: 0.9911\n",
            "Epoch 42/100\n",
            "687/687 [==============================] - 3s 4ms/step - loss: 0.0132 - accuracy: 0.9981 - val_loss: 0.0087 - val_accuracy: 1.0000\n",
            "Epoch 43/100\n",
            "687/687 [==============================] - 2s 4ms/step - loss: 0.0737 - accuracy: 0.9779 - val_loss: 0.0187 - val_accuracy: 0.9976\n",
            "Epoch 44/100\n",
            "687/687 [==============================] - 2s 3ms/step - loss: 0.0097 - accuracy: 0.9991 - val_loss: 0.0494 - val_accuracy: 0.9842\n",
            "Epoch 45/100\n",
            "687/687 [==============================] - 2s 3ms/step - loss: 0.0683 - accuracy: 0.9799 - val_loss: 0.0076 - val_accuracy: 0.9996\n",
            "Epoch 46/100\n",
            "687/687 [==============================] - 2s 3ms/step - loss: 0.0065 - accuracy: 0.9997 - val_loss: 0.0089 - val_accuracy: 0.9998\n",
            "Epoch 47/100\n",
            "687/687 [==============================] - 2s 3ms/step - loss: 0.0781 - accuracy: 0.9792 - val_loss: 0.0114 - val_accuracy: 0.9989\n",
            "Epoch 48/100\n",
            "687/687 [==============================] - 2s 3ms/step - loss: 0.0108 - accuracy: 0.9985 - val_loss: 0.0054 - val_accuracy: 1.0000\n",
            "Epoch 49/100\n",
            "687/687 [==============================] - 2s 3ms/step - loss: 0.0052 - accuracy: 0.9998 - val_loss: 0.0090 - val_accuracy: 0.9993\n",
            "Epoch 50/100\n",
            "687/687 [==============================] - 2s 3ms/step - loss: 0.0477 - accuracy: 0.9848 - val_loss: 0.0074 - val_accuracy: 0.9995\n",
            "Epoch 51/100\n",
            "687/687 [==============================] - 2s 3ms/step - loss: 0.0709 - accuracy: 0.9777 - val_loss: 0.0062 - val_accuracy: 0.9996\n",
            "Epoch 52/100\n",
            "687/687 [==============================] - 2s 3ms/step - loss: 0.0043 - accuracy: 1.0000 - val_loss: 0.0038 - val_accuracy: 1.0000\n",
            "Epoch 53/100\n",
            "687/687 [==============================] - 2s 3ms/step - loss: 0.0049 - accuracy: 0.9998 - val_loss: 0.0040 - val_accuracy: 0.9996\n",
            "Epoch 54/100\n",
            "687/687 [==============================] - 2s 3ms/step - loss: 0.0738 - accuracy: 0.9812 - val_loss: 0.0049 - val_accuracy: 1.0000\n",
            "Epoch 55/100\n",
            "687/687 [==============================] - 2s 3ms/step - loss: 0.0049 - accuracy: 0.9998 - val_loss: 0.0032 - val_accuracy: 1.0000\n",
            "Epoch 56/100\n",
            "687/687 [==============================] - 2s 4ms/step - loss: 0.0774 - accuracy: 0.9755 - val_loss: 0.0054 - val_accuracy: 1.0000\n",
            "Epoch 57/100\n",
            "687/687 [==============================] - 2s 3ms/step - loss: 0.0042 - accuracy: 0.9999 - val_loss: 0.0120 - val_accuracy: 0.9978\n",
            "Epoch 58/100\n",
            "687/687 [==============================] - 2s 3ms/step - loss: 0.0041 - accuracy: 0.9998 - val_loss: 0.0055 - val_accuracy: 0.9998\n",
            "Epoch 59/100\n",
            "687/687 [==============================] - 2s 3ms/step - loss: 0.0870 - accuracy: 0.9747 - val_loss: 0.0063 - val_accuracy: 0.9995\n",
            "Epoch 60/100\n",
            "687/687 [==============================] - 2s 3ms/step - loss: 0.0041 - accuracy: 0.9998 - val_loss: 0.0031 - val_accuracy: 1.0000\n",
            "Epoch 61/100\n",
            "687/687 [==============================] - 2s 3ms/step - loss: 0.0039 - accuracy: 0.9996 - val_loss: 0.0034 - val_accuracy: 1.0000\n",
            "Epoch 62/100\n",
            "687/687 [==============================] - 2s 3ms/step - loss: 0.0616 - accuracy: 0.9865 - val_loss: 0.0053 - val_accuracy: 0.9996\n",
            "Epoch 63/100\n",
            "687/687 [==============================] - 2s 4ms/step - loss: 0.0085 - accuracy: 0.9983 - val_loss: 0.0044 - val_accuracy: 0.9996\n",
            "Epoch 64/100\n",
            "687/687 [==============================] - 2s 3ms/step - loss: 0.0532 - accuracy: 0.9865 - val_loss: 0.4315 - val_accuracy: 0.8891\n",
            "Epoch 65/100\n",
            "687/687 [==============================] - 2s 3ms/step - loss: 0.0185 - accuracy: 0.9954 - val_loss: 0.0060 - val_accuracy: 0.9995\n",
            "Epoch 66/100\n",
            "687/687 [==============================] - 2s 3ms/step - loss: 0.0034 - accuracy: 0.9997 - val_loss: 0.0028 - val_accuracy: 1.0000\n",
            "Epoch 67/100\n",
            "687/687 [==============================] - 2s 3ms/step - loss: 0.0165 - accuracy: 0.9958 - val_loss: 0.6389 - val_accuracy: 0.8496\n",
            "Epoch 68/100\n",
            "687/687 [==============================] - 2s 4ms/step - loss: 0.0567 - accuracy: 0.9825 - val_loss: 0.0062 - val_accuracy: 0.9993\n",
            "Epoch 69/100\n",
            "687/687 [==============================] - 2s 3ms/step - loss: 0.0033 - accuracy: 0.9998 - val_loss: 0.0026 - val_accuracy: 1.0000\n",
            "Epoch 70/100\n",
            "687/687 [==============================] - 2s 3ms/step - loss: 0.0408 - accuracy: 0.9882 - val_loss: 0.1679 - val_accuracy: 0.9434\n",
            "Epoch 71/100\n",
            "687/687 [==============================] - 2s 3ms/step - loss: 0.0093 - accuracy: 0.9979 - val_loss: 0.0020 - val_accuracy: 1.0000\n",
            "Epoch 72/100\n",
            "687/687 [==============================] - 2s 3ms/step - loss: 0.0023 - accuracy: 0.9999 - val_loss: 0.0023 - val_accuracy: 1.0000\n",
            "Epoch 73/100\n",
            "687/687 [==============================] - 2s 3ms/step - loss: 0.0745 - accuracy: 0.9798 - val_loss: 0.0024 - val_accuracy: 1.0000\n",
            "Epoch 74/100\n",
            "687/687 [==============================] - 2s 3ms/step - loss: 0.0020 - accuracy: 1.0000 - val_loss: 0.0021 - val_accuracy: 1.0000\n",
            "Epoch 75/100\n",
            "687/687 [==============================] - 2s 3ms/step - loss: 0.0019 - accuracy: 1.0000 - val_loss: 0.0019 - val_accuracy: 1.0000\n",
            "Epoch 76/100\n",
            "687/687 [==============================] - 2s 3ms/step - loss: 0.0135 - accuracy: 0.9972 - val_loss: 1.0968 - val_accuracy: 0.8011\n",
            "Epoch 77/100\n",
            "687/687 [==============================] - 2s 3ms/step - loss: 0.0749 - accuracy: 0.9850 - val_loss: 0.0021 - val_accuracy: 1.0000\n",
            "Epoch 78/100\n",
            "687/687 [==============================] - 2s 3ms/step - loss: 0.0019 - accuracy: 1.0000 - val_loss: 0.0017 - val_accuracy: 1.0000\n",
            "Epoch 79/100\n",
            "687/687 [==============================] - 2s 3ms/step - loss: 0.0609 - accuracy: 0.9837 - val_loss: 0.0025 - val_accuracy: 0.9998\n",
            "Epoch 80/100\n",
            "687/687 [==============================] - 2s 3ms/step - loss: 0.0020 - accuracy: 1.0000 - val_loss: 0.0018 - val_accuracy: 1.0000\n",
            "Epoch 81/100\n",
            "687/687 [==============================] - 2s 3ms/step - loss: 0.0023 - accuracy: 1.0000 - val_loss: 0.0016 - val_accuracy: 1.0000\n",
            "Epoch 82/100\n",
            "687/687 [==============================] - 2s 3ms/step - loss: 0.0027 - accuracy: 0.9997 - val_loss: 0.3009 - val_accuracy: 0.9129\n",
            "Epoch 83/100\n",
            "687/687 [==============================] - 2s 3ms/step - loss: 0.0814 - accuracy: 0.9819 - val_loss: 0.0020 - val_accuracy: 1.0000\n",
            "Epoch 84/100\n",
            "687/687 [==============================] - 2s 3ms/step - loss: 0.0015 - accuracy: 1.0000 - val_loss: 0.0016 - val_accuracy: 1.0000\n",
            "Epoch 85/100\n",
            "687/687 [==============================] - 2s 3ms/step - loss: 0.0016 - accuracy: 1.0000 - val_loss: 0.0023 - val_accuracy: 1.0000\n",
            "Epoch 86/100\n",
            "687/687 [==============================] - 2s 3ms/step - loss: 0.0892 - accuracy: 0.9787 - val_loss: 0.0523 - val_accuracy: 0.9803\n",
            "Epoch 87/100\n",
            "687/687 [==============================] - 2s 3ms/step - loss: 0.0067 - accuracy: 0.9985 - val_loss: 0.0026 - val_accuracy: 1.0000\n",
            "Epoch 88/100\n",
            "687/687 [==============================] - 2s 3ms/step - loss: 0.0014 - accuracy: 1.0000 - val_loss: 0.0016 - val_accuracy: 1.0000\n",
            "Epoch 89/100\n",
            "687/687 [==============================] - 2s 3ms/step - loss: 0.0015 - accuracy: 1.0000 - val_loss: 0.0013 - val_accuracy: 1.0000\n",
            "Epoch 90/100\n",
            "687/687 [==============================] - 2s 3ms/step - loss: 0.0718 - accuracy: 0.9786 - val_loss: 0.0031 - val_accuracy: 0.9998\n",
            "Epoch 91/100\n",
            "687/687 [==============================] - 3s 4ms/step - loss: 0.0031 - accuracy: 0.9995 - val_loss: 0.0014 - val_accuracy: 1.0000\n",
            "Epoch 92/100\n",
            "687/687 [==============================] - 2s 3ms/step - loss: 0.0017 - accuracy: 0.9998 - val_loss: 0.0089 - val_accuracy: 0.9987\n",
            "Epoch 93/100\n",
            "687/687 [==============================] - 2s 3ms/step - loss: 0.0562 - accuracy: 0.9862 - val_loss: 0.0035 - val_accuracy: 0.9996\n",
            "Epoch 94/100\n",
            "687/687 [==============================] - 2s 3ms/step - loss: 0.0021 - accuracy: 0.9999 - val_loss: 0.0016 - val_accuracy: 1.0000\n",
            "Epoch 95/100\n",
            "687/687 [==============================] - 2s 4ms/step - loss: 0.0012 - accuracy: 1.0000 - val_loss: 0.0012 - val_accuracy: 1.0000\n",
            "Epoch 96/100\n",
            "687/687 [==============================] - 2s 3ms/step - loss: 0.0375 - accuracy: 0.9920 - val_loss: 0.7164 - val_accuracy: 0.8372\n",
            "Epoch 97/100\n",
            "687/687 [==============================] - 2s 3ms/step - loss: 0.0267 - accuracy: 0.9930 - val_loss: 0.0016 - val_accuracy: 1.0000\n",
            "Epoch 98/100\n",
            "687/687 [==============================] - 2s 3ms/step - loss: 0.0013 - accuracy: 1.0000 - val_loss: 0.0012 - val_accuracy: 1.0000\n",
            "Epoch 99/100\n",
            "687/687 [==============================] - 3s 4ms/step - loss: 0.0014 - accuracy: 0.9999 - val_loss: 0.0392 - val_accuracy: 0.9873\n",
            "Epoch 100/100\n",
            "687/687 [==============================] - 3s 4ms/step - loss: 0.0587 - accuracy: 0.9844 - val_loss: 0.0033 - val_accuracy: 0.9998\n"
          ]
        }
      ]
    },
    {
      "cell_type": "code",
      "metadata": {
        "colab": {
          "base_uri": "https://localhost:8080/",
          "height": 279
        },
        "id": "ceNs9lckwfbd",
        "outputId": "b22baefe-95e5-4962-f9ee-8965e9287fca"
      },
      "source": [
        "fig, loss_ax = plt.subplots()\n",
        "\n",
        "acc_ax = loss_ax.twinx()\n",
        "\n",
        "loss_ax.plot(hist.history['loss'], 'y', label='train loss')\n",
        "loss_ax.plot(hist.history['val_loss'], 'r', label='val loss')\n",
        "\n",
        "acc_ax.plot(hist.history['accuracy'], 'b', label='train acc')\n",
        "acc_ax.plot(hist.history['val_accuracy'], 'g', label='val acc')\n",
        "\n",
        "loss_ax.set_xlabel('epoch')\n",
        "loss_ax.set_ylabel('loss')\n",
        "acc_ax.set_ylabel('accuray')\n",
        "\n",
        "loss_ax.legend(loc='upper left')\n",
        "acc_ax.legend(loc='lower left')\n",
        "\n",
        "plt.show()"
      ],
      "execution_count": 12,
      "outputs": [
        {
          "output_type": "display_data",
          "data": {
            "text/plain": [
              "<Figure size 432x288 with 2 Axes>"
            ],
            "image/png": "[encoded data removed]"
          },
          "metadata": {
            "needs_background": "light"
          }
        }
      ]
    },
    {
      "cell_type": "markdown",
      "metadata": {
        "id": "E2pcI4oMn7Ux"
      },
      "source": [
        "이로서 현재 학습 과정 중 가장 낮은 검증셋의 손실값을 가진 모델이 \"best_model.h5\" 파일로 저장되었습니다."
      ]
    },
    {
      "cell_type": "markdown",
      "metadata": {
        "id": "2FGSGDMLn7Ux"
      },
      "source": [
        "파일로 저장된 모델을 로딩하여 시험셋으로 최종 평가를 수행합니다."
      ]
    },
    {
      "cell_type": "code",
      "metadata": {
        "colab": {
          "base_uri": "https://localhost:8080/"
        },
        "id": "7dR4v-GuwCuG",
        "outputId": "3c005227-a428-443e-8524-17b63098e90d"
      },
      "source": [
        "model = load_model(\"best_model.h5\")\n",
        "\n",
        "test_loss, test_acc = model.evaluate(x_test, y_test)\n",
        "\n",
        "print(\"Test accuracy\", test_acc)\n",
        "print(\"Test loss\", test_loss)"
      ],
      "execution_count": 13,
      "outputs": [
        {
          "output_type": "stream",
          "name": "stdout",
          "text": [
            "225/225 [==============================] - 1s 2ms/step - loss: 2.6052 - accuracy: 0.7252\n",
            "Test accuracy 0.7251812815666199\n",
            "Test loss 2.605186939239502\n"
          ]
        }
      ]
    },
    {
      "cell_type": "markdown",
      "metadata": {
        "id": "gPwlKPzqZmOu"
      },
      "source": [
        "또한 시험셋으로 테스트한 결과를 제출하기 위해 모델 결과 파일을 저장합니다. 출력이 10개 클래스에 해당하는 벡터이므로, 분류한 클래스 정보를 얻기 위해 가장 높은 값을 가진 인덱스 값을 가지고 옵니다. 이 인덱스가 클래스를 의미하며, 이 값을 파일로 저장합니다."
      ]
    },
    {
      "cell_type": "code",
      "metadata": {
        "id": "REvi-WpIZuKx"
      },
      "source": [
        "y_pred = model.predict(x_test)\n",
        "y_pred = y_pred.argmax(axis=-1)\n",
        "np.savetxt('y_pred.csv', y_pred, fmt='%d')"
      ],
      "execution_count": 14,
      "outputs": []
    }
  ]
}