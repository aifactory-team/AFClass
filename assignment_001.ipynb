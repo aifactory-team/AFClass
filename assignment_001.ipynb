{
 "cells": [
  {
   "cell_type": "code",
   "execution_count": 4,
   "metadata": {},
   "outputs": [],
   "source": [
    "import tensorflow as tf\n",
    "from tensorflow import keras\n",
    "import numpy as np\n",
    "np.random.seed(123) # 결과 재현을 위해 시드를 설정합니다.\n",
    "\n",
    "# 데이터셋 불러옵니다.\n",
    "fashion_mnist = keras.datasets.fashion_mnist\n",
    "(train_images, train_labels), (test_images, test_labels) = fashion_mnist.load_data()\n",
    "\n",
    "'''\n",
    "데이터셋은 훈련 이미지, 훈련 라벨, 시험 이미지, 시험 라벨 이렇게 총 네 부분으로 구성됩니다.\n",
    "훈련 이미지와 훈련 라벨을 이용하여 모델을 학습시키고, \n",
    "학습된 모델에 시험 이미지를 입력하여 출력되는 라벨을 제출하시면 됩니다.\n",
    "제출 파일 형식은 시험 이미지가 10,000개이므로 10,000개의 행에 한 가지의 라벨 숫자로 기록된 파일입니다.\n",
    "만약 모든 라벨이 0으로 출력된 결과를 파일로 저장한다면 아래와 같이 파일로 저장할 수 있습니다.\n",
    "'''\n",
    "\n",
    "predict_labels = np.zeros(10000)\n",
    "np.savetxt('output.txt', predict_labels, fmt='%d')"
   ]
  }
 ],
 "metadata": {
  "kernelspec": {
   "display_name": "TensorFlow 2.3 on Python 3.6 (CUDA 10.1)",
   "language": "python",
   "name": "python3"
  },
  "language_info": {
   "codemirror_mode": {
    "name": "ipython",
    "version": 3
   },
   "file_extension": ".py",
   "mimetype": "text/x-python",
   "name": "python",
   "nbconvert_exporter": "python",
   "pygments_lexer": "ipython3",
   "version": "3.6.9"
  }
 },
 "nbformat": 4,
 "nbformat_minor": 4
}
