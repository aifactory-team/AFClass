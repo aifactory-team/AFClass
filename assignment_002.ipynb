{
 "cells": [
  {
   "cell_type": "code",
   "execution_count": 7,
   "metadata": {},
   "outputs": [],
   "source": [
    "import numpy as np\n",
    "import pandas as pd\n",
    "import tensorflow as tf\n",
    "from tensorflow import keras\n",
    "\n",
    "np.random.seed(123) # 결과 재현이 가능하도록 시드를 설정합니다.\n",
    "\n",
    "train = pd.read_csv('train.csv', encoding='utf-8')\n",
    "test_input = pd.read_csv('test.csv', encoding='utf-8')\n",
    "train_input = train.iloc[:, 2:]\n",
    "train_output = train['Survived']\n",
    "\n",
    "'''\n",
    "위와 같이 데이터를 불러와서 학습셋, 시험셋으로 나눈 다음\n",
    "학습셋을 이용하여 결과를 예측하는 모델을 생성하고\n",
    "해당 모델에 시험셋을 입력하여 생존 여부 결과를 얻습니다.\n",
    "만약 모든 값이 0이라면 다음과 같은 형태로 출력 파일을 저장할 수 있습니다.\n",
    "'''\n",
    "pred = np.zeros(len(test_input))\n",
    "output_sample = pd.read_csv('sample_submission.csv')\n",
    "output_sample['Survived'] = pred\n",
    "output_sample.to_csv('submission.csv', index=False)"
   ]
  }
 ],
 "metadata": {
  "kernelspec": {
   "display_name": "Python 3",
   "language": "python",
   "name": "python3"
  },
  "language_info": {
   "codemirror_mode": {
    "name": "ipython",
    "version": 3
   },
   "file_extension": ".py",
   "mimetype": "text/x-python",
   "name": "python",
   "nbconvert_exporter": "python",
   "pygments_lexer": "ipython3",
   "version": "3.7.6"
  }
 },
 "nbformat": 4,
 "nbformat_minor": 2
}
