{
  "nbformat": 4,
  "nbformat_minor": 0,
  "metadata": {
    "kernelspec": {
      "display_name": "Python 2",
      "language": "python",
      "name": "python2"
    },
    "language_info": {
      "codemirror_mode": {
        "name": "ipython",
        "version": 2
      },
      "file_extension": ".py",
      "mimetype": "text/x-python",
      "name": "python",
      "nbconvert_exporter": "python",
      "pygments_lexer": "ipython2",
      "version": "2.7.13"
    },
    "colab": {
      "name": "ch12_1_linear_regression_prediction.ipynb",
      "provenance": [],
      "collapsed_sections": []
    }
  },
  "cells": [
    {
      "cell_type": "markdown",
      "metadata": {
        "id": "Vv4fko_0dpvw"
      },
      "source": [
        "수치를 입력해서 수치를 예측하는 모델들에 대해서 알아보겠습니다. 수치예측을 위한 데이터셋 생성을 해보고, 선형회귀를 위한 가장 간단한 퍼셉트론 신경망 모델부터 깊은 다층퍼셉트론 신경망 모델까지 구성 및 학습을 시켜보겠습니다"
      ]
    },
    {
      "cell_type": "markdown",
      "metadata": {
        "id": "47syLAM9dpvx"
      },
      "source": [
        "---\n",
        "### 데이터셋 준비\n",
        "\n",
        "입력 x에 대해 2를 곱해 두 배 정도 값을 갖는 출력 y가 되도록 데이터셋을 생성해봤습니다. 선형회귀 모델을 사용한다면 Y = w * X + b 일 때, w가 2에 가깝고, b가 0.16에 가깝게 되도록 학습시키는 것이 목표입니다."
      ]
    },
    {
      "cell_type": "code",
      "metadata": {
        "id": "Nw3s23tbdpvx"
      },
      "source": [
        "import numpy as np\n",
        "\n",
        "# 데이터셋 생성\n",
        "x_train = np.random.random((1000, 1))\n",
        "y_train = x_train * 2 + np.random.random((1000, 1)) / 3.0\n",
        "x_test = np.random.random((100, 1))\n",
        "y_test = x_test * 2 + np.random.random((100, 1)) / 3.0"
      ],
      "execution_count": 32,
      "outputs": []
    },
    {
      "cell_type": "code",
      "metadata": {
        "colab": {
          "base_uri": "https://localhost:8080/"
        },
        "id": "1mC0sBFBLunY",
        "outputId": "5dfd112a-b59b-4c5a-e77e-91e6018e3606"
      },
      "source": [
        "np.random.random(1)"
      ],
      "execution_count": 33,
      "outputs": [
        {
          "output_type": "execute_result",
          "data": {
            "text/plain": [
              "array([0.27316282])"
            ]
          },
          "metadata": {
            "tags": []
          },
          "execution_count": 33
        }
      ]
    },
    {
      "cell_type": "code",
      "metadata": {
        "colab": {
          "base_uri": "https://localhost:8080/"
        },
        "id": "aBMjW276VxYK",
        "outputId": "20b0be96-bded-48ca-b664-2f54cac6a0df"
      },
      "source": [
        "np.random.random(10)"
      ],
      "execution_count": 34,
      "outputs": [
        {
          "output_type": "execute_result",
          "data": {
            "text/plain": [
              "array([0.96376744, 0.42844743, 0.93669373, 0.79207896, 0.13274795,\n",
              "       0.01960757, 0.38559726, 0.66273568, 0.65063766, 0.99878071])"
            ]
          },
          "metadata": {
            "tags": []
          },
          "execution_count": 34
        }
      ]
    },
    {
      "cell_type": "code",
      "metadata": {
        "colab": {
          "base_uri": "https://localhost:8080/"
        },
        "id": "6JwRIL7_Vyr-",
        "outputId": "3478b142-a525-40e4-afbf-fe80208620b4"
      },
      "source": [
        "np.random.random((10,2))"
      ],
      "execution_count": 36,
      "outputs": [
        {
          "output_type": "execute_result",
          "data": {
            "text/plain": [
              "array([[0.42139745, 0.61421768],\n",
              "       [0.01678797, 0.40242976],\n",
              "       [0.65547378, 0.3940301 ],\n",
              "       [0.67949076, 0.303946  ],\n",
              "       [0.45665071, 0.26686815],\n",
              "       [0.54357989, 0.5543356 ],\n",
              "       [0.48232992, 0.93729166],\n",
              "       [0.14171451, 0.54259208],\n",
              "       [0.54330347, 0.56923872],\n",
              "       [0.33070891, 0.27414893]])"
            ]
          },
          "metadata": {
            "tags": []
          },
          "execution_count": 36
        }
      ]
    },
    {
      "cell_type": "code",
      "metadata": {
        "colab": {
          "base_uri": "https://localhost:8080/"
        },
        "id": "jAUpFTMEV3oB",
        "outputId": "a1d44d79-be26-4de3-9c69-fef9d77e5e32"
      },
      "source": [
        "x_train.shape"
      ],
      "execution_count": 37,
      "outputs": [
        {
          "output_type": "execute_result",
          "data": {
            "text/plain": [
              "(1000, 1)"
            ]
          },
          "metadata": {
            "tags": []
          },
          "execution_count": 37
        }
      ]
    },
    {
      "cell_type": "code",
      "metadata": {
        "colab": {
          "base_uri": "https://localhost:8080/"
        },
        "id": "o7pQJBOxV49S",
        "outputId": "4a8adca6-3aaa-4519-abaa-024d1dccf7bf"
      },
      "source": [
        "y_train.shape"
      ],
      "execution_count": 38,
      "outputs": [
        {
          "output_type": "execute_result",
          "data": {
            "text/plain": [
              "(1000, 1)"
            ]
          },
          "metadata": {
            "tags": []
          },
          "execution_count": 38
        }
      ]
    },
    {
      "cell_type": "code",
      "metadata": {
        "colab": {
          "base_uri": "https://localhost:8080/"
        },
        "id": "WSQ-npH1V6lb",
        "outputId": "e6d027b5-a08d-4e57-83be-35398614db0d"
      },
      "source": [
        "x_train[:10]"
      ],
      "execution_count": 41,
      "outputs": [
        {
          "output_type": "execute_result",
          "data": {
            "text/plain": [
              "array([[0.88421804],\n",
              "       [0.91511513],\n",
              "       [0.54378808],\n",
              "       [0.59385181],\n",
              "       [0.03201887],\n",
              "       [0.76270225],\n",
              "       [0.64428251],\n",
              "       [0.61822492],\n",
              "       [0.76956038],\n",
              "       [0.14003804]])"
            ]
          },
          "metadata": {
            "tags": []
          },
          "execution_count": 41
        }
      ]
    },
    {
      "cell_type": "code",
      "metadata": {
        "colab": {
          "base_uri": "https://localhost:8080/"
        },
        "id": "V6U9FABiWAGD",
        "outputId": "f369d0e9-2a8c-46b0-89fc-e795dd997f3e"
      },
      "source": [
        "y_train[:10]"
      ],
      "execution_count": 42,
      "outputs": [
        {
          "output_type": "execute_result",
          "data": {
            "text/plain": [
              "array([[2.09995086],\n",
              "       [1.93963235],\n",
              "       [1.3760313 ],\n",
              "       [1.27838071],\n",
              "       [0.07840304],\n",
              "       [1.72547768],\n",
              "       [1.5552972 ],\n",
              "       [1.38205329],\n",
              "       [1.77009014],\n",
              "       [0.33879832]])"
            ]
          },
          "metadata": {
            "tags": []
          },
          "execution_count": 42
        }
      ]
    },
    {
      "cell_type": "code",
      "metadata": {
        "colab": {
          "base_uri": "https://localhost:8080/"
        },
        "id": "on_PDClJWEmp",
        "outputId": "0a97ac0d-12fa-488b-8676-1183ff431e38"
      },
      "source": [
        "x_test.shape"
      ],
      "execution_count": 43,
      "outputs": [
        {
          "output_type": "execute_result",
          "data": {
            "text/plain": [
              "(100, 1)"
            ]
          },
          "metadata": {
            "tags": []
          },
          "execution_count": 43
        }
      ]
    },
    {
      "cell_type": "code",
      "metadata": {
        "colab": {
          "base_uri": "https://localhost:8080/",
          "height": 269
        },
        "id": "tKNLtj8XJ8wG",
        "outputId": "09090ad9-afa8-441a-ed81-bdb6612d62d8"
      },
      "source": [
        "# 데이터셋 확인\n",
        "%matplotlib inline\n",
        "import matplotlib.pyplot as plt\n",
        "\n",
        "plt.plot(x_train, y_train, 'ro')\n",
        "plt.plot(x_test, y_test, 'bo')\n",
        "plt.legend(['train', 'test'], loc='upper left')\n",
        "plt.show()"
      ],
      "execution_count": 3,
      "outputs": [
        {
          "output_type": "display_data",
          "data": {
            "image/png": "[encoded data removed]",
            "text/plain": [
              "<Figure size 432x288 with 1 Axes>"
            ]
          },
          "metadata": {
            "tags": [],
            "needs_background": "light"
          }
        }
      ]
    },
    {
      "cell_type": "markdown",
      "metadata": {
        "id": "p19hvT6ydpvy"
      },
      "source": [
        "![img](http://tykimos.github.io/warehouse/2017-8-12-Numerical_Prediction_Model_Recipe_5.png)"
      ]
    },
    {
      "cell_type": "markdown",
      "metadata": {
        "id": "_q3dNddRdpvy"
      },
      "source": [
        "---\n",
        "### 레이어 준비\n",
        "\n",
        "본 장에서 사용되는 블록들은 다음과 같습니다.\n",
        "\n",
        "|블록|이름|설명|\n",
        "|:-:|:-:|:-|\n",
        "|![img](http://tykimos.github.io/warehouse/DeepBrick/Model_Recipe_Part_Dataset_Vector_s.png)|Input data, Labels|1차원의 입력 데이터 및 라벨입니다.|\n",
        "|![img](http://tykimos.github.io/warehouse/DeepBrick/Model_Recipe_Part_Dense_s.png)|Dense|모든 입력 뉴런과 출력 뉴런을 연결하는 전결합층입니다.|\n",
        "|![img](http://tykimos.github.io/warehouse/DeepBrick/Model_Recipe_Part_Activation_Relu_s.png)|relu|활성화 함수로 주로 은닉층에 사용됩니다.|"
      ]
    },
    {
      "cell_type": "markdown",
      "metadata": {
        "id": "YvBOpj1ldpvy"
      },
      "source": [
        "---\n",
        "### 모델 준비\n",
        "\n",
        "수치예측을 하기 위해 `선형회귀 모델`, `퍼셉트론 신경망 모델`, `다층퍼셉트론 신경망 모델`, `깊은 다층퍼셉트론 신경망 모델`을 준비했습니다."
      ]
    },
    {
      "cell_type": "markdown",
      "metadata": {
        "id": "jPQp80r_dpvy"
      },
      "source": [
        "#### 선형회귀 모델\n",
        "\n",
        "가장 간단한 1차 선형회귀 모델로 수치예측을 해보겠습니다. 아래 식에서 x, y는 우리가 만든 데이터셋이고, 회귀분석을 통해서, w와 b값을 구하는 것이 목표입니다. \n",
        "\n",
        "    Y = w * X + b\n",
        "   \n",
        "w와 b값을 구하게 되면, 임의의 입력 x에 대해서 출력 y가 나오는 데 이것이 예측 값입니다. w, b 값은 분산, 공분산, 평균을 이용하여 쉽게 구할 수 있습니다. \n",
        "\n",
        "    w = np.cov(X, Y, bias=1)[0,1] / np.var(X)\n",
        "    b = np.average(Y) - w * np.average(X)\n",
        "    \n",
        "간단한 수식이지만 이 수식을 도출하기란 꽤나 복잡습니다. 오차를 최소화하는 극대값을 구하기 위해 편미분을 수행하고, 다시 식을 전개하는 등등의 과정이 필요합니다.\n",
        "\n",
        "![img](http://tykimos.github.io/warehouse/2017-8-12-Numerical_Prediction_Model_Recipe_0.png)    "
      ]
    },
    {
      "cell_type": "markdown",
      "metadata": {
        "id": "CL6KSzXndpvy"
      },
      "source": [
        "#### 퍼셉트론 신경망 모델\n",
        "\n",
        "Dense 레이어가 하나이고, 뉴런의 수도 하나인 가장 기본적인 퍼셉트론 모델입니다. 즉 웨이트(w) 하나, 바이어스(b) 하나로 전형적인 Y = w * X + b를 풀기 위한 모델입니다. 수치 예측을 하기 위해서 출력 레이어에 별도의 활성화 함수를 사용하지 않았습니다. w, b 값이 손으로 푼 선형회귀 최적해에 근접하려면 경우에 따라 만번이상의 에포크가 필요합니다. 실제로 사용하지는 않는 모델이지만 선형회귀부터 공부하시는 분들에게는 입문 모델로 나쁘지 않습니다.\n",
        "\n",
        "    model = Sequential()\n",
        "    model.add(Dense(1, input_dim=1))\n",
        "        \n",
        "![img](http://tykimos.github.io/warehouse/2017-8-12-Numerical_Prediction_Model_Recipe_1m.png)"
      ]
    },
    {
      "cell_type": "markdown",
      "metadata": {
        "id": "jAQCzs9Edpvy"
      },
      "source": [
        "#### 다층퍼셉트론 신경망 모델\n",
        "\n",
        "Dense 레이어가 두 개인 다층퍼셉트론 모델입니다. 첫 번째 레이어는 64개의 뉴런을 가진 Dense 레이어이고 오류역전파가 용이한 `relu` 활성화 함수를 사용하였습니다. 출력 레이어인 두 번째 레이어는 하나의 수치값을 예측을 하기 위해서 1개의 뉴런을 가지며, 별도의 활성화 함수를 사용하지 않았습니다.\n",
        "\n",
        "    model = Sequential()\n",
        "    model.add(Dense(64, input_dim=1, activation='relu'))\n",
        "    model.add(Dense(1))\n",
        "\n",
        "![img](http://tykimos.github.io/warehouse/2017-8-12-Numerical_Prediction_Model_Recipe_2m.png)"
      ]
    },
    {
      "cell_type": "markdown",
      "metadata": {
        "id": "eYyxVNV1dpvz"
      },
      "source": [
        "#### 깊은 다층퍼셉트론 신경망 모델\n",
        "\n",
        "Dense 레이어가 총 세 개인 다층퍼셉트론 모델입니다. 첫 번째, 두 번째 레이어는 64개의 뉴런을 가진 Dense 레이어이고 오류역전파가 용이한 `relu` 활성화 함수를 사용하였습니다. 출력 레이어인 세 번째 레이어는 하나의 수치값을 예측을 하기 위해서 1개의 뉴런을 가지며, 별도의 활성화 함수를 사용하지 않았습니다.\n",
        "\n",
        "    model = Sequential()\n",
        "    model.add(Dense(64, input_dim=1, activation='relu'))\n",
        "    model.add(Dense(64, activation='relu'))\n",
        "    model.add(Dense(1))\n",
        "    \n",
        "![img](http://tykimos.github.io/warehouse/2017-8-12-Numerical_Prediction_Model_Recipe_3m.png)    "
      ]
    },
    {
      "cell_type": "markdown",
      "metadata": {
        "id": "J3YiYehtdpvz"
      },
      "source": [
        "---\n",
        "### 전체 소스\n",
        "\n",
        "앞서 살펴본 `선형회귀 모델`, `퍼셉트론 신경망 모델`, `다층퍼셉트론 신경망 모델`, `깊은 다층퍼셉트론 신경망 모델`의 전체 소스는 다음과 같습니다. "
      ]
    },
    {
      "cell_type": "markdown",
      "metadata": {
        "id": "H48BvmBadpvz"
      },
      "source": [
        "#### 선형회귀 모델"
      ]
    },
    {
      "cell_type": "code",
      "metadata": {
        "id": "29xEg6xGdpvz"
      },
      "source": [
        "# 0. 사용할 패키지 불러오기\n",
        "import numpy as np\n",
        "from sklearn.metrics import mean_squared_error\n",
        "import random\n",
        "\n",
        "# 1. 데이터셋 생성하기\n",
        "x_train = np.random.random((1000, 1))\n",
        "y_train = x_train * 2 + np.random.random((1000, 1)) / 3.0\n",
        "x_test = np.random.random((100, 1))\n",
        "y_test = x_test * 2 + np.random.random((100, 1)) / 3.0"
      ],
      "execution_count": 46,
      "outputs": []
    },
    {
      "cell_type": "code",
      "metadata": {
        "id": "eme2_4rRKGXH"
      },
      "source": [
        "x_train = x_train.reshape(1000,)\n",
        "y_train = y_train.reshape(1000,)\n",
        "x_test = x_test.reshape(100,)\n",
        "y_test = y_test.reshape(100,)"
      ],
      "execution_count": 49,
      "outputs": []
    },
    {
      "cell_type": "code",
      "metadata": {
        "colab": {
          "base_uri": "https://localhost:8080/"
        },
        "id": "YllWtOVmKIVY",
        "outputId": "408466be-3303-4949-fe27-01700e0f1906"
      },
      "source": [
        "# 2. 모델 구성하기\n",
        "w = np.cov(x_train, y_train, bias=1)[0,1] / np.var(x_train)\n",
        "b = np.average(y_train) - w * np.average(x_train)\n",
        "\n",
        "print w, b"
      ],
      "execution_count": 50,
      "outputs": [
        {
          "output_type": "stream",
          "text": [
            "2.0022520351637603 0.16390785043269807\n"
          ],
          "name": "stdout"
        }
      ]
    },
    {
      "cell_type": "code",
      "metadata": {
        "colab": {
          "base_uri": "https://localhost:8080/"
        },
        "id": "jz_gcMO7WSZy",
        "outputId": "247ff41a-7976-4fb7-949c-70dc60de16e4"
      },
      "source": [
        "np.cov(x_train, y_train, bias=1)"
      ],
      "execution_count": 53,
      "outputs": [
        {
          "output_type": "execute_result",
          "data": {
            "text/plain": [
              "array([[0.08378184, 0.16775236],\n",
              "       [0.16775236, 0.34530847]])"
            ]
          },
          "metadata": {
            "tags": []
          },
          "execution_count": 53
        }
      ]
    },
    {
      "cell_type": "code",
      "metadata": {
        "colab": {
          "base_uri": "https://localhost:8080/"
        },
        "id": "qScNxzBJXVf6",
        "outputId": "21a4b559-34a2-42b8-e38d-5020387d40db"
      },
      "source": [
        "np.cov(x_train, y_train, bias=1)[0,1]"
      ],
      "execution_count": 54,
      "outputs": [
        {
          "output_type": "execute_result",
          "data": {
            "text/plain": [
              "0.16775236379462966"
            ]
          },
          "metadata": {
            "tags": []
          },
          "execution_count": 54
        }
      ]
    },
    {
      "cell_type": "code",
      "metadata": {
        "colab": {
          "base_uri": "https://localhost:8080/"
        },
        "id": "EXr9QfE1XYxh",
        "outputId": "f18246b4-6455-4aba-aad4-978c6cb122e9"
      },
      "source": [
        "np.var(x_train)"
      ],
      "execution_count": 55,
      "outputs": [
        {
          "output_type": "execute_result",
          "data": {
            "text/plain": [
              "0.08378184207010159"
            ]
          },
          "metadata": {
            "tags": []
          },
          "execution_count": 55
        }
      ]
    },
    {
      "cell_type": "code",
      "metadata": {
        "colab": {
          "base_uri": "https://localhost:8080/"
        },
        "id": "fcRD3xs4Xbrg",
        "outputId": "491ed132-3359-4529-fe1f-9957945c503f"
      },
      "source": [
        "x_test[:10]"
      ],
      "execution_count": 56,
      "outputs": [
        {
          "output_type": "execute_result",
          "data": {
            "text/plain": [
              "array([0.39486336, 0.87061356, 0.03439399, 0.68031197, 0.92376035,\n",
              "       0.95592556, 0.5476946 , 0.2488568 , 0.05674763, 0.04044443])"
            ]
          },
          "metadata": {
            "tags": []
          },
          "execution_count": 56
        }
      ]
    },
    {
      "cell_type": "code",
      "metadata": {
        "colab": {
          "base_uri": "https://localhost:8080/"
        },
        "id": "zYZqjpPoKJ_N",
        "outputId": "ac2135ef-8b9d-4689-ae4e-04fe7123c5a3"
      },
      "source": [
        "# 3. 모델 평가하기\n",
        "y_predict = w * x_test + b\n",
        "mse = mean_squared_error(y_test, y_predict)\n",
        "print('mse : ' + str(mse))"
      ],
      "execution_count": 57,
      "outputs": [
        {
          "output_type": "stream",
          "text": [
            "mse : 0.009494342123299243\n"
          ],
          "name": "stdout"
        }
      ]
    },
    {
      "cell_type": "code",
      "metadata": {
        "colab": {
          "base_uri": "https://localhost:8080/"
        },
        "id": "Jmh1lcvmXfPU",
        "outputId": "c83afdd6-e5e0-4cdd-8778-c58a12fc8131"
      },
      "source": [
        "y_test[:10]"
      ],
      "execution_count": 59,
      "outputs": [
        {
          "output_type": "execute_result",
          "data": {
            "text/plain": [
              "array([0.93206348, 1.79448526, 0.31903161, 1.38408604, 1.9533866 ,\n",
              "       1.9957651 , 1.11298363, 0.65489717, 0.28150338, 0.20755533])"
            ]
          },
          "metadata": {
            "tags": []
          },
          "execution_count": 59
        }
      ]
    },
    {
      "cell_type": "code",
      "metadata": {
        "colab": {
          "base_uri": "https://localhost:8080/"
        },
        "id": "Zpv-0DyMXiD4",
        "outputId": "197ff77c-8f9f-4971-8386-2e9047024f63"
      },
      "source": [
        "y_predict[:10]"
      ],
      "execution_count": 60,
      "outputs": [
        {
          "output_type": "execute_result",
          "data": {
            "text/plain": [
              "array([0.95452382, 1.90709562, 0.23277328, 1.52606388, 2.01350889,\n",
              "       2.07791174, 1.26053047, 0.66218189, 0.2775309 , 0.2448878 ])"
            ]
          },
          "metadata": {
            "tags": []
          },
          "execution_count": 60
        }
      ]
    },
    {
      "cell_type": "markdown",
      "metadata": {
        "id": "G4rwwFp5dpvz"
      },
      "source": [
        "#### 퍼셉트론 신경망 신경망 모델"
      ]
    },
    {
      "cell_type": "code",
      "metadata": {
        "id": "9Alg2sEFdpvz",
        "colab": {
          "base_uri": "https://localhost:8080/"
        },
        "outputId": "f24d929c-007f-4b54-b5ae-353fbe48d3af"
      },
      "source": [
        "# 0. 사용할 패키지 불러오기\n",
        "import numpy as np\n",
        "from keras.models import Sequential\n",
        "from keras.layers import Dense\n",
        "import random"
      ],
      "execution_count": 8,
      "outputs": [
        {
          "output_type": "stream",
          "text": [
            "Using TensorFlow backend.\n"
          ],
          "name": "stderr"
        }
      ]
    },
    {
      "cell_type": "code",
      "metadata": {
        "id": "pOzap2ZWKMjh"
      },
      "source": [
        "# 1. 데이터셋 생성하기\n",
        "x_train = np.random.random((1000, 1))\n",
        "y_train = x_train * 2 + np.random.random((1000, 1)) / 3.0\n",
        "x_test = np.random.random((100, 1))\n",
        "y_test = x_test * 2 + np.random.random((100, 1)) / 3.0"
      ],
      "execution_count": 9,
      "outputs": []
    },
    {
      "cell_type": "code",
      "metadata": {
        "id": "4mRoLrxFKPaW"
      },
      "source": [
        "# 2. 모델 구성하기\n",
        "model = Sequential()\n",
        "model.add(Dense(1, input_dim=1))"
      ],
      "execution_count": 10,
      "outputs": []
    },
    {
      "cell_type": "code",
      "metadata": {
        "id": "tAJY8c2FKQeB"
      },
      "source": [
        "# 3. 모델 학습과정 설정하기\n",
        "model.compile(optimizer='rmsprop', loss='mse')"
      ],
      "execution_count": 11,
      "outputs": []
    },
    {
      "cell_type": "code",
      "metadata": {
        "colab": {
          "base_uri": "https://localhost:8080/"
        },
        "id": "XrwOs0YgMt4o",
        "outputId": "cecc6609-c5ba-4e69-82d8-d79576a779d1"
      },
      "source": [
        "model.summary()"
      ],
      "execution_count": 12,
      "outputs": [
        {
          "output_type": "stream",
          "text": [
            "Model: \"sequential_1\"\n",
            "_________________________________________________________________\n",
            "Layer (type)                 Output Shape              Param #   \n",
            "=================================================================\n",
            "dense_1 (Dense)              (None, 1)                 2         \n",
            "=================================================================\n",
            "Total params: 2\n",
            "Trainable params: 2\n",
            "Non-trainable params: 0\n",
            "_________________________________________________________________\n"
          ],
          "name": "stdout"
        }
      ]
    },
    {
      "cell_type": "code",
      "metadata": {
        "colab": {
          "base_uri": "https://localhost:8080/"
        },
        "id": "SMjhFDgnKSAa",
        "outputId": "14d5c430-3187-408d-8699-7b878cb5d1a5"
      },
      "source": [
        "# 4. 모델 학습시키기\n",
        "hist = model.fit(x_train, y_train, epochs=50, batch_size=64)"
      ],
      "execution_count": 13,
      "outputs": [
        {
          "output_type": "stream",
          "text": [
            "Epoch 1/50\n",
            "1000/1000 [==============================] - 0s 196us/step - loss: 0.3478\n",
            "Epoch 2/50\n",
            "1000/1000 [==============================] - 0s 18us/step - loss: 0.3164\n",
            "Epoch 3/50\n",
            "1000/1000 [==============================] - 0s 18us/step - loss: 0.2904\n",
            "Epoch 4/50\n",
            "1000/1000 [==============================] - 0s 19us/step - loss: 0.2661\n",
            "Epoch 5/50\n",
            "1000/1000 [==============================] - 0s 18us/step - loss: 0.2433\n",
            "Epoch 6/50\n",
            "1000/1000 [==============================] - 0s 24us/step - loss: 0.2215\n",
            "Epoch 7/50\n",
            "1000/1000 [==============================] - 0s 20us/step - loss: 0.2008\n",
            "Epoch 8/50\n",
            "1000/1000 [==============================] - 0s 18us/step - loss: 0.1815\n",
            "Epoch 9/50\n",
            "1000/1000 [==============================] - 0s 17us/step - loss: 0.1632\n",
            "Epoch 10/50\n",
            "1000/1000 [==============================] - 0s 17us/step - loss: 0.1460\n",
            "Epoch 11/50\n",
            "1000/1000 [==============================] - 0s 25us/step - loss: 0.1302\n",
            "Epoch 12/50\n",
            "1000/1000 [==============================] - 0s 28us/step - loss: 0.1154\n",
            "Epoch 13/50\n",
            "1000/1000 [==============================] - 0s 22us/step - loss: 0.1016\n",
            "Epoch 14/50\n",
            "1000/1000 [==============================] - 0s 22us/step - loss: 0.0890\n",
            "Epoch 15/50\n",
            "1000/1000 [==============================] - 0s 25us/step - loss: 0.0777\n",
            "Epoch 16/50\n",
            "1000/1000 [==============================] - 0s 22us/step - loss: 0.0673\n",
            "Epoch 17/50\n",
            "1000/1000 [==============================] - 0s 21us/step - loss: 0.0582\n",
            "Epoch 18/50\n",
            "1000/1000 [==============================] - 0s 25us/step - loss: 0.0502\n",
            "Epoch 19/50\n",
            "1000/1000 [==============================] - 0s 23us/step - loss: 0.0432\n",
            "Epoch 20/50\n",
            "1000/1000 [==============================] - 0s 19us/step - loss: 0.0373\n",
            "Epoch 21/50\n",
            "1000/1000 [==============================] - 0s 20us/step - loss: 0.0324\n",
            "Epoch 22/50\n",
            "1000/1000 [==============================] - 0s 19us/step - loss: 0.0286\n",
            "Epoch 23/50\n",
            "1000/1000 [==============================] - 0s 21us/step - loss: 0.0257\n",
            "Epoch 24/50\n",
            "1000/1000 [==============================] - 0s 28us/step - loss: 0.0237\n",
            "Epoch 25/50\n",
            "1000/1000 [==============================] - 0s 21us/step - loss: 0.0224\n",
            "Epoch 26/50\n",
            "1000/1000 [==============================] - 0s 21us/step - loss: 0.0215\n",
            "Epoch 27/50\n",
            "1000/1000 [==============================] - 0s 26us/step - loss: 0.0207\n",
            "Epoch 28/50\n",
            "1000/1000 [==============================] - 0s 21us/step - loss: 0.0199\n",
            "Epoch 29/50\n",
            "1000/1000 [==============================] - 0s 20us/step - loss: 0.0191\n",
            "Epoch 30/50\n",
            "1000/1000 [==============================] - 0s 23us/step - loss: 0.0183\n",
            "Epoch 31/50\n",
            "1000/1000 [==============================] - 0s 22us/step - loss: 0.0176\n",
            "Epoch 32/50\n",
            "1000/1000 [==============================] - 0s 25us/step - loss: 0.0168\n",
            "Epoch 33/50\n",
            "1000/1000 [==============================] - 0s 32us/step - loss: 0.0161\n",
            "Epoch 34/50\n",
            "1000/1000 [==============================] - 0s 23us/step - loss: 0.0154\n",
            "Epoch 35/50\n",
            "1000/1000 [==============================] - 0s 26us/step - loss: 0.0148\n",
            "Epoch 36/50\n",
            "1000/1000 [==============================] - 0s 20us/step - loss: 0.0142\n",
            "Epoch 37/50\n",
            "1000/1000 [==============================] - 0s 22us/step - loss: 0.0137\n",
            "Epoch 38/50\n",
            "1000/1000 [==============================] - 0s 20us/step - loss: 0.0132\n",
            "Epoch 39/50\n",
            "1000/1000 [==============================] - 0s 21us/step - loss: 0.0127\n",
            "Epoch 40/50\n",
            "1000/1000 [==============================] - 0s 20us/step - loss: 0.0123\n",
            "Epoch 41/50\n",
            "1000/1000 [==============================] - 0s 22us/step - loss: 0.0120\n",
            "Epoch 42/50\n",
            "1000/1000 [==============================] - 0s 21us/step - loss: 0.0116\n",
            "Epoch 43/50\n",
            "1000/1000 [==============================] - 0s 26us/step - loss: 0.0113\n",
            "Epoch 44/50\n",
            "1000/1000 [==============================] - 0s 23us/step - loss: 0.0110\n",
            "Epoch 45/50\n",
            "1000/1000 [==============================] - 0s 25us/step - loss: 0.0107\n",
            "Epoch 46/50\n",
            "1000/1000 [==============================] - 0s 24us/step - loss: 0.0105\n",
            "Epoch 47/50\n",
            "1000/1000 [==============================] - 0s 21us/step - loss: 0.0103\n",
            "Epoch 48/50\n",
            "1000/1000 [==============================] - 0s 21us/step - loss: 0.0101\n",
            "Epoch 49/50\n",
            "1000/1000 [==============================] - 0s 20us/step - loss: 0.0100\n",
            "Epoch 50/50\n",
            "1000/1000 [==============================] - 0s 21us/step - loss: 0.0099\n",
            "[[1.9157553]] [0.21047375]\n"
          ],
          "name": "stdout"
        }
      ]
    },
    {
      "cell_type": "code",
      "metadata": {
        "id": "QyclnfJ7XpIr"
      },
      "source": [
        "w, b = model.get_weights()\n",
        "print w, b"
      ],
      "execution_count": null,
      "outputs": []
    },
    {
      "cell_type": "code",
      "metadata": {
        "colab": {
          "base_uri": "https://localhost:8080/",
          "height": 283
        },
        "id": "lT0C1y4aKS-R",
        "outputId": "baf5b683-aace-4590-e1f1-5418615f49d2"
      },
      "source": [
        "# 5. 학습과정 살펴보기\n",
        "%matplotlib inline\n",
        "import matplotlib.pyplot as plt\n",
        "\n",
        "plt.plot(hist.history['loss'])\n",
        "plt.ylim(0.0, 1.5)\n",
        "plt.ylabel('loss')\n",
        "plt.xlabel('epoch')\n",
        "plt.legend(['train'], loc='upper left')\n",
        "plt.show()"
      ],
      "execution_count": 14,
      "outputs": [
        {
          "output_type": "display_data",
          "data": {
            "image/png": "[encoded data removed]",
            "text/plain": [
              "<Figure size 432x288 with 1 Axes>"
            ]
          },
          "metadata": {
            "tags": [],
            "needs_background": "light"
          }
        }
      ]
    },
    {
      "cell_type": "code",
      "metadata": {
        "colab": {
          "base_uri": "https://localhost:8080/"
        },
        "id": "Yc_aDQnKKUjO",
        "outputId": "eb10853a-a228-4958-f2e3-fe005b3eb9fe"
      },
      "source": [
        "# 6. 모델 평가하기\n",
        "loss = model.evaluate(x_test, y_test, batch_size=32)\n",
        "print('loss : ' + str(loss))"
      ],
      "execution_count": 15,
      "outputs": [
        {
          "output_type": "stream",
          "text": [
            "100/100 [==============================] - 0s 174us/step\n",
            "loss : 0.00964302767999\n"
          ],
          "name": "stdout"
        }
      ]
    },
    {
      "cell_type": "markdown",
      "metadata": {
        "id": "CK5gHq7jdpv0"
      },
      "source": [
        "#### 다층퍼셉트론 신경망 모델"
      ]
    },
    {
      "cell_type": "code",
      "metadata": {
        "id": "7VbVpjzRdpv0"
      },
      "source": [
        "# 0. 사용할 패키지 불러오기\n",
        "import numpy as np\n",
        "from keras.models import Sequential\n",
        "from keras.layers import Dense\n",
        "import random"
      ],
      "execution_count": 16,
      "outputs": []
    },
    {
      "cell_type": "code",
      "metadata": {
        "id": "a5Tvc8MeKWrJ"
      },
      "source": [
        "# 1. 데이터셋 생성하기\n",
        "x_train = np.random.random((1000, 1))\n",
        "y_train = x_train * 2 + np.random.random((1000, 1)) / 3.0\n",
        "x_test = np.random.random((100, 1))\n",
        "y_test = x_test * 2 + np.random.random((100, 1)) / 3.0"
      ],
      "execution_count": 17,
      "outputs": []
    },
    {
      "cell_type": "code",
      "metadata": {
        "id": "PeUXMvVmKYNa"
      },
      "source": [
        "# 2. 모델 구성하기\n",
        "model = Sequential()\n",
        "model.add(Dense(64, input_dim=1, activation='relu'))\n",
        "model.add(Dense(1))"
      ],
      "execution_count": 18,
      "outputs": []
    },
    {
      "cell_type": "code",
      "metadata": {
        "id": "biU0MNXsKZu8"
      },
      "source": [
        "# 3. 모델 학습과정 설정하기\n",
        "model.compile(optimizer='rmsprop', loss='mse')"
      ],
      "execution_count": 19,
      "outputs": []
    },
    {
      "cell_type": "code",
      "metadata": {
        "colab": {
          "base_uri": "https://localhost:8080/"
        },
        "id": "rotmqWytMmOA",
        "outputId": "711061bd-3468-4a69-cb8c-3943af3b391b"
      },
      "source": [
        "model.summary()"
      ],
      "execution_count": 20,
      "outputs": [
        {
          "output_type": "stream",
          "text": [
            "Model: \"sequential_2\"\n",
            "_________________________________________________________________\n",
            "Layer (type)                 Output Shape              Param #   \n",
            "=================================================================\n",
            "dense_2 (Dense)              (None, 64)                128       \n",
            "_________________________________________________________________\n",
            "dense_3 (Dense)              (None, 1)                 65        \n",
            "=================================================================\n",
            "Total params: 193\n",
            "Trainable params: 193\n",
            "Non-trainable params: 0\n",
            "_________________________________________________________________\n"
          ],
          "name": "stdout"
        }
      ]
    },
    {
      "cell_type": "code",
      "metadata": {
        "colab": {
          "base_uri": "https://localhost:8080/"
        },
        "id": "xIApGHIgKbaf",
        "outputId": "8125a527-8b61-4c82-fdc3-bc6f4b1b4728"
      },
      "source": [
        "# 4. 모델 학습시키기\n",
        "hist = model.fit(x_train, y_train, epochs=50, batch_size=64)"
      ],
      "execution_count": 21,
      "outputs": [
        {
          "output_type": "stream",
          "text": [
            "Epoch 1/50\n",
            "1000/1000 [==============================] - 0s 78us/step - loss: 1.2143\n",
            "Epoch 2/50\n",
            "1000/1000 [==============================] - 0s 23us/step - loss: 0.8020\n",
            "Epoch 3/50\n",
            "1000/1000 [==============================] - 0s 23us/step - loss: 0.5234\n",
            "Epoch 4/50\n",
            "1000/1000 [==============================] - 0s 22us/step - loss: 0.3193\n",
            "Epoch 5/50\n",
            "1000/1000 [==============================] - 0s 22us/step - loss: 0.1787\n",
            "Epoch 6/50\n",
            "1000/1000 [==============================] - 0s 22us/step - loss: 0.0951\n",
            "Epoch 7/50\n",
            "1000/1000 [==============================] - 0s 24us/step - loss: 0.0595\n",
            "Epoch 8/50\n",
            "1000/1000 [==============================] - 0s 22us/step - loss: 0.0472\n",
            "Epoch 9/50\n",
            "1000/1000 [==============================] - 0s 21us/step - loss: 0.0373\n",
            "Epoch 10/50\n",
            "1000/1000 [==============================] - 0s 20us/step - loss: 0.0279\n",
            "Epoch 11/50\n",
            "1000/1000 [==============================] - 0s 29us/step - loss: 0.0203\n",
            "Epoch 12/50\n",
            "1000/1000 [==============================] - 0s 27us/step - loss: 0.0148\n",
            "Epoch 13/50\n",
            "1000/1000 [==============================] - 0s 24us/step - loss: 0.0115\n",
            "Epoch 14/50\n",
            "1000/1000 [==============================] - 0s 27us/step - loss: 0.0100\n",
            "Epoch 15/50\n",
            "1000/1000 [==============================] - 0s 23us/step - loss: 0.0097\n",
            "Epoch 16/50\n",
            "1000/1000 [==============================] - 0s 24us/step - loss: 0.0095\n",
            "Epoch 17/50\n",
            "1000/1000 [==============================] - 0s 23us/step - loss: 0.0096\n",
            "Epoch 18/50\n",
            "1000/1000 [==============================] - 0s 25us/step - loss: 0.0095\n",
            "Epoch 19/50\n",
            "1000/1000 [==============================] - 0s 27us/step - loss: 0.0096\n",
            "Epoch 20/50\n",
            "1000/1000 [==============================] - 0s 23us/step - loss: 0.0096\n",
            "Epoch 21/50\n",
            "1000/1000 [==============================] - 0s 24us/step - loss: 0.0096\n",
            "Epoch 22/50\n",
            "1000/1000 [==============================] - 0s 24us/step - loss: 0.0096\n",
            "Epoch 23/50\n",
            "1000/1000 [==============================] - 0s 24us/step - loss: 0.0096\n",
            "Epoch 24/50\n",
            "1000/1000 [==============================] - 0s 30us/step - loss: 0.0096\n",
            "Epoch 25/50\n",
            "1000/1000 [==============================] - 0s 30us/step - loss: 0.0095\n",
            "Epoch 26/50\n",
            "1000/1000 [==============================] - 0s 26us/step - loss: 0.0096\n",
            "Epoch 27/50\n",
            "1000/1000 [==============================] - 0s 23us/step - loss: 0.0096\n",
            "Epoch 28/50\n",
            "1000/1000 [==============================] - 0s 36us/step - loss: 0.0096\n",
            "Epoch 29/50\n",
            "1000/1000 [==============================] - 0s 22us/step - loss: 0.0097\n",
            "Epoch 30/50\n",
            "1000/1000 [==============================] - 0s 21us/step - loss: 0.0096\n",
            "Epoch 31/50\n",
            "1000/1000 [==============================] - 0s 20us/step - loss: 0.0096\n",
            "Epoch 32/50\n",
            "1000/1000 [==============================] - 0s 20us/step - loss: 0.0096\n",
            "Epoch 33/50\n",
            "1000/1000 [==============================] - 0s 21us/step - loss: 0.0097\n",
            "Epoch 34/50\n",
            "1000/1000 [==============================] - 0s 25us/step - loss: 0.0096\n",
            "Epoch 35/50\n",
            "1000/1000 [==============================] - 0s 23us/step - loss: 0.0096\n",
            "Epoch 36/50\n",
            "1000/1000 [==============================] - 0s 31us/step - loss: 0.0096\n",
            "Epoch 37/50\n",
            "1000/1000 [==============================] - 0s 20us/step - loss: 0.0097\n",
            "Epoch 38/50\n",
            "1000/1000 [==============================] - 0s 22us/step - loss: 0.0096\n",
            "Epoch 39/50\n",
            "1000/1000 [==============================] - 0s 21us/step - loss: 0.0096\n",
            "Epoch 40/50\n",
            "1000/1000 [==============================] - 0s 21us/step - loss: 0.0096\n",
            "Epoch 41/50\n",
            "1000/1000 [==============================] - 0s 21us/step - loss: 0.0097\n",
            "Epoch 42/50\n",
            "1000/1000 [==============================] - 0s 20us/step - loss: 0.0095\n",
            "Epoch 43/50\n",
            "1000/1000 [==============================] - 0s 23us/step - loss: 0.0097\n",
            "Epoch 44/50\n",
            "1000/1000 [==============================] - 0s 32us/step - loss: 0.0096\n",
            "Epoch 45/50\n",
            "1000/1000 [==============================] - 0s 25us/step - loss: 0.0095\n",
            "Epoch 46/50\n",
            "1000/1000 [==============================] - 0s 22us/step - loss: 0.0097\n",
            "Epoch 47/50\n",
            "1000/1000 [==============================] - 0s 21us/step - loss: 0.0096\n",
            "Epoch 48/50\n",
            "1000/1000 [==============================] - 0s 21us/step - loss: 0.0096\n",
            "Epoch 49/50\n",
            "1000/1000 [==============================] - 0s 21us/step - loss: 0.0096\n",
            "Epoch 50/50\n",
            "1000/1000 [==============================] - 0s 25us/step - loss: 0.0096\n"
          ],
          "name": "stdout"
        }
      ]
    },
    {
      "cell_type": "code",
      "metadata": {
        "colab": {
          "base_uri": "https://localhost:8080/",
          "height": 283
        },
        "id": "NR0AgjEUKctk",
        "outputId": "a41f4a50-9e2b-433a-da50-79e404173b01"
      },
      "source": [
        "# 5. 학습과정 살펴보기\n",
        "%matplotlib inline\n",
        "import matplotlib.pyplot as plt\n",
        "\n",
        "plt.plot(hist.history['loss'])\n",
        "plt.ylim(0.0, 1.5)\n",
        "plt.ylabel('loss')\n",
        "plt.xlabel('epoch')\n",
        "plt.legend(['train'], loc='upper left')\n",
        "plt.show()"
      ],
      "execution_count": 22,
      "outputs": [
        {
          "output_type": "display_data",
          "data": {
            "image/png": "[encoded data removed]",
            "text/plain": [
              "<Figure size 432x288 with 1 Axes>"
            ]
          },
          "metadata": {
            "tags": [],
            "needs_background": "light"
          }
        }
      ]
    },
    {
      "cell_type": "code",
      "metadata": {
        "colab": {
          "base_uri": "https://localhost:8080/"
        },
        "id": "NuQe7Qu7KeLG",
        "outputId": "a20fc2cd-26f6-4967-9e6a-1b83e579ccfc"
      },
      "source": [
        "# 6. 모델 평가하기\n",
        "loss = model.evaluate(x_test, y_test, batch_size=32)\n",
        "print('loss : ' + str(loss))"
      ],
      "execution_count": 23,
      "outputs": [
        {
          "output_type": "stream",
          "text": [
            "100/100 [==============================] - 0s 191us/step\n",
            "loss : 0.00849732551724\n"
          ],
          "name": "stdout"
        }
      ]
    },
    {
      "cell_type": "markdown",
      "metadata": {
        "id": "981OrQjqdpv0"
      },
      "source": [
        "#### 깊은 다층퍼셉트론 신경망 모델"
      ]
    },
    {
      "cell_type": "code",
      "metadata": {
        "id": "ZxHucjuudpv0"
      },
      "source": [
        "# 0. 사용할 패키지 불러오기\n",
        "import numpy as np\n",
        "from keras.models import Sequential\n",
        "from keras.layers import Dense\n",
        "import random"
      ],
      "execution_count": 24,
      "outputs": []
    },
    {
      "cell_type": "code",
      "metadata": {
        "id": "R3RqX96fKgFG"
      },
      "source": [
        "# 1. 데이터셋 생성하기\n",
        "x_train = np.random.random((1000, 1))\n",
        "y_train = x_train * 2 + np.random.random((1000, 1)) / 3.0\n",
        "x_test = np.random.random((100, 1))\n",
        "y_test = x_test * 2 + np.random.random((100, 1)) / 3.0"
      ],
      "execution_count": 25,
      "outputs": []
    },
    {
      "cell_type": "code",
      "metadata": {
        "id": "tqYWmZwjKh3g"
      },
      "source": [
        "# 2. 모델 구성하기\n",
        "model = Sequential()\n",
        "model.add(Dense(64, input_dim=1, activation='relu'))\n",
        "model.add(Dense(64, activation='relu'))\n",
        "model.add(Dense(1))"
      ],
      "execution_count": 26,
      "outputs": []
    },
    {
      "cell_type": "code",
      "metadata": {
        "id": "hWMjFG0fKjYA"
      },
      "source": [
        "# 3. 모델 학습과정 설정하기\n",
        "model.compile(optimizer='rmsprop', loss='mse')"
      ],
      "execution_count": 27,
      "outputs": []
    },
    {
      "cell_type": "code",
      "metadata": {
        "colab": {
          "base_uri": "https://localhost:8080/"
        },
        "id": "l-ZY1Hv3Mpwk",
        "outputId": "7c4e32e8-bc5a-4fe0-8f25-5484608ba41a"
      },
      "source": [
        "model.summary()"
      ],
      "execution_count": 28,
      "outputs": [
        {
          "output_type": "stream",
          "text": [
            "Model: \"sequential_3\"\n",
            "_________________________________________________________________\n",
            "Layer (type)                 Output Shape              Param #   \n",
            "=================================================================\n",
            "dense_4 (Dense)              (None, 64)                128       \n",
            "_________________________________________________________________\n",
            "dense_5 (Dense)              (None, 64)                4160      \n",
            "_________________________________________________________________\n",
            "dense_6 (Dense)              (None, 1)                 65        \n",
            "=================================================================\n",
            "Total params: 4,353\n",
            "Trainable params: 4,353\n",
            "Non-trainable params: 0\n",
            "_________________________________________________________________\n"
          ],
          "name": "stdout"
        }
      ]
    },
    {
      "cell_type": "code",
      "metadata": {
        "colab": {
          "base_uri": "https://localhost:8080/"
        },
        "id": "Z0t9ZVM1KlH1",
        "outputId": "23051473-bb62-40d5-8c95-06b880b93380"
      },
      "source": [
        "# 4. 모델 학습시키기\n",
        "hist = model.fit(x_train, y_train, epochs=50, batch_size=64)"
      ],
      "execution_count": 29,
      "outputs": [
        {
          "output_type": "stream",
          "text": [
            "Epoch 1/50\n",
            "1000/1000 [==============================] - 0s 91us/step - loss: 0.9955\n",
            "Epoch 2/50\n",
            "1000/1000 [==============================] - 0s 26us/step - loss: 0.1790\n",
            "Epoch 3/50\n",
            "1000/1000 [==============================] - 0s 26us/step - loss: 0.0342\n",
            "Epoch 4/50\n",
            "1000/1000 [==============================] - 0s 28us/step - loss: 0.0191\n",
            "Epoch 5/50\n",
            "1000/1000 [==============================] - 0s 25us/step - loss: 0.0116\n",
            "Epoch 6/50\n",
            "1000/1000 [==============================] - 0s 26us/step - loss: 0.0099\n",
            "Epoch 7/50\n",
            "1000/1000 [==============================] - 0s 25us/step - loss: 0.0103\n",
            "Epoch 8/50\n",
            "1000/1000 [==============================] - 0s 25us/step - loss: 0.0099\n",
            "Epoch 9/50\n",
            "1000/1000 [==============================] - 0s 24us/step - loss: 0.0102\n",
            "Epoch 10/50\n",
            "1000/1000 [==============================] - 0s 35us/step - loss: 0.0100\n",
            "Epoch 11/50\n",
            "1000/1000 [==============================] - 0s 22us/step - loss: 0.0102\n",
            "Epoch 12/50\n",
            "1000/1000 [==============================] - 0s 22us/step - loss: 0.0101\n",
            "Epoch 13/50\n",
            "1000/1000 [==============================] - 0s 21us/step - loss: 0.0105\n",
            "Epoch 14/50\n",
            "1000/1000 [==============================] - 0s 23us/step - loss: 0.0098\n",
            "Epoch 15/50\n",
            "1000/1000 [==============================] - 0s 34us/step - loss: 0.0106\n",
            "Epoch 16/50\n",
            "1000/1000 [==============================] - 0s 25us/step - loss: 0.0099\n",
            "Epoch 17/50\n",
            "1000/1000 [==============================] - 0s 23us/step - loss: 0.0102\n",
            "Epoch 18/50\n",
            "1000/1000 [==============================] - 0s 23us/step - loss: 0.0100\n",
            "Epoch 19/50\n",
            "1000/1000 [==============================] - 0s 23us/step - loss: 0.0102\n",
            "Epoch 20/50\n",
            "1000/1000 [==============================] - 0s 33us/step - loss: 0.0097\n",
            "Epoch 21/50\n",
            "1000/1000 [==============================] - 0s 25us/step - loss: 0.0103\n",
            "Epoch 22/50\n",
            "1000/1000 [==============================] - 0s 31us/step - loss: 0.0101\n",
            "Epoch 23/50\n",
            "1000/1000 [==============================] - 0s 24us/step - loss: 0.0100\n",
            "Epoch 24/50\n",
            "1000/1000 [==============================] - 0s 33us/step - loss: 0.0101\n",
            "Epoch 25/50\n",
            "1000/1000 [==============================] - 0s 23us/step - loss: 0.0098\n",
            "Epoch 26/50\n",
            "1000/1000 [==============================] - 0s 25us/step - loss: 0.0100\n",
            "Epoch 27/50\n",
            "1000/1000 [==============================] - 0s 28us/step - loss: 0.0099\n",
            "Epoch 28/50\n",
            "1000/1000 [==============================] - 0s 24us/step - loss: 0.0102\n",
            "Epoch 29/50\n",
            "1000/1000 [==============================] - 0s 32us/step - loss: 0.0101\n",
            "Epoch 30/50\n",
            "1000/1000 [==============================] - 0s 24us/step - loss: 0.0100\n",
            "Epoch 31/50\n",
            "1000/1000 [==============================] - 0s 25us/step - loss: 0.0099\n",
            "Epoch 32/50\n",
            "1000/1000 [==============================] - 0s 30us/step - loss: 0.0101\n",
            "Epoch 33/50\n",
            "1000/1000 [==============================] - 0s 32us/step - loss: 0.0101\n",
            "Epoch 34/50\n",
            "1000/1000 [==============================] - 0s 23us/step - loss: 0.0100\n",
            "Epoch 35/50\n",
            "1000/1000 [==============================] - 0s 25us/step - loss: 0.0099\n",
            "Epoch 36/50\n",
            "1000/1000 [==============================] - 0s 22us/step - loss: 0.0102\n",
            "Epoch 37/50\n",
            "1000/1000 [==============================] - 0s 36us/step - loss: 0.0101\n",
            "Epoch 38/50\n",
            "1000/1000 [==============================] - 0s 34us/step - loss: 0.0100\n",
            "Epoch 39/50\n",
            "1000/1000 [==============================] - 0s 29us/step - loss: 0.0101\n",
            "Epoch 40/50\n",
            "1000/1000 [==============================] - 0s 31us/step - loss: 0.0099\n",
            "Epoch 41/50\n",
            "1000/1000 [==============================] - 0s 31us/step - loss: 0.0100\n",
            "Epoch 42/50\n",
            "1000/1000 [==============================] - 0s 27us/step - loss: 0.0103\n",
            "Epoch 43/50\n",
            "1000/1000 [==============================] - 0s 29us/step - loss: 0.0100\n",
            "Epoch 44/50\n",
            "1000/1000 [==============================] - 0s 22us/step - loss: 0.0101\n",
            "Epoch 45/50\n",
            "1000/1000 [==============================] - 0s 26us/step - loss: 0.0101\n",
            "Epoch 46/50\n",
            "1000/1000 [==============================] - 0s 30us/step - loss: 0.0098\n",
            "Epoch 47/50\n",
            "1000/1000 [==============================] - 0s 24us/step - loss: 0.0099\n",
            "Epoch 48/50\n",
            "1000/1000 [==============================] - 0s 25us/step - loss: 0.0103\n",
            "Epoch 49/50\n",
            "1000/1000 [==============================] - 0s 26us/step - loss: 0.0096\n",
            "Epoch 50/50\n",
            "1000/1000 [==============================] - 0s 28us/step - loss: 0.0098\n"
          ],
          "name": "stdout"
        }
      ]
    },
    {
      "cell_type": "code",
      "metadata": {
        "colab": {
          "base_uri": "https://localhost:8080/",
          "height": 283
        },
        "id": "d3AtLMMmKmfo",
        "outputId": "9d909203-2dda-45e5-f4e0-f10f2d899bfc"
      },
      "source": [
        "# 5. 학습과정 살펴보기\n",
        "%matplotlib inline\n",
        "import matplotlib.pyplot as plt\n",
        "\n",
        "plt.plot(hist.history['loss'])\n",
        "plt.ylim(0.0, 1.5)\n",
        "plt.ylabel('loss')\n",
        "plt.xlabel('epoch')\n",
        "plt.legend(['train'], loc='upper left')\n",
        "plt.show()"
      ],
      "execution_count": 30,
      "outputs": [
        {
          "output_type": "display_data",
          "data": {
            "image/png": "[encoded data removed]",
            "text/plain": [
              "<Figure size 432x288 with 1 Axes>"
            ]
          },
          "metadata": {
            "tags": [],
            "needs_background": "light"
          }
        }
      ]
    },
    {
      "cell_type": "code",
      "metadata": {
        "colab": {
          "base_uri": "https://localhost:8080/"
        },
        "id": "rgFt2Ye1KoDV",
        "outputId": "c3db5c8b-40b2-4123-e18b-7239a8dc1494"
      },
      "source": [
        "# 6. 모델 평가하기\n",
        "loss = model.evaluate(x_test, y_test, batch_size=32)\n",
        "print('loss : ' + str(loss))"
      ],
      "execution_count": 31,
      "outputs": [
        {
          "output_type": "stream",
          "text": [
            "100/100 [==============================] - 0s 211us/step\n",
            "loss : 0.0114833716303\n"
          ],
          "name": "stdout"
        }
      ]
    },
    {
      "cell_type": "markdown",
      "metadata": {
        "id": "OZm94O7Qdpv0"
      },
      "source": [
        "---\n",
        "\n",
        "### 학습결과 비교\n",
        "\n",
        "퍼셉트론 신경망 모델 > 다층퍼셉트론 신경망 모델 > 깊은 다층퍼셉트론 신경망 모델 순으로 학습이 좀 더 빨리 되는 것을 확인할 수 있습니다.\n",
        "\n",
        "|퍼셉트론 신경망 모델|다층퍼셉트론 신경망 모델|깊은 다층퍼셉트론 신경망 모델|\n",
        "|:-:|:-:|:-:|\n",
        "|![img](http://tykimos.github.io/warehouse/2017-8-12-Numerical_Prediction_Model_Recipe_6.png)|![img](http://tykimos.github.io/warehouse/2017-8-12-Numerical_Prediction_Model_Recipe_7.png)|![img](http://tykimos.github.io/warehouse/2017-8-12-Numerical_Prediction_Model_Recipe_8.png)|"
      ]
    },
    {
      "cell_type": "markdown",
      "metadata": {
        "id": "oLLHHMItdpv0"
      },
      "source": [
        "---\n",
        "\n",
        "### 요약\n",
        "\n",
        "수치예측을 위한 퍼셉트론 신경망 모델, 다층퍼셉트론 신경망 모델, 깊은 다층퍼셉트론 신경망 모델을 살펴보고, 그 성능을 확인 해봤습니다.\n",
        "\n",
        "![img](http://tykimos.github.io/warehouse/2017-8-12-Numerical_Prediction_Model_Recipe_4m.png)"
      ]
    }
  ]
}